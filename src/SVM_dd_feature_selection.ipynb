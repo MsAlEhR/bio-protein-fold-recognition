{
 "cells": [
  {
   "cell_type": "markdown",
   "metadata": {},
   "source": [
    "## Training SVM classifier on DD_bigram dataset"
   ]
  },
  {
   "cell_type": "markdown",
   "metadata": {},
   "source": [
    "The first step is to read dataset from CSV file"
   ]
  },
  {
   "cell_type": "code",
   "execution_count": 1,
   "metadata": {},
   "outputs": [],
   "source": [
    "import pandas as pd\n",
    "from sklearn import preprocessing\n",
    "\n",
    "\n",
    "#dd_dataset = pd.read_csv('./dataset/dd_pssm_dataset_improved.csv')\n",
    "# Add separated dimers feature extraction\n",
    "\n",
    "dd_dataset = pd.read_csv('./dataset/pca_spd.csv')"
   ]
  },
  {
   "cell_type": "code",
   "execution_count": 2,
   "metadata": {},
   "outputs": [
    {
     "data": {
      "text/html": [
       "<div>\n",
       "<style scoped>\n",
       "    .dataframe tbody tr th:only-of-type {\n",
       "        vertical-align: middle;\n",
       "    }\n",
       "\n",
       "    .dataframe tbody tr th {\n",
       "        vertical-align: top;\n",
       "    }\n",
       "\n",
       "    .dataframe thead th {\n",
       "        text-align: right;\n",
       "    }\n",
       "</style>\n",
       "<table border=\"1\" class=\"dataframe\">\n",
       "  <thead>\n",
       "    <tr style=\"text-align: right;\">\n",
       "      <th></th>\n",
       "      <th>class labels</th>\n",
       "      <th>F1</th>\n",
       "      <th>F2</th>\n",
       "      <th>F3</th>\n",
       "      <th>F4</th>\n",
       "      <th>F5</th>\n",
       "      <th>F6</th>\n",
       "      <th>F7</th>\n",
       "      <th>F8</th>\n",
       "      <th>F9</th>\n",
       "      <th>...</th>\n",
       "      <th>F71</th>\n",
       "      <th>F72</th>\n",
       "      <th>F73</th>\n",
       "      <th>F74</th>\n",
       "      <th>F75</th>\n",
       "      <th>F76</th>\n",
       "      <th>F77</th>\n",
       "      <th>F78</th>\n",
       "      <th>F79</th>\n",
       "      <th>F80</th>\n",
       "    </tr>\n",
       "  </thead>\n",
       "  <tbody>\n",
       "    <tr>\n",
       "      <th>0</th>\n",
       "      <td>0</td>\n",
       "      <td>-1.231230</td>\n",
       "      <td>-0.128870</td>\n",
       "      <td>0.023117</td>\n",
       "      <td>-0.234682</td>\n",
       "      <td>-0.002786</td>\n",
       "      <td>-0.011627</td>\n",
       "      <td>0.035891</td>\n",
       "      <td>0.011365</td>\n",
       "      <td>0.003888</td>\n",
       "      <td>...</td>\n",
       "      <td>0.003320</td>\n",
       "      <td>-0.000109</td>\n",
       "      <td>0.007113</td>\n",
       "      <td>0.003471</td>\n",
       "      <td>-0.005336</td>\n",
       "      <td>0.001139</td>\n",
       "      <td>0.012990</td>\n",
       "      <td>-0.014149</td>\n",
       "      <td>0.001149</td>\n",
       "      <td>0.015473</td>\n",
       "    </tr>\n",
       "    <tr>\n",
       "      <th>1</th>\n",
       "      <td>0</td>\n",
       "      <td>0.344408</td>\n",
       "      <td>-0.106565</td>\n",
       "      <td>0.020193</td>\n",
       "      <td>-0.086229</td>\n",
       "      <td>0.117225</td>\n",
       "      <td>0.044430</td>\n",
       "      <td>0.084057</td>\n",
       "      <td>-0.073645</td>\n",
       "      <td>0.034724</td>\n",
       "      <td>...</td>\n",
       "      <td>0.007709</td>\n",
       "      <td>-0.001961</td>\n",
       "      <td>0.005301</td>\n",
       "      <td>-0.003684</td>\n",
       "      <td>-0.003467</td>\n",
       "      <td>-0.002431</td>\n",
       "      <td>-0.010845</td>\n",
       "      <td>0.008244</td>\n",
       "      <td>0.014376</td>\n",
       "      <td>-0.002507</td>\n",
       "    </tr>\n",
       "    <tr>\n",
       "      <th>2</th>\n",
       "      <td>0</td>\n",
       "      <td>-3.029132</td>\n",
       "      <td>-0.026505</td>\n",
       "      <td>0.047796</td>\n",
       "      <td>0.012177</td>\n",
       "      <td>0.043901</td>\n",
       "      <td>0.036138</td>\n",
       "      <td>0.037599</td>\n",
       "      <td>0.004695</td>\n",
       "      <td>-0.000661</td>\n",
       "      <td>...</td>\n",
       "      <td>0.003564</td>\n",
       "      <td>-0.001329</td>\n",
       "      <td>-0.003671</td>\n",
       "      <td>-0.004046</td>\n",
       "      <td>-0.003318</td>\n",
       "      <td>0.001048</td>\n",
       "      <td>0.002861</td>\n",
       "      <td>-0.000234</td>\n",
       "      <td>0.001196</td>\n",
       "      <td>-0.001146</td>\n",
       "    </tr>\n",
       "    <tr>\n",
       "      <th>3</th>\n",
       "      <td>0</td>\n",
       "      <td>-2.607506</td>\n",
       "      <td>-0.092531</td>\n",
       "      <td>0.066263</td>\n",
       "      <td>0.024992</td>\n",
       "      <td>0.050555</td>\n",
       "      <td>0.026905</td>\n",
       "      <td>0.029540</td>\n",
       "      <td>0.004926</td>\n",
       "      <td>-0.015450</td>\n",
       "      <td>...</td>\n",
       "      <td>-0.003472</td>\n",
       "      <td>0.001659</td>\n",
       "      <td>0.000009</td>\n",
       "      <td>-0.000555</td>\n",
       "      <td>-0.002641</td>\n",
       "      <td>-0.000271</td>\n",
       "      <td>0.003342</td>\n",
       "      <td>0.004203</td>\n",
       "      <td>0.001513</td>\n",
       "      <td>-0.005227</td>\n",
       "    </tr>\n",
       "    <tr>\n",
       "      <th>4</th>\n",
       "      <td>0</td>\n",
       "      <td>1.578113</td>\n",
       "      <td>-0.224183</td>\n",
       "      <td>-0.207093</td>\n",
       "      <td>0.013658</td>\n",
       "      <td>0.015117</td>\n",
       "      <td>0.085344</td>\n",
       "      <td>0.062421</td>\n",
       "      <td>0.093711</td>\n",
       "      <td>-0.054058</td>\n",
       "      <td>...</td>\n",
       "      <td>-0.014802</td>\n",
       "      <td>0.007215</td>\n",
       "      <td>0.005183</td>\n",
       "      <td>-0.000568</td>\n",
       "      <td>-0.003570</td>\n",
       "      <td>-0.000858</td>\n",
       "      <td>-0.000448</td>\n",
       "      <td>0.011435</td>\n",
       "      <td>0.008016</td>\n",
       "      <td>0.000831</td>\n",
       "    </tr>\n",
       "  </tbody>\n",
       "</table>\n",
       "<p>5 rows × 81 columns</p>\n",
       "</div>"
      ],
      "text/plain": [
       "   class labels        F1        F2        F3        F4        F5        F6  \\\n",
       "0             0 -1.231230 -0.128870  0.023117 -0.234682 -0.002786 -0.011627   \n",
       "1             0  0.344408 -0.106565  0.020193 -0.086229  0.117225  0.044430   \n",
       "2             0 -3.029132 -0.026505  0.047796  0.012177  0.043901  0.036138   \n",
       "3             0 -2.607506 -0.092531  0.066263  0.024992  0.050555  0.026905   \n",
       "4             0  1.578113 -0.224183 -0.207093  0.013658  0.015117  0.085344   \n",
       "\n",
       "         F7        F8        F9    ...          F71       F72       F73  \\\n",
       "0  0.035891  0.011365  0.003888    ...     0.003320 -0.000109  0.007113   \n",
       "1  0.084057 -0.073645  0.034724    ...     0.007709 -0.001961  0.005301   \n",
       "2  0.037599  0.004695 -0.000661    ...     0.003564 -0.001329 -0.003671   \n",
       "3  0.029540  0.004926 -0.015450    ...    -0.003472  0.001659  0.000009   \n",
       "4  0.062421  0.093711 -0.054058    ...    -0.014802  0.007215  0.005183   \n",
       "\n",
       "        F74       F75       F76       F77       F78       F79       F80  \n",
       "0  0.003471 -0.005336  0.001139  0.012990 -0.014149  0.001149  0.015473  \n",
       "1 -0.003684 -0.003467 -0.002431 -0.010845  0.008244  0.014376 -0.002507  \n",
       "2 -0.004046 -0.003318  0.001048  0.002861 -0.000234  0.001196 -0.001146  \n",
       "3 -0.000555 -0.002641 -0.000271  0.003342  0.004203  0.001513 -0.005227  \n",
       "4 -0.000568 -0.003570 -0.000858 -0.000448  0.011435  0.008016  0.000831  \n",
       "\n",
       "[5 rows x 81 columns]"
      ]
     },
     "execution_count": 2,
     "metadata": {},
     "output_type": "execute_result"
    }
   ],
   "source": [
    "dd_dataset.head()"
   ]
  },
  {
   "cell_type": "code",
   "execution_count": 6,
   "metadata": {},
   "outputs": [
    {
     "name": "stdout",
     "output_type": "stream",
     "text": [
      "Number of samples: 311, Number of features: 80\n"
     ]
    }
   ],
   "source": [
    "train_data = dd_dataset[['F%d' % i for i in range(1,81)]].values\n",
    "\n",
    "# Normalize dataset\n",
    "#min_max_scaler = preprocessing.MinMaxScaler()\n",
    "#train_scaled = min_max_scaler.fit_transform(train_data)\n",
    "#train_data = train_scaled\n",
    "\n",
    "labels = dd_dataset['class labels'].values\n",
    "\n",
    "print(\"Number of samples: %d, Number of features: %d\" % (train_data.shape[0], train_data.shape[1]))"
   ]
  },
  {
   "cell_type": "code",
   "execution_count": 7,
   "metadata": {},
   "outputs": [],
   "source": [
    "# Show normlaized data\n",
    "\n",
    "#train = pd.DataFrame(train_data)\n",
    "\n",
    "#train.head()\n"
   ]
  },
  {
   "cell_type": "markdown",
   "metadata": {},
   "source": [
    "## SVM classifier"
   ]
  },
  {
   "cell_type": "code",
   "execution_count": 8,
   "metadata": {},
   "outputs": [],
   "source": [
    "from sklearn.svm import SVC\n",
    "from sklearn.model_selection import GridSearchCV\n",
    "\n",
    "# Hyperparameters\n",
    "kernel = 'rbf'\n",
    "\n",
    "# An instance of SVM classifier\n",
    "svm_cl = SVC(kernel=kernel)"
   ]
  },
  {
   "cell_type": "markdown",
   "metadata": {},
   "source": [
    "Define range of parameters for Grid Search"
   ]
  },
  {
   "cell_type": "code",
   "execution_count": 9,
   "metadata": {},
   "outputs": [],
   "source": [
    "# Penalty parameter\n",
    "c_range = {'C': [float(2**i) for i in range(-14, 14)]}\n",
    "# Gamma parameter for RBF kernel\n",
    "gamma_range = {'gamma': [float(2**i) for i in range(-14, 14)]} if kernel == 'rbf' else {}\n",
    "\n",
    "param_range = {**c_range, **gamma_range}\n",
    "\n",
    "# Arguments for grid search\n",
    "cv_fold = 10\n",
    "n_workers = -1 # Number of CPU threads\n",
    "\n",
    "result = GridSearchCV(svm_cl, param_range, cv=cv_fold, n_jobs=n_workers, refit=True,\n",
    "                      verbose=1)"
   ]
  },
  {
   "cell_type": "markdown",
   "metadata": {},
   "source": [
    "Start grid search!"
   ]
  },
  {
   "cell_type": "code",
   "execution_count": 10,
   "metadata": {},
   "outputs": [
    {
     "name": "stdout",
     "output_type": "stream",
     "text": [
      "Fitting 10 folds for each of 784 candidates, totalling 7840 fits\n"
     ]
    },
    {
     "name": "stderr",
     "output_type": "stream",
     "text": [
      "C:\\Users\\Mir\\Anaconda3\\lib\\site-packages\\sklearn\\model_selection\\_split.py:605: Warning: The least populated class in y has only 6 members, which is too few. The minimum number of members in any class cannot be less than n_splits=10.\n",
      "  % (min_groups, self.n_splits)), Warning)\n",
      "[Parallel(n_jobs=-1)]: Done 106 tasks      | elapsed:    2.0s\n",
      "[Parallel(n_jobs=-1)]: Done 1306 tasks      | elapsed:   12.5s\n",
      "[Parallel(n_jobs=-1)]: Done 3306 tasks      | elapsed:   31.4s\n",
      "[Parallel(n_jobs=-1)]: Done 6106 tasks      | elapsed:  1.0min\n",
      "[Parallel(n_jobs=-1)]: Done 7840 out of 7840 | elapsed:  1.4min finished\n"
     ]
    },
    {
     "data": {
      "text/plain": [
       "GridSearchCV(cv=10, error_score='raise',\n",
       "       estimator=SVC(C=1.0, cache_size=200, class_weight=None, coef0=0.0,\n",
       "  decision_function_shape='ovr', degree=3, gamma='auto', kernel='rbf',\n",
       "  max_iter=-1, probability=False, random_state=None, shrinking=True,\n",
       "  tol=0.001, verbose=False),\n",
       "       fit_params=None, iid=True, n_jobs=-1,\n",
       "       param_grid={'C': [6.103515625e-05, 0.0001220703125, 0.000244140625, 0.00048828125, 0.0009765625, 0.001953125, 0.00390625, 0.0078125, 0.015625, 0.03125, 0.0625, 0.125, 0.25, 0.5, 1.0, 2.0, 4.0, 8.0, 16.0, 32.0, 64.0, 128.0, 256.0, 512.0, 1024.0, 2048.0, 4096.0, 8192.0], 'gamma': [6.103515625e-05, 0.0...25, 0.5, 1.0, 2.0, 4.0, 8.0, 16.0, 32.0, 64.0, 128.0, 256.0, 512.0, 1024.0, 2048.0, 4096.0, 8192.0]},\n",
       "       pre_dispatch='2*n_jobs', refit=True, return_train_score='warn',\n",
       "       scoring=None, verbose=1)"
      ]
     },
     "execution_count": 10,
     "metadata": {},
     "output_type": "execute_result"
    }
   ],
   "source": [
    "result.fit(train_data, labels)"
   ]
  },
  {
   "cell_type": "markdown",
   "metadata": {},
   "source": [
    "Best results"
   ]
  },
  {
   "cell_type": "code",
   "execution_count": 11,
   "metadata": {},
   "outputs": [
    {
     "name": "stdout",
     "output_type": "stream",
     "text": [
      "Best accuracy: 32.48\n"
     ]
    }
   ],
   "source": [
    "print(\"Best accuracy: %.2f\" % (result.best_score_ * 100))"
   ]
  },
  {
   "cell_type": "markdown",
   "metadata": {},
   "source": [
    "Confusion matrix"
   ]
  },
  {
   "cell_type": "code",
   "execution_count": 12,
   "metadata": {},
   "outputs": [
    {
     "name": "stdout",
     "output_type": "stream",
     "text": [
      "Accuracy:  85.85209003215434\n"
     ]
    },
    {
     "ename": "NameError",
     "evalue": "name 'plt' is not defined",
     "output_type": "error",
     "traceback": [
      "\u001b[1;31m---------------------------------------------------------------------------\u001b[0m",
      "\u001b[1;31mNameError\u001b[0m                                 Traceback (most recent call last)",
      "\u001b[1;32m<ipython-input-12-7b7f625c1bd2>\u001b[0m in \u001b[0;36m<module>\u001b[1;34m()\u001b[0m\n\u001b[0;32m      8\u001b[0m \u001b[0mprint\u001b[0m\u001b[1;33m(\u001b[0m\u001b[1;34m\"Accuracy: \"\u001b[0m\u001b[1;33m,\u001b[0m \u001b[1;33m(\u001b[0m\u001b[0maccuracy_score\u001b[0m\u001b[1;33m(\u001b[0m\u001b[0mlabels\u001b[0m\u001b[1;33m,\u001b[0m \u001b[0my_pred\u001b[0m\u001b[1;33m)\u001b[0m \u001b[1;33m*\u001b[0m \u001b[1;36m100\u001b[0m\u001b[1;33m)\u001b[0m\u001b[1;33m)\u001b[0m\u001b[1;33m\u001b[0m\u001b[0m\n\u001b[0;32m      9\u001b[0m \u001b[1;33m\u001b[0m\u001b[0m\n\u001b[1;32m---> 10\u001b[1;33m \u001b[0mplt\u001b[0m\u001b[1;33m.\u001b[0m\u001b[0mfigure\u001b[0m\u001b[1;33m(\u001b[0m\u001b[0mfigsize\u001b[0m\u001b[1;33m=\u001b[0m\u001b[1;33m(\u001b[0m\u001b[1;36m20\u001b[0m\u001b[1;33m,\u001b[0m \u001b[1;36m10\u001b[0m\u001b[1;33m)\u001b[0m\u001b[1;33m)\u001b[0m\u001b[1;33m\u001b[0m\u001b[0m\n\u001b[0m\u001b[0;32m     11\u001b[0m \u001b[0mplt_confusion_matrix\u001b[0m\u001b[1;33m(\u001b[0m\u001b[0mcm\u001b[0m\u001b[1;33m,\u001b[0m \u001b[0mnp\u001b[0m\u001b[1;33m.\u001b[0m\u001b[0munique\u001b[0m\u001b[1;33m(\u001b[0m\u001b[0mlabels\u001b[0m\u001b[1;33m)\u001b[0m\u001b[1;33m)\u001b[0m\u001b[1;33m\u001b[0m\u001b[0m\n",
      "\u001b[1;31mNameError\u001b[0m: name 'plt' is not defined"
     ]
    }
   ],
   "source": [
    "from misc import plt_confusion_matrix\n",
    "from sklearn.metrics import confusion_matrix, accuracy_score, classification_report\n",
    "import numpy as np\n",
    "\n",
    "y_pred = result.best_estimator_.predict(train_data)\n",
    "cm = confusion_matrix(labels, y_pred)\n",
    "\n",
    "print(\"Accuracy: \", (accuracy_score(labels, y_pred) * 100))\n",
    "\n",
    "plt.figure(figsize=(20, 10))\n",
    "plt_confusion_matrix(cm, np.unique(labels))\n"
   ]
  },
  {
   "cell_type": "markdown",
   "metadata": {},
   "source": [
    "Classification report"
   ]
  },
  {
   "cell_type": "code",
   "execution_count": null,
   "metadata": {
    "collapsed": true
   },
   "outputs": [],
   "source": [
    "print(classification_report(labels, y_pred))"
   ]
  },
  {
   "cell_type": "markdown",
   "metadata": {},
   "source": [
    "# XG Boost"
   ]
  },
  {
   "cell_type": "code",
   "execution_count": null,
   "metadata": {
    "collapsed": true
   },
   "outputs": [],
   "source": [
    "import xgboost as xgb\n",
    "from sklearn.model_selection import train_test_split\n",
    "from sklearn.metrics import accuracy_score\n",
    "import numpy as np\n",
    "\n",
    "# Create Dmatrix for more performance \n",
    "data_matrix = xgb.DMatrix(data=train_data,label=labels)\n",
    "\n",
    "# Split data to train and test\n",
    "X_train, X_test, y_train, y_test = train_test_split(train_data, labels, test_size=0.2, random_state=123)"
   ]
  },
  {
   "cell_type": "code",
   "execution_count": null,
   "metadata": {
    "collapsed": true
   },
   "outputs": [],
   "source": [
    "# Instantitate an XGBosst Classifier\n",
    "xg_clf = xgb.XGBClassifier(objective ='binary:logistic', colsample_bytree = 0.1, learning_rate = 0.1,\n",
    "                max_depth = 10, alpha = 10, n_estimators = 10)\n"
   ]
  },
  {
   "cell_type": "code",
   "execution_count": null,
   "metadata": {
    "collapsed": true
   },
   "outputs": [],
   "source": [
    "# Fit the classifier to the training set\n",
    "xg_clf.fit(X_train,y_train)\n",
    "\n",
    "# Predit test data\n",
    "preds = xg_clf.predict(X_test)\n",
    "\n",
    "# Accuracy\n",
    "accuracy = accuracy_score(y_test, preds)"
   ]
  },
  {
   "cell_type": "code",
   "execution_count": null,
   "metadata": {
    "collapsed": true
   },
   "outputs": [],
   "source": [
    "print(\"Best accuracy: %.2f\" % (accuracy*100))\n"
   ]
  },
  {
   "cell_type": "code",
   "execution_count": null,
   "metadata": {
    "collapsed": true
   },
   "outputs": [],
   "source": []
  }
 ],
 "metadata": {
  "kernelspec": {
   "display_name": "Python 3",
   "language": "python",
   "name": "python3"
  },
  "language_info": {
   "codemirror_mode": {
    "name": "ipython",
    "version": 3
   },
   "file_extension": ".py",
   "mimetype": "text/x-python",
   "name": "python",
   "nbconvert_exporter": "python",
   "pygments_lexer": "ipython3",
   "version": "3.6.5"
  }
 },
 "nbformat": 4,
 "nbformat_minor": 2
}
