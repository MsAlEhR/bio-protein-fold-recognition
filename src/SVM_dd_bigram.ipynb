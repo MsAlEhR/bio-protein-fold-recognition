{
 "cells": [
  {
   "cell_type": "markdown",
   "metadata": {},
   "source": [
    "## Training SVM classifier on DD_bigram dataset"
   ]
  },
  {
   "cell_type": "markdown",
   "metadata": {},
   "source": [
    "The first step is to read dataset from CSV file"
   ]
  },
  {
   "cell_type": "code",
   "execution_count": 63,
   "metadata": {
    "collapsed": true
   },
   "outputs": [],
   "source": [
    "import pandas as pd\n",
    "from sklearn import preprocessing\n",
    "\n",
    "dd_dataset = pd.read_csv('./dataset/dd_pssm_dataset_improved.csv')"
   ]
  },
  {
   "cell_type": "code",
   "execution_count": 64,
   "metadata": {},
   "outputs": [
    {
     "data": {
      "text/html": [
       "<div>\n",
       "<style>\n",
       "    .dataframe thead tr:only-child th {\n",
       "        text-align: right;\n",
       "    }\n",
       "\n",
       "    .dataframe thead th {\n",
       "        text-align: left;\n",
       "    }\n",
       "\n",
       "    .dataframe tbody tr th {\n",
       "        vertical-align: top;\n",
       "    }\n",
       "</style>\n",
       "<table border=\"1\" class=\"dataframe\">\n",
       "  <thead>\n",
       "    <tr style=\"text-align: right;\">\n",
       "      <th></th>\n",
       "      <th>Fold</th>\n",
       "      <th>Protein name</th>\n",
       "      <th>F1</th>\n",
       "      <th>F2</th>\n",
       "      <th>F3</th>\n",
       "      <th>F4</th>\n",
       "      <th>F5</th>\n",
       "      <th>F6</th>\n",
       "      <th>F7</th>\n",
       "      <th>F8</th>\n",
       "      <th>...</th>\n",
       "      <th>F391</th>\n",
       "      <th>F392</th>\n",
       "      <th>F393</th>\n",
       "      <th>F394</th>\n",
       "      <th>F395</th>\n",
       "      <th>F396</th>\n",
       "      <th>F397</th>\n",
       "      <th>F398</th>\n",
       "      <th>F399</th>\n",
       "      <th>F400</th>\n",
       "    </tr>\n",
       "  </thead>\n",
       "  <tbody>\n",
       "    <tr>\n",
       "      <th>0</th>\n",
       "      <td>Globm-like(alpha)</td>\n",
       "      <td>2LHB</td>\n",
       "      <td>1031.794912</td>\n",
       "      <td>1483.125043</td>\n",
       "      <td>1216.922027</td>\n",
       "      <td>1243.854020</td>\n",
       "      <td>1252.604068</td>\n",
       "      <td>1459.363796</td>\n",
       "      <td>1416.622326</td>\n",
       "      <td>1316.060603</td>\n",
       "      <td>...</td>\n",
       "      <td>2155.680853</td>\n",
       "      <td>2040.918002</td>\n",
       "      <td>2126.960718</td>\n",
       "      <td>2027.655027</td>\n",
       "      <td>2199.311283</td>\n",
       "      <td>1559.204678</td>\n",
       "      <td>1846.300782</td>\n",
       "      <td>1826.158764</td>\n",
       "      <td>2365.057545</td>\n",
       "      <td>2221.662359</td>\n",
       "    </tr>\n",
       "    <tr>\n",
       "      <th>1</th>\n",
       "      <td>Globm-like(alpha)</td>\n",
       "      <td>3SDHA</td>\n",
       "      <td>2006.899195</td>\n",
       "      <td>2577.063199</td>\n",
       "      <td>2231.652620</td>\n",
       "      <td>2591.854012</td>\n",
       "      <td>2396.382657</td>\n",
       "      <td>2077.314546</td>\n",
       "      <td>2543.519888</td>\n",
       "      <td>2208.394867</td>\n",
       "      <td>...</td>\n",
       "      <td>3204.520422</td>\n",
       "      <td>2877.142285</td>\n",
       "      <td>3372.217536</td>\n",
       "      <td>3192.392462</td>\n",
       "      <td>3230.542912</td>\n",
       "      <td>3078.022949</td>\n",
       "      <td>3129.488213</td>\n",
       "      <td>2705.182389</td>\n",
       "      <td>3352.897618</td>\n",
       "      <td>3214.086190</td>\n",
       "    </tr>\n",
       "    <tr>\n",
       "      <th>2</th>\n",
       "      <td>Globm-like(alpha)</td>\n",
       "      <td>1FLP</td>\n",
       "      <td>112.952984</td>\n",
       "      <td>219.094094</td>\n",
       "      <td>140.286986</td>\n",
       "      <td>141.433356</td>\n",
       "      <td>147.514469</td>\n",
       "      <td>207.916226</td>\n",
       "      <td>242.406261</td>\n",
       "      <td>207.232620</td>\n",
       "      <td>...</td>\n",
       "      <td>480.046522</td>\n",
       "      <td>466.254578</td>\n",
       "      <td>512.554104</td>\n",
       "      <td>488.831156</td>\n",
       "      <td>527.492418</td>\n",
       "      <td>412.316788</td>\n",
       "      <td>478.116052</td>\n",
       "      <td>465.108208</td>\n",
       "      <td>500.692630</td>\n",
       "      <td>536.277052</td>\n",
       "    </tr>\n",
       "    <tr>\n",
       "      <th>3</th>\n",
       "      <td>Globm-like(alpha)</td>\n",
       "      <td>2HBG</td>\n",
       "      <td>292.410669</td>\n",
       "      <td>444.774462</td>\n",
       "      <td>437.038078</td>\n",
       "      <td>449.873031</td>\n",
       "      <td>379.291691</td>\n",
       "      <td>212.281887</td>\n",
       "      <td>406.412246</td>\n",
       "      <td>308.312192</td>\n",
       "      <td>...</td>\n",
       "      <td>820.674007</td>\n",
       "      <td>855.919421</td>\n",
       "      <td>856.154012</td>\n",
       "      <td>795.515058</td>\n",
       "      <td>854.273519</td>\n",
       "      <td>693.261103</td>\n",
       "      <td>863.492926</td>\n",
       "      <td>718.464159</td>\n",
       "      <td>871.484750</td>\n",
       "      <td>842.919539</td>\n",
       "    </tr>\n",
       "    <tr>\n",
       "      <th>4</th>\n",
       "      <td>Globm-like(alpha)</td>\n",
       "      <td>2MGE</td>\n",
       "      <td>2744.999326</td>\n",
       "      <td>3694.289407</td>\n",
       "      <td>3465.368175</td>\n",
       "      <td>3160.469041</td>\n",
       "      <td>3227.694573</td>\n",
       "      <td>3173.946129</td>\n",
       "      <td>2987.903276</td>\n",
       "      <td>3363.698694</td>\n",
       "      <td>...</td>\n",
       "      <td>4416.250766</td>\n",
       "      <td>4411.292327</td>\n",
       "      <td>4305.913668</td>\n",
       "      <td>4290.667124</td>\n",
       "      <td>4281.382734</td>\n",
       "      <td>4171.045635</td>\n",
       "      <td>4226.387280</td>\n",
       "      <td>4054.694589</td>\n",
       "      <td>4263.390839</td>\n",
       "      <td>4312.020350</td>\n",
       "    </tr>\n",
       "  </tbody>\n",
       "</table>\n",
       "<p>5 rows × 402 columns</p>\n",
       "</div>"
      ],
      "text/plain": [
       "                Fold Protein name           F1           F2           F3  \\\n",
       "0  Globm-like(alpha)         2LHB  1031.794912  1483.125043  1216.922027   \n",
       "1  Globm-like(alpha)        3SDHA  2006.899195  2577.063199  2231.652620   \n",
       "2  Globm-like(alpha)         1FLP   112.952984   219.094094   140.286986   \n",
       "3  Globm-like(alpha)         2HBG   292.410669   444.774462   437.038078   \n",
       "4  Globm-like(alpha)         2MGE  2744.999326  3694.289407  3465.368175   \n",
       "\n",
       "            F4           F5           F6           F7           F8  \\\n",
       "0  1243.854020  1252.604068  1459.363796  1416.622326  1316.060603   \n",
       "1  2591.854012  2396.382657  2077.314546  2543.519888  2208.394867   \n",
       "2   141.433356   147.514469   207.916226   242.406261   207.232620   \n",
       "3   449.873031   379.291691   212.281887   406.412246   308.312192   \n",
       "4  3160.469041  3227.694573  3173.946129  2987.903276  3363.698694   \n",
       "\n",
       "      ...              F391         F392         F393         F394  \\\n",
       "0     ...       2155.680853  2040.918002  2126.960718  2027.655027   \n",
       "1     ...       3204.520422  2877.142285  3372.217536  3192.392462   \n",
       "2     ...        480.046522   466.254578   512.554104   488.831156   \n",
       "3     ...        820.674007   855.919421   856.154012   795.515058   \n",
       "4     ...       4416.250766  4411.292327  4305.913668  4290.667124   \n",
       "\n",
       "          F395         F396         F397         F398         F399  \\\n",
       "0  2199.311283  1559.204678  1846.300782  1826.158764  2365.057545   \n",
       "1  3230.542912  3078.022949  3129.488213  2705.182389  3352.897618   \n",
       "2   527.492418   412.316788   478.116052   465.108208   500.692630   \n",
       "3   854.273519   693.261103   863.492926   718.464159   871.484750   \n",
       "4  4281.382734  4171.045635  4226.387280  4054.694589  4263.390839   \n",
       "\n",
       "          F400  \n",
       "0  2221.662359  \n",
       "1  3214.086190  \n",
       "2   536.277052  \n",
       "3   842.919539  \n",
       "4  4312.020350  \n",
       "\n",
       "[5 rows x 402 columns]"
      ]
     },
     "execution_count": 64,
     "metadata": {},
     "output_type": "execute_result"
    }
   ],
   "source": [
    "dd_dataset.head()"
   ]
  },
  {
   "cell_type": "markdown",
   "metadata": {},
   "source": [
    "Convert class lables to unique integers"
   ]
  },
  {
   "cell_type": "code",
   "execution_count": 65,
   "metadata": {
    "collapsed": true
   },
   "outputs": [],
   "source": [
    "dd_dataset.insert(1, 'class labels', pd.factorize(dd_dataset.Fold)[0])"
   ]
  },
  {
   "cell_type": "code",
   "execution_count": 66,
   "metadata": {},
   "outputs": [
    {
     "data": {
      "text/html": [
       "<div>\n",
       "<style>\n",
       "    .dataframe thead tr:only-child th {\n",
       "        text-align: right;\n",
       "    }\n",
       "\n",
       "    .dataframe thead th {\n",
       "        text-align: left;\n",
       "    }\n",
       "\n",
       "    .dataframe tbody tr th {\n",
       "        vertical-align: top;\n",
       "    }\n",
       "</style>\n",
       "<table border=\"1\" class=\"dataframe\">\n",
       "  <thead>\n",
       "    <tr style=\"text-align: right;\">\n",
       "      <th></th>\n",
       "      <th>Fold</th>\n",
       "      <th>class labels</th>\n",
       "      <th>Protein name</th>\n",
       "      <th>F1</th>\n",
       "      <th>F2</th>\n",
       "      <th>F3</th>\n",
       "      <th>F4</th>\n",
       "      <th>F5</th>\n",
       "      <th>F6</th>\n",
       "      <th>F7</th>\n",
       "      <th>...</th>\n",
       "      <th>F391</th>\n",
       "      <th>F392</th>\n",
       "      <th>F393</th>\n",
       "      <th>F394</th>\n",
       "      <th>F395</th>\n",
       "      <th>F396</th>\n",
       "      <th>F397</th>\n",
       "      <th>F398</th>\n",
       "      <th>F399</th>\n",
       "      <th>F400</th>\n",
       "    </tr>\n",
       "  </thead>\n",
       "  <tbody>\n",
       "    <tr>\n",
       "      <th>0</th>\n",
       "      <td>Globm-like(alpha)</td>\n",
       "      <td>0</td>\n",
       "      <td>2LHB</td>\n",
       "      <td>1031.794912</td>\n",
       "      <td>1483.125043</td>\n",
       "      <td>1216.922027</td>\n",
       "      <td>1243.854020</td>\n",
       "      <td>1252.604068</td>\n",
       "      <td>1459.363796</td>\n",
       "      <td>1416.622326</td>\n",
       "      <td>...</td>\n",
       "      <td>2155.680853</td>\n",
       "      <td>2040.918002</td>\n",
       "      <td>2126.960718</td>\n",
       "      <td>2027.655027</td>\n",
       "      <td>2199.311283</td>\n",
       "      <td>1559.204678</td>\n",
       "      <td>1846.300782</td>\n",
       "      <td>1826.158764</td>\n",
       "      <td>2365.057545</td>\n",
       "      <td>2221.662359</td>\n",
       "    </tr>\n",
       "    <tr>\n",
       "      <th>1</th>\n",
       "      <td>Globm-like(alpha)</td>\n",
       "      <td>0</td>\n",
       "      <td>3SDHA</td>\n",
       "      <td>2006.899195</td>\n",
       "      <td>2577.063199</td>\n",
       "      <td>2231.652620</td>\n",
       "      <td>2591.854012</td>\n",
       "      <td>2396.382657</td>\n",
       "      <td>2077.314546</td>\n",
       "      <td>2543.519888</td>\n",
       "      <td>...</td>\n",
       "      <td>3204.520422</td>\n",
       "      <td>2877.142285</td>\n",
       "      <td>3372.217536</td>\n",
       "      <td>3192.392462</td>\n",
       "      <td>3230.542912</td>\n",
       "      <td>3078.022949</td>\n",
       "      <td>3129.488213</td>\n",
       "      <td>2705.182389</td>\n",
       "      <td>3352.897618</td>\n",
       "      <td>3214.086190</td>\n",
       "    </tr>\n",
       "    <tr>\n",
       "      <th>2</th>\n",
       "      <td>Globm-like(alpha)</td>\n",
       "      <td>0</td>\n",
       "      <td>1FLP</td>\n",
       "      <td>112.952984</td>\n",
       "      <td>219.094094</td>\n",
       "      <td>140.286986</td>\n",
       "      <td>141.433356</td>\n",
       "      <td>147.514469</td>\n",
       "      <td>207.916226</td>\n",
       "      <td>242.406261</td>\n",
       "      <td>...</td>\n",
       "      <td>480.046522</td>\n",
       "      <td>466.254578</td>\n",
       "      <td>512.554104</td>\n",
       "      <td>488.831156</td>\n",
       "      <td>527.492418</td>\n",
       "      <td>412.316788</td>\n",
       "      <td>478.116052</td>\n",
       "      <td>465.108208</td>\n",
       "      <td>500.692630</td>\n",
       "      <td>536.277052</td>\n",
       "    </tr>\n",
       "    <tr>\n",
       "      <th>3</th>\n",
       "      <td>Globm-like(alpha)</td>\n",
       "      <td>0</td>\n",
       "      <td>2HBG</td>\n",
       "      <td>292.410669</td>\n",
       "      <td>444.774462</td>\n",
       "      <td>437.038078</td>\n",
       "      <td>449.873031</td>\n",
       "      <td>379.291691</td>\n",
       "      <td>212.281887</td>\n",
       "      <td>406.412246</td>\n",
       "      <td>...</td>\n",
       "      <td>820.674007</td>\n",
       "      <td>855.919421</td>\n",
       "      <td>856.154012</td>\n",
       "      <td>795.515058</td>\n",
       "      <td>854.273519</td>\n",
       "      <td>693.261103</td>\n",
       "      <td>863.492926</td>\n",
       "      <td>718.464159</td>\n",
       "      <td>871.484750</td>\n",
       "      <td>842.919539</td>\n",
       "    </tr>\n",
       "    <tr>\n",
       "      <th>4</th>\n",
       "      <td>Globm-like(alpha)</td>\n",
       "      <td>0</td>\n",
       "      <td>2MGE</td>\n",
       "      <td>2744.999326</td>\n",
       "      <td>3694.289407</td>\n",
       "      <td>3465.368175</td>\n",
       "      <td>3160.469041</td>\n",
       "      <td>3227.694573</td>\n",
       "      <td>3173.946129</td>\n",
       "      <td>2987.903276</td>\n",
       "      <td>...</td>\n",
       "      <td>4416.250766</td>\n",
       "      <td>4411.292327</td>\n",
       "      <td>4305.913668</td>\n",
       "      <td>4290.667124</td>\n",
       "      <td>4281.382734</td>\n",
       "      <td>4171.045635</td>\n",
       "      <td>4226.387280</td>\n",
       "      <td>4054.694589</td>\n",
       "      <td>4263.390839</td>\n",
       "      <td>4312.020350</td>\n",
       "    </tr>\n",
       "  </tbody>\n",
       "</table>\n",
       "<p>5 rows × 403 columns</p>\n",
       "</div>"
      ],
      "text/plain": [
       "                Fold  class labels Protein name           F1           F2  \\\n",
       "0  Globm-like(alpha)             0         2LHB  1031.794912  1483.125043   \n",
       "1  Globm-like(alpha)             0        3SDHA  2006.899195  2577.063199   \n",
       "2  Globm-like(alpha)             0         1FLP   112.952984   219.094094   \n",
       "3  Globm-like(alpha)             0         2HBG   292.410669   444.774462   \n",
       "4  Globm-like(alpha)             0         2MGE  2744.999326  3694.289407   \n",
       "\n",
       "            F3           F4           F5           F6           F7  \\\n",
       "0  1216.922027  1243.854020  1252.604068  1459.363796  1416.622326   \n",
       "1  2231.652620  2591.854012  2396.382657  2077.314546  2543.519888   \n",
       "2   140.286986   141.433356   147.514469   207.916226   242.406261   \n",
       "3   437.038078   449.873031   379.291691   212.281887   406.412246   \n",
       "4  3465.368175  3160.469041  3227.694573  3173.946129  2987.903276   \n",
       "\n",
       "      ...              F391         F392         F393         F394  \\\n",
       "0     ...       2155.680853  2040.918002  2126.960718  2027.655027   \n",
       "1     ...       3204.520422  2877.142285  3372.217536  3192.392462   \n",
       "2     ...        480.046522   466.254578   512.554104   488.831156   \n",
       "3     ...        820.674007   855.919421   856.154012   795.515058   \n",
       "4     ...       4416.250766  4411.292327  4305.913668  4290.667124   \n",
       "\n",
       "          F395         F396         F397         F398         F399  \\\n",
       "0  2199.311283  1559.204678  1846.300782  1826.158764  2365.057545   \n",
       "1  3230.542912  3078.022949  3129.488213  2705.182389  3352.897618   \n",
       "2   527.492418   412.316788   478.116052   465.108208   500.692630   \n",
       "3   854.273519   693.261103   863.492926   718.464159   871.484750   \n",
       "4  4281.382734  4171.045635  4226.387280  4054.694589  4263.390839   \n",
       "\n",
       "          F400  \n",
       "0  2221.662359  \n",
       "1  3214.086190  \n",
       "2   536.277052  \n",
       "3   842.919539  \n",
       "4  4312.020350  \n",
       "\n",
       "[5 rows x 403 columns]"
      ]
     },
     "execution_count": 66,
     "metadata": {},
     "output_type": "execute_result"
    }
   ],
   "source": [
    "dd_dataset.head()"
   ]
  },
  {
   "cell_type": "markdown",
   "metadata": {},
   "source": [
    "Create a training set from pandas data frame"
   ]
  },
  {
   "cell_type": "code",
   "execution_count": 67,
   "metadata": {},
   "outputs": [
    {
     "name": "stdout",
     "output_type": "stream",
     "text": [
      "Number of samples: 311, Number of features: 400\n"
     ]
    }
   ],
   "source": [
    "train_data = dd_dataset[['F%d' % i for i in range(1,401)]].values\n",
    "\n",
    "# Normalize dataset\n",
    "min_max_scaler = preprocessing.MinMaxScaler()\n",
    "train_scaled = min_max_scaler.fit_transform(train_data)\n",
    "train_data = train_scaled\n",
    "\n",
    "labels = dd_dataset['class labels'].values\n",
    "\n",
    "print(\"Number of samples: %d, Number of features: %d\" % (train_data.shape[0], train_data.shape[1]))"
   ]
  },
  {
   "cell_type": "code",
   "execution_count": 68,
   "metadata": {},
   "outputs": [
    {
     "data": {
      "text/html": [
       "<div>\n",
       "<style>\n",
       "    .dataframe thead tr:only-child th {\n",
       "        text-align: right;\n",
       "    }\n",
       "\n",
       "    .dataframe thead th {\n",
       "        text-align: left;\n",
       "    }\n",
       "\n",
       "    .dataframe tbody tr th {\n",
       "        vertical-align: top;\n",
       "    }\n",
       "</style>\n",
       "<table border=\"1\" class=\"dataframe\">\n",
       "  <thead>\n",
       "    <tr style=\"text-align: right;\">\n",
       "      <th></th>\n",
       "      <th>0</th>\n",
       "      <th>1</th>\n",
       "      <th>2</th>\n",
       "      <th>3</th>\n",
       "      <th>4</th>\n",
       "      <th>5</th>\n",
       "      <th>6</th>\n",
       "      <th>7</th>\n",
       "      <th>8</th>\n",
       "      <th>9</th>\n",
       "      <th>...</th>\n",
       "      <th>390</th>\n",
       "      <th>391</th>\n",
       "      <th>392</th>\n",
       "      <th>393</th>\n",
       "      <th>394</th>\n",
       "      <th>395</th>\n",
       "      <th>396</th>\n",
       "      <th>397</th>\n",
       "      <th>398</th>\n",
       "      <th>399</th>\n",
       "    </tr>\n",
       "  </thead>\n",
       "  <tbody>\n",
       "    <tr>\n",
       "      <th>0</th>\n",
       "      <td>0.074033</td>\n",
       "      <td>0.096448</td>\n",
       "      <td>0.087039</td>\n",
       "      <td>0.086053</td>\n",
       "      <td>0.088803</td>\n",
       "      <td>0.108176</td>\n",
       "      <td>0.094280</td>\n",
       "      <td>0.093701</td>\n",
       "      <td>0.055025</td>\n",
       "      <td>0.083800</td>\n",
       "      <td>...</td>\n",
       "      <td>0.138102</td>\n",
       "      <td>0.150365</td>\n",
       "      <td>0.149357</td>\n",
       "      <td>0.137074</td>\n",
       "      <td>0.145316</td>\n",
       "      <td>0.104273</td>\n",
       "      <td>0.136859</td>\n",
       "      <td>0.127394</td>\n",
       "      <td>0.152642</td>\n",
       "      <td>0.146690</td>\n",
       "    </tr>\n",
       "    <tr>\n",
       "      <th>1</th>\n",
       "      <td>0.143999</td>\n",
       "      <td>0.167587</td>\n",
       "      <td>0.159616</td>\n",
       "      <td>0.179312</td>\n",
       "      <td>0.169892</td>\n",
       "      <td>0.153982</td>\n",
       "      <td>0.169278</td>\n",
       "      <td>0.157233</td>\n",
       "      <td>0.134726</td>\n",
       "      <td>0.163233</td>\n",
       "      <td>...</td>\n",
       "      <td>0.205296</td>\n",
       "      <td>0.211974</td>\n",
       "      <td>0.236800</td>\n",
       "      <td>0.215813</td>\n",
       "      <td>0.213453</td>\n",
       "      <td>0.205845</td>\n",
       "      <td>0.231977</td>\n",
       "      <td>0.188715</td>\n",
       "      <td>0.216397</td>\n",
       "      <td>0.212217</td>\n",
       "    </tr>\n",
       "    <tr>\n",
       "      <th>2</th>\n",
       "      <td>0.008105</td>\n",
       "      <td>0.014248</td>\n",
       "      <td>0.010034</td>\n",
       "      <td>0.009785</td>\n",
       "      <td>0.010458</td>\n",
       "      <td>0.015412</td>\n",
       "      <td>0.016133</td>\n",
       "      <td>0.014755</td>\n",
       "      <td>0.013873</td>\n",
       "      <td>0.017267</td>\n",
       "      <td>...</td>\n",
       "      <td>0.030754</td>\n",
       "      <td>0.034351</td>\n",
       "      <td>0.035992</td>\n",
       "      <td>0.033046</td>\n",
       "      <td>0.034853</td>\n",
       "      <td>0.027574</td>\n",
       "      <td>0.035441</td>\n",
       "      <td>0.032446</td>\n",
       "      <td>0.032315</td>\n",
       "      <td>0.035409</td>\n",
       "    </tr>\n",
       "    <tr>\n",
       "      <th>3</th>\n",
       "      <td>0.020981</td>\n",
       "      <td>0.028924</td>\n",
       "      <td>0.031259</td>\n",
       "      <td>0.031124</td>\n",
       "      <td>0.026890</td>\n",
       "      <td>0.015735</td>\n",
       "      <td>0.027048</td>\n",
       "      <td>0.021951</td>\n",
       "      <td>0.024240</td>\n",
       "      <td>0.026629</td>\n",
       "      <td>...</td>\n",
       "      <td>0.052576</td>\n",
       "      <td>0.063060</td>\n",
       "      <td>0.060120</td>\n",
       "      <td>0.053779</td>\n",
       "      <td>0.056445</td>\n",
       "      <td>0.046362</td>\n",
       "      <td>0.064007</td>\n",
       "      <td>0.050120</td>\n",
       "      <td>0.056246</td>\n",
       "      <td>0.055656</td>\n",
       "    </tr>\n",
       "    <tr>\n",
       "      <th>4</th>\n",
       "      <td>0.196959</td>\n",
       "      <td>0.240241</td>\n",
       "      <td>0.247856</td>\n",
       "      <td>0.218650</td>\n",
       "      <td>0.228828</td>\n",
       "      <td>0.235270</td>\n",
       "      <td>0.198853</td>\n",
       "      <td>0.239488</td>\n",
       "      <td>0.196795</td>\n",
       "      <td>0.205635</td>\n",
       "      <td>...</td>\n",
       "      <td>0.282925</td>\n",
       "      <td>0.325003</td>\n",
       "      <td>0.302365</td>\n",
       "      <td>0.290059</td>\n",
       "      <td>0.282885</td>\n",
       "      <td>0.278942</td>\n",
       "      <td>0.313286</td>\n",
       "      <td>0.282858</td>\n",
       "      <td>0.275161</td>\n",
       "      <td>0.284711</td>\n",
       "    </tr>\n",
       "  </tbody>\n",
       "</table>\n",
       "<p>5 rows × 400 columns</p>\n",
       "</div>"
      ],
      "text/plain": [
       "        0         1         2         3         4         5         6    \\\n",
       "0  0.074033  0.096448  0.087039  0.086053  0.088803  0.108176  0.094280   \n",
       "1  0.143999  0.167587  0.159616  0.179312  0.169892  0.153982  0.169278   \n",
       "2  0.008105  0.014248  0.010034  0.009785  0.010458  0.015412  0.016133   \n",
       "3  0.020981  0.028924  0.031259  0.031124  0.026890  0.015735  0.027048   \n",
       "4  0.196959  0.240241  0.247856  0.218650  0.228828  0.235270  0.198853   \n",
       "\n",
       "        7         8         9      ...          390       391       392  \\\n",
       "0  0.093701  0.055025  0.083800    ...     0.138102  0.150365  0.149357   \n",
       "1  0.157233  0.134726  0.163233    ...     0.205296  0.211974  0.236800   \n",
       "2  0.014755  0.013873  0.017267    ...     0.030754  0.034351  0.035992   \n",
       "3  0.021951  0.024240  0.026629    ...     0.052576  0.063060  0.060120   \n",
       "4  0.239488  0.196795  0.205635    ...     0.282925  0.325003  0.302365   \n",
       "\n",
       "        393       394       395       396       397       398       399  \n",
       "0  0.137074  0.145316  0.104273  0.136859  0.127394  0.152642  0.146690  \n",
       "1  0.215813  0.213453  0.205845  0.231977  0.188715  0.216397  0.212217  \n",
       "2  0.033046  0.034853  0.027574  0.035441  0.032446  0.032315  0.035409  \n",
       "3  0.053779  0.056445  0.046362  0.064007  0.050120  0.056246  0.055656  \n",
       "4  0.290059  0.282885  0.278942  0.313286  0.282858  0.275161  0.284711  \n",
       "\n",
       "[5 rows x 400 columns]"
      ]
     },
     "execution_count": 68,
     "metadata": {},
     "output_type": "execute_result"
    }
   ],
   "source": [
    "# Show normlaized data\n",
    "\n",
    "train = pd.DataFrame(train_data)\n",
    "\n",
    "train.head()\n"
   ]
  },
  {
   "cell_type": "markdown",
   "metadata": {},
   "source": [
    "## Data analysis"
   ]
  },
  {
   "cell_type": "code",
   "execution_count": 69,
   "metadata": {},
   "outputs": [
    {
     "data": {
      "image/png": "[encoded data removed]",
      "text/plain": [
       "<matplotlib.figure.Figure at 0x173411d0>"
      ]
     },
     "metadata": {},
     "output_type": "display_data"
    }
   ],
   "source": [
    "# Frequency of folds\n",
    "import matplotlib.pyplot as plt\n",
    "\n",
    "fig, ax = plt.subplots()\n",
    "freq_plot = dd_dataset['Fold'].value_counts().plot(ax=ax, kind='bar')\n",
    "freq_plot.set_ylabel('Number of proteins')\n",
    "plt.show()"
   ]
  },
  {
   "cell_type": "markdown",
   "metadata": {},
   "source": [
    "## SVM classifier"
   ]
  },
  {
   "cell_type": "code",
   "execution_count": 70,
   "metadata": {
    "collapsed": true
   },
   "outputs": [],
   "source": [
    "from sklearn.svm import SVC\n",
    "from sklearn.model_selection import GridSearchCV\n",
    "\n",
    "# Hyperparameters\n",
    "kernel = 'rbf'\n",
    "\n",
    "# An instance of SVM classifier\n",
    "svm_cl = SVC(kernel=kernel)"
   ]
  },
  {
   "cell_type": "markdown",
   "metadata": {},
   "source": [
    "Define range of parameters for Grid Search"
   ]
  },
  {
   "cell_type": "code",
   "execution_count": 71,
   "metadata": {
    "collapsed": true
   },
   "outputs": [],
   "source": [
    "# Penalty parameter\n",
    "c_range = {'C': [float(2**i) for i in range(-14, 14)]}\n",
    "# Gamma parameter for RBF kernel\n",
    "gamma_range = {'gamma': [float(2**i) for i in range(-14, 14)]} if kernel == 'rbf' else {}\n",
    "\n",
    "param_range = {**c_range, **gamma_range}\n",
    "\n",
    "# Arguments for grid search\n",
    "cv_fold = 10\n",
    "n_workers = 2 # Number of CPU threads\n",
    "\n",
    "result = GridSearchCV(svm_cl, param_range, cv=cv_fold, n_jobs=n_workers, refit=False,\n",
    "                      verbose=1)"
   ]
  },
  {
   "cell_type": "markdown",
   "metadata": {},
   "source": [
    "Start grid search!"
   ]
  },
  {
   "cell_type": "code",
   "execution_count": 72,
   "metadata": {},
   "outputs": [
    {
     "name": "stdout",
     "output_type": "stream",
     "text": [
      "Fitting 10 folds for each of 784 candidates, totalling 7840 fits\n"
     ]
    },
    {
     "name": "stderr",
     "output_type": "stream",
     "text": [
      "C:\\ProgramData\\Anaconda3\\lib\\site-packages\\sklearn\\model_selection\\_split.py:581: Warning: The least populated class in y has only 6 members, which is too few. The minimum number of groups for any class cannot be less than n_splits=10.\n",
      "  % (min_groups, self.n_splits)), Warning)\n",
      "[Parallel(n_jobs=2)]: Done  56 tasks      | elapsed:    5.4s\n",
      "[Parallel(n_jobs=2)]: Done 356 tasks      | elapsed:   19.3s\n",
      "[Parallel(n_jobs=2)]: Done 856 tasks      | elapsed:   42.3s\n",
      "[Parallel(n_jobs=2)]: Done 1556 tasks      | elapsed:  1.2min\n",
      "[Parallel(n_jobs=2)]: Done 2456 tasks      | elapsed:  2.0min\n",
      "[Parallel(n_jobs=2)]: Done 3556 tasks      | elapsed:  2.9min\n",
      "[Parallel(n_jobs=2)]: Done 4856 tasks      | elapsed:  4.0min\n",
      "[Parallel(n_jobs=2)]: Done 6356 tasks      | elapsed:  5.3min\n",
      "[Parallel(n_jobs=2)]: Done 7840 out of 7840 | elapsed:  6.6min finished\n"
     ]
    },
    {
     "data": {
      "text/plain": [
       "GridSearchCV(cv=10, error_score='raise',\n",
       "       estimator=SVC(C=1.0, cache_size=200, class_weight=None, coef0=0.0,\n",
       "  decision_function_shape=None, degree=3, gamma='auto', kernel='rbf',\n",
       "  max_iter=-1, probability=False, random_state=None, shrinking=True,\n",
       "  tol=0.001, verbose=False),\n",
       "       fit_params={}, iid=True, n_jobs=2,\n",
       "       param_grid={'C': [6.103515625e-05, 0.0001220703125, 0.000244140625, 0.00048828125, 0.0009765625, 0.001953125, 0.00390625, 0.0078125, 0.015625, 0.03125, 0.0625, 0.125, 0.25, 0.5, 1.0, 2.0, 4.0, 8.0, 16.0, 32.0, 64.0, 128.0, 256.0, 512.0, 1024.0, 2048.0, 4096.0, 8192.0], 'gamma': [6.103515625e-05, 0.0...25, 0.5, 1.0, 2.0, 4.0, 8.0, 16.0, 32.0, 64.0, 128.0, 256.0, 512.0, 1024.0, 2048.0, 4096.0, 8192.0]},\n",
       "       pre_dispatch='2*n_jobs', refit=False, return_train_score=True,\n",
       "       scoring=None, verbose=1)"
      ]
     },
     "execution_count": 72,
     "metadata": {},
     "output_type": "execute_result"
    }
   ],
   "source": [
    "result.fit(train_data, labels)"
   ]
  },
  {
   "cell_type": "markdown",
   "metadata": {},
   "source": [
    "Best results"
   ]
  },
  {
   "cell_type": "code",
   "execution_count": 73,
   "metadata": {},
   "outputs": [
    {
     "name": "stdout",
     "output_type": "stream",
     "text": [
      "Best accuracy: 32.80\n"
     ]
    }
   ],
   "source": [
    "print(\"Best accuracy: %.2f\" % (result.best_score_ * 100))"
   ]
  },
  {
   "cell_type": "markdown",
   "metadata": {},
   "source": [
    "# XG Boost"
   ]
  },
  {
   "cell_type": "code",
   "execution_count": 74,
   "metadata": {
    "collapsed": true
   },
   "outputs": [],
   "source": [
    "import xgboost as xgb\n",
    "from sklearn.model_selection import train_test_split\n",
    "from sklearn.metrics import accuracy_score\n",
    "import numpy as np\n",
    "\n",
    "# Create Dmatrix for more performance \n",
    "data_matrix = xgb.DMatrix(data=train_data,label=labels)\n",
    "\n",
    "# Split data to train and test\n",
    "X_train, X_test, y_train, y_test = train_test_split(train_data, labels, test_size=0.2, random_state=123)"
   ]
  },
  {
   "cell_type": "code",
   "execution_count": 75,
   "metadata": {
    "collapsed": true
   },
   "outputs": [],
   "source": [
    "# Instantitate an XGBosst Classifier\n",
    "xg_clf = xgb.XGBClassifier(objective ='binary:logistic', colsample_bytree = 0.1, learning_rate = 0.1,\n",
    "                max_depth = 10, alpha = 10, n_estimators = 10)\n"
   ]
  },
  {
   "cell_type": "code",
   "execution_count": 76,
   "metadata": {
    "collapsed": true
   },
   "outputs": [],
   "source": [
    "# Fit the classifier to the training set\n",
    "xg_clf.fit(X_train,y_train)\n",
    "\n",
    "# Predit test data\n",
    "preds = xg_clf.predict(X_test)\n",
    "\n",
    "# Accuracy\n",
    "accuracy = accuracy_score(y_test, preds)"
   ]
  },
  {
   "cell_type": "code",
   "execution_count": 77,
   "metadata": {},
   "outputs": [
    {
     "name": "stdout",
     "output_type": "stream",
     "text": [
      "Best accuracy: 25.40\n"
     ]
    }
   ],
   "source": [
    "print(\"Best accuracy: %.2f\" % (accuracy*100))\n"
   ]
  },
  {
   "cell_type": "code",
   "execution_count": null,
   "metadata": {
    "collapsed": true
   },
   "outputs": [],
   "source": []
  }
 ],
 "metadata": {
  "kernelspec": {
   "display_name": "Python 3",
   "language": "python",
   "name": "python3"
  },
  "language_info": {
   "codemirror_mode": {
    "name": "ipython",
    "version": 3
   },
   "file_extension": ".py",
   "mimetype": "text/x-python",
   "name": "python",
   "nbconvert_exporter": "python",
   "pygments_lexer": "ipython3",
   "version": "3.6.1"
  }
 },
 "nbformat": 4,
 "nbformat_minor": 2
}
