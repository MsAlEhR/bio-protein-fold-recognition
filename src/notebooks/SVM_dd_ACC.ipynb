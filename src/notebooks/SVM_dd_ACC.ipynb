{
 "cells": [
  {
   "cell_type": "markdown",
   "metadata": {},
   "source": [
    "## Training SVM classifier on DD_bigram dataset"
   ]
  },
  {
   "cell_type": "markdown",
   "metadata": {},
   "source": [
    "The first step is to read dataset from CSV file"
   ]
  },
  {
   "cell_type": "code",
   "execution_count": 1,
   "metadata": {},
   "outputs": [],
   "source": [
    "import pandas as pd\n",
    "from sklearn import preprocessing\n",
    "\n",
    "\n",
    "#dd_dataset = pd.read_csv('./dataset/dd_pssm_dataset_improved.csv')\n",
    "# Add separated dimers feature extraction\n",
    "\n",
    "dd_dataset = pd.read_csv('./dataset/ACC_dataset.csv')"
   ]
  },
  {
   "cell_type": "code",
   "execution_count": 2,
   "metadata": {},
   "outputs": [
    {
     "data": {
      "text/html": [
       "<div>\n",
       "<style scoped>\n",
       "    .dataframe tbody tr th:only-of-type {\n",
       "        vertical-align: middle;\n",
       "    }\n",
       "\n",
       "    .dataframe tbody tr th {\n",
       "        vertical-align: top;\n",
       "    }\n",
       "\n",
       "    .dataframe thead th {\n",
       "        text-align: right;\n",
       "    }\n",
       "</style>\n",
       "<table border=\"1\" class=\"dataframe\">\n",
       "  <thead>\n",
       "    <tr style=\"text-align: right;\">\n",
       "      <th></th>\n",
       "      <th>Fold</th>\n",
       "      <th>Protein name</th>\n",
       "      <th>F1</th>\n",
       "      <th>F2</th>\n",
       "      <th>F3</th>\n",
       "      <th>F4</th>\n",
       "      <th>F5</th>\n",
       "      <th>F6</th>\n",
       "      <th>F7</th>\n",
       "      <th>F8</th>\n",
       "      <th>...</th>\n",
       "      <th>F1591</th>\n",
       "      <th>F1592</th>\n",
       "      <th>F1593</th>\n",
       "      <th>F1594</th>\n",
       "      <th>F1595</th>\n",
       "      <th>F1596</th>\n",
       "      <th>F1597</th>\n",
       "      <th>F1598</th>\n",
       "      <th>F1599</th>\n",
       "      <th>F1600</th>\n",
       "    </tr>\n",
       "  </thead>\n",
       "  <tbody>\n",
       "    <tr>\n",
       "      <th>0</th>\n",
       "      <td>Globm-like(alpha)</td>\n",
       "      <td>2LHB</td>\n",
       "      <td>0.793873</td>\n",
       "      <td>-3.081755e-02</td>\n",
       "      <td>0.064096</td>\n",
       "      <td>-0.278083</td>\n",
       "      <td>0.512932</td>\n",
       "      <td>-0.041347</td>\n",
       "      <td>0.165949</td>\n",
       "      <td>1.575439</td>\n",
       "      <td>...</td>\n",
       "      <td>0.472132</td>\n",
       "      <td>0.170672</td>\n",
       "      <td>-0.218105</td>\n",
       "      <td>-0.170188</td>\n",
       "      <td>0.349094</td>\n",
       "      <td>-0.134711</td>\n",
       "      <td>0.038802</td>\n",
       "      <td>-0.288539</td>\n",
       "      <td>-0.154789</td>\n",
       "      <td>-0.047447</td>\n",
       "    </tr>\n",
       "    <tr>\n",
       "      <th>1</th>\n",
       "      <td>Globm-like(alpha)</td>\n",
       "      <td>3SDHA</td>\n",
       "      <td>0.875325</td>\n",
       "      <td>-9.067278e-03</td>\n",
       "      <td>-0.157973</td>\n",
       "      <td>-0.037824</td>\n",
       "      <td>-0.096289</td>\n",
       "      <td>-0.600570</td>\n",
       "      <td>-0.038737</td>\n",
       "      <td>-0.059022</td>\n",
       "      <td>...</td>\n",
       "      <td>0.560130</td>\n",
       "      <td>0.158264</td>\n",
       "      <td>0.321806</td>\n",
       "      <td>-0.061033</td>\n",
       "      <td>-0.141472</td>\n",
       "      <td>-0.118656</td>\n",
       "      <td>-0.194835</td>\n",
       "      <td>-0.168613</td>\n",
       "      <td>-0.201502</td>\n",
       "      <td>0.559921</td>\n",
       "    </tr>\n",
       "    <tr>\n",
       "      <th>2</th>\n",
       "      <td>Globm-like(alpha)</td>\n",
       "      <td>1FLP</td>\n",
       "      <td>0.125819</td>\n",
       "      <td>-1.781493e-03</td>\n",
       "      <td>0.145366</td>\n",
       "      <td>-0.101477</td>\n",
       "      <td>0.071309</td>\n",
       "      <td>-0.206604</td>\n",
       "      <td>-0.007126</td>\n",
       "      <td>-0.007126</td>\n",
       "      <td>...</td>\n",
       "      <td>-0.014928</td>\n",
       "      <td>-0.010667</td>\n",
       "      <td>-0.012827</td>\n",
       "      <td>-0.005574</td>\n",
       "      <td>-0.009291</td>\n",
       "      <td>-0.003234</td>\n",
       "      <td>-0.019719</td>\n",
       "      <td>-0.010969</td>\n",
       "      <td>-0.013007</td>\n",
       "      <td>-0.007433</td>\n",
       "    </tr>\n",
       "    <tr>\n",
       "      <th>3</th>\n",
       "      <td>Globm-like(alpha)</td>\n",
       "      <td>2HBG</td>\n",
       "      <td>0.494363</td>\n",
       "      <td>-2.093698e-03</td>\n",
       "      <td>-0.143159</td>\n",
       "      <td>-0.102345</td>\n",
       "      <td>-0.048332</td>\n",
       "      <td>-0.504646</td>\n",
       "      <td>0.173782</td>\n",
       "      <td>-0.166912</td>\n",
       "      <td>...</td>\n",
       "      <td>0.231198</td>\n",
       "      <td>-0.039521</td>\n",
       "      <td>-0.023178</td>\n",
       "      <td>-0.023070</td>\n",
       "      <td>-0.051187</td>\n",
       "      <td>-0.023942</td>\n",
       "      <td>0.219130</td>\n",
       "      <td>-0.019667</td>\n",
       "      <td>-0.086914</td>\n",
       "      <td>-0.015961</td>\n",
       "    </tr>\n",
       "    <tr>\n",
       "      <th>4</th>\n",
       "      <td>Globm-like(alpha)</td>\n",
       "      <td>2MGE</td>\n",
       "      <td>-0.872793</td>\n",
       "      <td>9.482830e-29</td>\n",
       "      <td>-0.247875</td>\n",
       "      <td>-0.822224</td>\n",
       "      <td>-0.300076</td>\n",
       "      <td>-0.207240</td>\n",
       "      <td>-0.050007</td>\n",
       "      <td>0.256775</td>\n",
       "      <td>...</td>\n",
       "      <td>-0.103157</td>\n",
       "      <td>-0.021785</td>\n",
       "      <td>0.091978</td>\n",
       "      <td>-0.050952</td>\n",
       "      <td>-0.077002</td>\n",
       "      <td>-0.056616</td>\n",
       "      <td>0.062953</td>\n",
       "      <td>-0.069314</td>\n",
       "      <td>0.162716</td>\n",
       "      <td>0.218462</td>\n",
       "    </tr>\n",
       "  </tbody>\n",
       "</table>\n",
       "<p>5 rows × 1602 columns</p>\n",
       "</div>"
      ],
      "text/plain": [
       "                Fold Protein name        F1            F2        F3        F4  \\\n",
       "0  Globm-like(alpha)         2LHB  0.793873 -3.081755e-02  0.064096 -0.278083   \n",
       "1  Globm-like(alpha)        3SDHA  0.875325 -9.067278e-03 -0.157973 -0.037824   \n",
       "2  Globm-like(alpha)         1FLP  0.125819 -1.781493e-03  0.145366 -0.101477   \n",
       "3  Globm-like(alpha)         2HBG  0.494363 -2.093698e-03 -0.143159 -0.102345   \n",
       "4  Globm-like(alpha)         2MGE -0.872793  9.482830e-29 -0.247875 -0.822224   \n",
       "\n",
       "         F5        F6        F7        F8    ...        F1591     F1592  \\\n",
       "0  0.512932 -0.041347  0.165949  1.575439    ...     0.472132  0.170672   \n",
       "1 -0.096289 -0.600570 -0.038737 -0.059022    ...     0.560130  0.158264   \n",
       "2  0.071309 -0.206604 -0.007126 -0.007126    ...    -0.014928 -0.010667   \n",
       "3 -0.048332 -0.504646  0.173782 -0.166912    ...     0.231198 -0.039521   \n",
       "4 -0.300076 -0.207240 -0.050007  0.256775    ...    -0.103157 -0.021785   \n",
       "\n",
       "      F1593     F1594     F1595     F1596     F1597     F1598     F1599  \\\n",
       "0 -0.218105 -0.170188  0.349094 -0.134711  0.038802 -0.288539 -0.154789   \n",
       "1  0.321806 -0.061033 -0.141472 -0.118656 -0.194835 -0.168613 -0.201502   \n",
       "2 -0.012827 -0.005574 -0.009291 -0.003234 -0.019719 -0.010969 -0.013007   \n",
       "3 -0.023178 -0.023070 -0.051187 -0.023942  0.219130 -0.019667 -0.086914   \n",
       "4  0.091978 -0.050952 -0.077002 -0.056616  0.062953 -0.069314  0.162716   \n",
       "\n",
       "      F1600  \n",
       "0 -0.047447  \n",
       "1  0.559921  \n",
       "2 -0.007433  \n",
       "3 -0.015961  \n",
       "4  0.218462  \n",
       "\n",
       "[5 rows x 1602 columns]"
      ]
     },
     "execution_count": 2,
     "metadata": {},
     "output_type": "execute_result"
    }
   ],
   "source": [
    "dd_dataset.head()"
   ]
  },
  {
   "cell_type": "markdown",
   "metadata": {},
   "source": [
    "Convert class lables to unique integers"
   ]
  },
  {
   "cell_type": "code",
   "execution_count": 3,
   "metadata": {},
   "outputs": [],
   "source": [
    "# Encode class labels\n",
    "#from sklearn.preprocessing import LabelEncoder\n",
    "\n",
    "y_true, labels = pd.factorize(dd_dataset.Fold)\n",
    "dd_dataset.insert(1, 'class labels', y_true)"
   ]
  },
  {
   "cell_type": "code",
   "execution_count": 4,
   "metadata": {},
   "outputs": [
    {
     "data": {
      "text/html": [
       "<div>\n",
       "<style scoped>\n",
       "    .dataframe tbody tr th:only-of-type {\n",
       "        vertical-align: middle;\n",
       "    }\n",
       "\n",
       "    .dataframe tbody tr th {\n",
       "        vertical-align: top;\n",
       "    }\n",
       "\n",
       "    .dataframe thead th {\n",
       "        text-align: right;\n",
       "    }\n",
       "</style>\n",
       "<table border=\"1\" class=\"dataframe\">\n",
       "  <thead>\n",
       "    <tr style=\"text-align: right;\">\n",
       "      <th></th>\n",
       "      <th>Fold</th>\n",
       "      <th>class labels</th>\n",
       "      <th>Protein name</th>\n",
       "      <th>F1</th>\n",
       "      <th>F2</th>\n",
       "      <th>F3</th>\n",
       "      <th>F4</th>\n",
       "      <th>F5</th>\n",
       "      <th>F6</th>\n",
       "      <th>F7</th>\n",
       "      <th>...</th>\n",
       "      <th>F1591</th>\n",
       "      <th>F1592</th>\n",
       "      <th>F1593</th>\n",
       "      <th>F1594</th>\n",
       "      <th>F1595</th>\n",
       "      <th>F1596</th>\n",
       "      <th>F1597</th>\n",
       "      <th>F1598</th>\n",
       "      <th>F1599</th>\n",
       "      <th>F1600</th>\n",
       "    </tr>\n",
       "  </thead>\n",
       "  <tbody>\n",
       "    <tr>\n",
       "      <th>0</th>\n",
       "      <td>Globm-like(alpha)</td>\n",
       "      <td>0</td>\n",
       "      <td>2LHB</td>\n",
       "      <td>0.793873</td>\n",
       "      <td>-3.081755e-02</td>\n",
       "      <td>0.064096</td>\n",
       "      <td>-0.278083</td>\n",
       "      <td>0.512932</td>\n",
       "      <td>-0.041347</td>\n",
       "      <td>0.165949</td>\n",
       "      <td>...</td>\n",
       "      <td>0.472132</td>\n",
       "      <td>0.170672</td>\n",
       "      <td>-0.218105</td>\n",
       "      <td>-0.170188</td>\n",
       "      <td>0.349094</td>\n",
       "      <td>-0.134711</td>\n",
       "      <td>0.038802</td>\n",
       "      <td>-0.288539</td>\n",
       "      <td>-0.154789</td>\n",
       "      <td>-0.047447</td>\n",
       "    </tr>\n",
       "    <tr>\n",
       "      <th>1</th>\n",
       "      <td>Globm-like(alpha)</td>\n",
       "      <td>0</td>\n",
       "      <td>3SDHA</td>\n",
       "      <td>0.875325</td>\n",
       "      <td>-9.067278e-03</td>\n",
       "      <td>-0.157973</td>\n",
       "      <td>-0.037824</td>\n",
       "      <td>-0.096289</td>\n",
       "      <td>-0.600570</td>\n",
       "      <td>-0.038737</td>\n",
       "      <td>...</td>\n",
       "      <td>0.560130</td>\n",
       "      <td>0.158264</td>\n",
       "      <td>0.321806</td>\n",
       "      <td>-0.061033</td>\n",
       "      <td>-0.141472</td>\n",
       "      <td>-0.118656</td>\n",
       "      <td>-0.194835</td>\n",
       "      <td>-0.168613</td>\n",
       "      <td>-0.201502</td>\n",
       "      <td>0.559921</td>\n",
       "    </tr>\n",
       "    <tr>\n",
       "      <th>2</th>\n",
       "      <td>Globm-like(alpha)</td>\n",
       "      <td>0</td>\n",
       "      <td>1FLP</td>\n",
       "      <td>0.125819</td>\n",
       "      <td>-1.781493e-03</td>\n",
       "      <td>0.145366</td>\n",
       "      <td>-0.101477</td>\n",
       "      <td>0.071309</td>\n",
       "      <td>-0.206604</td>\n",
       "      <td>-0.007126</td>\n",
       "      <td>...</td>\n",
       "      <td>-0.014928</td>\n",
       "      <td>-0.010667</td>\n",
       "      <td>-0.012827</td>\n",
       "      <td>-0.005574</td>\n",
       "      <td>-0.009291</td>\n",
       "      <td>-0.003234</td>\n",
       "      <td>-0.019719</td>\n",
       "      <td>-0.010969</td>\n",
       "      <td>-0.013007</td>\n",
       "      <td>-0.007433</td>\n",
       "    </tr>\n",
       "    <tr>\n",
       "      <th>3</th>\n",
       "      <td>Globm-like(alpha)</td>\n",
       "      <td>0</td>\n",
       "      <td>2HBG</td>\n",
       "      <td>0.494363</td>\n",
       "      <td>-2.093698e-03</td>\n",
       "      <td>-0.143159</td>\n",
       "      <td>-0.102345</td>\n",
       "      <td>-0.048332</td>\n",
       "      <td>-0.504646</td>\n",
       "      <td>0.173782</td>\n",
       "      <td>...</td>\n",
       "      <td>0.231198</td>\n",
       "      <td>-0.039521</td>\n",
       "      <td>-0.023178</td>\n",
       "      <td>-0.023070</td>\n",
       "      <td>-0.051187</td>\n",
       "      <td>-0.023942</td>\n",
       "      <td>0.219130</td>\n",
       "      <td>-0.019667</td>\n",
       "      <td>-0.086914</td>\n",
       "      <td>-0.015961</td>\n",
       "    </tr>\n",
       "    <tr>\n",
       "      <th>4</th>\n",
       "      <td>Globm-like(alpha)</td>\n",
       "      <td>0</td>\n",
       "      <td>2MGE</td>\n",
       "      <td>-0.872793</td>\n",
       "      <td>9.482830e-29</td>\n",
       "      <td>-0.247875</td>\n",
       "      <td>-0.822224</td>\n",
       "      <td>-0.300076</td>\n",
       "      <td>-0.207240</td>\n",
       "      <td>-0.050007</td>\n",
       "      <td>...</td>\n",
       "      <td>-0.103157</td>\n",
       "      <td>-0.021785</td>\n",
       "      <td>0.091978</td>\n",
       "      <td>-0.050952</td>\n",
       "      <td>-0.077002</td>\n",
       "      <td>-0.056616</td>\n",
       "      <td>0.062953</td>\n",
       "      <td>-0.069314</td>\n",
       "      <td>0.162716</td>\n",
       "      <td>0.218462</td>\n",
       "    </tr>\n",
       "  </tbody>\n",
       "</table>\n",
       "<p>5 rows × 1603 columns</p>\n",
       "</div>"
      ],
      "text/plain": [
       "                Fold  class labels Protein name        F1            F2  \\\n",
       "0  Globm-like(alpha)             0         2LHB  0.793873 -3.081755e-02   \n",
       "1  Globm-like(alpha)             0        3SDHA  0.875325 -9.067278e-03   \n",
       "2  Globm-like(alpha)             0         1FLP  0.125819 -1.781493e-03   \n",
       "3  Globm-like(alpha)             0         2HBG  0.494363 -2.093698e-03   \n",
       "4  Globm-like(alpha)             0         2MGE -0.872793  9.482830e-29   \n",
       "\n",
       "         F3        F4        F5        F6        F7    ...        F1591  \\\n",
       "0  0.064096 -0.278083  0.512932 -0.041347  0.165949    ...     0.472132   \n",
       "1 -0.157973 -0.037824 -0.096289 -0.600570 -0.038737    ...     0.560130   \n",
       "2  0.145366 -0.101477  0.071309 -0.206604 -0.007126    ...    -0.014928   \n",
       "3 -0.143159 -0.102345 -0.048332 -0.504646  0.173782    ...     0.231198   \n",
       "4 -0.247875 -0.822224 -0.300076 -0.207240 -0.050007    ...    -0.103157   \n",
       "\n",
       "      F1592     F1593     F1594     F1595     F1596     F1597     F1598  \\\n",
       "0  0.170672 -0.218105 -0.170188  0.349094 -0.134711  0.038802 -0.288539   \n",
       "1  0.158264  0.321806 -0.061033 -0.141472 -0.118656 -0.194835 -0.168613   \n",
       "2 -0.010667 -0.012827 -0.005574 -0.009291 -0.003234 -0.019719 -0.010969   \n",
       "3 -0.039521 -0.023178 -0.023070 -0.051187 -0.023942  0.219130 -0.019667   \n",
       "4 -0.021785  0.091978 -0.050952 -0.077002 -0.056616  0.062953 -0.069314   \n",
       "\n",
       "      F1599     F1600  \n",
       "0 -0.154789 -0.047447  \n",
       "1 -0.201502  0.559921  \n",
       "2 -0.013007 -0.007433  \n",
       "3 -0.086914 -0.015961  \n",
       "4  0.162716  0.218462  \n",
       "\n",
       "[5 rows x 1603 columns]"
      ]
     },
     "execution_count": 4,
     "metadata": {},
     "output_type": "execute_result"
    }
   ],
   "source": [
    "dd_dataset.head()"
   ]
  },
  {
   "cell_type": "markdown",
   "metadata": {},
   "source": [
    "Create a training set from pandas data frame"
   ]
  },
  {
   "cell_type": "code",
   "execution_count": 5,
   "metadata": {},
   "outputs": [
    {
     "name": "stdout",
     "output_type": "stream",
     "text": [
      "Number of samples: 311, Number of features: 1600\n"
     ]
    }
   ],
   "source": [
    "train_data = dd_dataset[['F%d' % i for i in range(1,1601)]].values\n",
    "\n",
    "# Normalize dataset\n",
    "min_max_scaler = preprocessing.MinMaxScaler()\n",
    "train_scaled = min_max_scaler.fit_transform(train_data)\n",
    "train_data = train_scaled\n",
    "\n",
    "print(\"Number of samples: %d, Number of features: %d\" % (train_data.shape[0], train_data.shape[1]))"
   ]
  },
  {
   "cell_type": "code",
   "execution_count": 6,
   "metadata": {},
   "outputs": [
    {
     "data": {
      "text/html": [
       "<div>\n",
       "<style scoped>\n",
       "    .dataframe tbody tr th:only-of-type {\n",
       "        vertical-align: middle;\n",
       "    }\n",
       "\n",
       "    .dataframe tbody tr th {\n",
       "        vertical-align: top;\n",
       "    }\n",
       "\n",
       "    .dataframe thead th {\n",
       "        text-align: right;\n",
       "    }\n",
       "</style>\n",
       "<table border=\"1\" class=\"dataframe\">\n",
       "  <thead>\n",
       "    <tr style=\"text-align: right;\">\n",
       "      <th></th>\n",
       "      <th>0</th>\n",
       "      <th>1</th>\n",
       "      <th>2</th>\n",
       "      <th>3</th>\n",
       "      <th>4</th>\n",
       "      <th>5</th>\n",
       "      <th>6</th>\n",
       "      <th>7</th>\n",
       "      <th>8</th>\n",
       "      <th>9</th>\n",
       "      <th>...</th>\n",
       "      <th>1590</th>\n",
       "      <th>1591</th>\n",
       "      <th>1592</th>\n",
       "      <th>1593</th>\n",
       "      <th>1594</th>\n",
       "      <th>1595</th>\n",
       "      <th>1596</th>\n",
       "      <th>1597</th>\n",
       "      <th>1598</th>\n",
       "      <th>1599</th>\n",
       "    </tr>\n",
       "  </thead>\n",
       "  <tbody>\n",
       "    <tr>\n",
       "      <th>0</th>\n",
       "      <td>0.536139</td>\n",
       "      <td>0.793945</td>\n",
       "      <td>0.348690</td>\n",
       "      <td>0.319306</td>\n",
       "      <td>0.779587</td>\n",
       "      <td>0.394475</td>\n",
       "      <td>0.377071</td>\n",
       "      <td>0.839231</td>\n",
       "      <td>0.512293</td>\n",
       "      <td>0.408568</td>\n",
       "      <td>...</td>\n",
       "      <td>0.321682</td>\n",
       "      <td>0.325383</td>\n",
       "      <td>0.213765</td>\n",
       "      <td>0.368394</td>\n",
       "      <td>0.734201</td>\n",
       "      <td>0.207936</td>\n",
       "      <td>0.561797</td>\n",
       "      <td>0.383042</td>\n",
       "      <td>0.214464</td>\n",
       "      <td>0.174972</td>\n",
       "    </tr>\n",
       "    <tr>\n",
       "      <th>1</th>\n",
       "      <td>0.552565</td>\n",
       "      <td>0.800719</td>\n",
       "      <td>0.290521</td>\n",
       "      <td>0.349288</td>\n",
       "      <td>0.448809</td>\n",
       "      <td>0.281858</td>\n",
       "      <td>0.298069</td>\n",
       "      <td>0.387477</td>\n",
       "      <td>0.678321</td>\n",
       "      <td>0.203758</td>\n",
       "      <td>...</td>\n",
       "      <td>0.343062</td>\n",
       "      <td>0.318578</td>\n",
       "      <td>0.397547</td>\n",
       "      <td>0.399211</td>\n",
       "      <td>0.602395</td>\n",
       "      <td>0.212538</td>\n",
       "      <td>0.500620</td>\n",
       "      <td>0.418767</td>\n",
       "      <td>0.199575</td>\n",
       "      <td>0.479759</td>\n",
       "    </tr>\n",
       "    <tr>\n",
       "      <th>2</th>\n",
       "      <td>0.401415</td>\n",
       "      <td>0.802988</td>\n",
       "      <td>0.369978</td>\n",
       "      <td>0.341344</td>\n",
       "      <td>0.539807</td>\n",
       "      <td>0.361195</td>\n",
       "      <td>0.310270</td>\n",
       "      <td>0.401820</td>\n",
       "      <td>0.411936</td>\n",
       "      <td>0.359765</td>\n",
       "      <td>...</td>\n",
       "      <td>0.203348</td>\n",
       "      <td>0.225930</td>\n",
       "      <td>0.283640</td>\n",
       "      <td>0.414868</td>\n",
       "      <td>0.637910</td>\n",
       "      <td>0.245624</td>\n",
       "      <td>0.546473</td>\n",
       "      <td>0.465729</td>\n",
       "      <td>0.259654</td>\n",
       "      <td>0.195051</td>\n",
       "    </tr>\n",
       "    <tr>\n",
       "      <th>3</th>\n",
       "      <td>0.475738</td>\n",
       "      <td>0.802891</td>\n",
       "      <td>0.294402</td>\n",
       "      <td>0.341236</td>\n",
       "      <td>0.474847</td>\n",
       "      <td>0.301175</td>\n",
       "      <td>0.380094</td>\n",
       "      <td>0.357657</td>\n",
       "      <td>0.446061</td>\n",
       "      <td>0.405489</td>\n",
       "      <td>...</td>\n",
       "      <td>0.263146</td>\n",
       "      <td>0.210105</td>\n",
       "      <td>0.280117</td>\n",
       "      <td>0.409929</td>\n",
       "      <td>0.626653</td>\n",
       "      <td>0.239688</td>\n",
       "      <td>0.609015</td>\n",
       "      <td>0.463138</td>\n",
       "      <td>0.236098</td>\n",
       "      <td>0.190772</td>\n",
       "    </tr>\n",
       "    <tr>\n",
       "      <th>4</th>\n",
       "      <td>0.200029</td>\n",
       "      <td>0.803543</td>\n",
       "      <td>0.266973</td>\n",
       "      <td>0.251402</td>\n",
       "      <td>0.338163</td>\n",
       "      <td>0.361067</td>\n",
       "      <td>0.293719</td>\n",
       "      <td>0.474761</td>\n",
       "      <td>0.555613</td>\n",
       "      <td>0.100691</td>\n",
       "      <td>...</td>\n",
       "      <td>0.181913</td>\n",
       "      <td>0.219832</td>\n",
       "      <td>0.319315</td>\n",
       "      <td>0.402057</td>\n",
       "      <td>0.619717</td>\n",
       "      <td>0.230322</td>\n",
       "      <td>0.568121</td>\n",
       "      <td>0.448348</td>\n",
       "      <td>0.315661</td>\n",
       "      <td>0.308409</td>\n",
       "    </tr>\n",
       "  </tbody>\n",
       "</table>\n",
       "<p>5 rows × 1600 columns</p>\n",
       "</div>"
      ],
      "text/plain": [
       "       0         1         2         3         4         5         6     \\\n",
       "0  0.536139  0.793945  0.348690  0.319306  0.779587  0.394475  0.377071   \n",
       "1  0.552565  0.800719  0.290521  0.349288  0.448809  0.281858  0.298069   \n",
       "2  0.401415  0.802988  0.369978  0.341344  0.539807  0.361195  0.310270   \n",
       "3  0.475738  0.802891  0.294402  0.341236  0.474847  0.301175  0.380094   \n",
       "4  0.200029  0.803543  0.266973  0.251402  0.338163  0.361067  0.293719   \n",
       "\n",
       "       7         8         9       ...         1590      1591      1592  \\\n",
       "0  0.839231  0.512293  0.408568    ...     0.321682  0.325383  0.213765   \n",
       "1  0.387477  0.678321  0.203758    ...     0.343062  0.318578  0.397547   \n",
       "2  0.401820  0.411936  0.359765    ...     0.203348  0.225930  0.283640   \n",
       "3  0.357657  0.446061  0.405489    ...     0.263146  0.210105  0.280117   \n",
       "4  0.474761  0.555613  0.100691    ...     0.181913  0.219832  0.319315   \n",
       "\n",
       "       1593      1594      1595      1596      1597      1598      1599  \n",
       "0  0.368394  0.734201  0.207936  0.561797  0.383042  0.214464  0.174972  \n",
       "1  0.399211  0.602395  0.212538  0.500620  0.418767  0.199575  0.479759  \n",
       "2  0.414868  0.637910  0.245624  0.546473  0.465729  0.259654  0.195051  \n",
       "3  0.409929  0.626653  0.239688  0.609015  0.463138  0.236098  0.190772  \n",
       "4  0.402057  0.619717  0.230322  0.568121  0.448348  0.315661  0.308409  \n",
       "\n",
       "[5 rows x 1600 columns]"
      ]
     },
     "execution_count": 6,
     "metadata": {},
     "output_type": "execute_result"
    }
   ],
   "source": [
    "# Show normlaized data\n",
    "\n",
    "train = pd.DataFrame(train_data)\n",
    "\n",
    "train.head()\n"
   ]
  },
  {
   "cell_type": "markdown",
   "metadata": {},
   "source": [
    "## Data analysis"
   ]
  },
  {
   "cell_type": "code",
   "execution_count": 7,
   "metadata": {},
   "outputs": [
    {
     "data": {
      "text/plain": [
       "<Figure size 640x480 with 1 Axes>"
      ]
     },
     "metadata": {},
     "output_type": "display_data"
    }
   ],
   "source": [
    "# Frequency of folds\n",
    "import matplotlib.pyplot as plt\n",
    "\n",
    "fig, ax = plt.subplots()\n",
    "freq_plot = dd_dataset['Fold'].value_counts().plot(ax=ax, kind='bar')\n",
    "freq_plot.set_ylabel('Number of proteins')\n",
    "plt.show()"
   ]
  },
  {
   "cell_type": "markdown",
   "metadata": {},
   "source": [
    "## SVM classifier"
   ]
  },
  {
   "cell_type": "code",
   "execution_count": 8,
   "metadata": {},
   "outputs": [],
   "source": [
    "from sklearn.svm import SVC\n",
    "from sklearn.model_selection import GridSearchCV\n",
    "\n",
    "# Hyperparameters\n",
    "kernel = 'rbf'\n",
    "\n",
    "# An instance of SVM classifier\n",
    "svm_cl = SVC(kernel=kernel)"
   ]
  },
  {
   "cell_type": "markdown",
   "metadata": {},
   "source": [
    "Define range of parameters for Grid Search"
   ]
  },
  {
   "cell_type": "code",
   "execution_count": 9,
   "metadata": {},
   "outputs": [],
   "source": [
    "# Penalty parameter\n",
    "c_range = {'C': [float(2**i) for i in range(-14, 14)]}\n",
    "# Gamma parameter for RBF kernel\n",
    "gamma_range = {'gamma': [float(2**i) for i in range(-14, 14)]} if kernel == 'rbf' else {}\n",
    "\n",
    "param_range = {**c_range, **gamma_range}\n",
    "\n",
    "# Arguments for grid search\n",
    "cv_fold = 10\n",
    "n_workers = -1 # Number of CPU threads\n",
    "\n",
    "result = GridSearchCV(svm_cl, param_range, cv=cv_fold, n_jobs=n_workers, refit=True,\n",
    "                      verbose=1)"
   ]
  },
  {
   "cell_type": "markdown",
   "metadata": {},
   "source": [
    "Start grid search!"
   ]
  },
  {
   "cell_type": "code",
   "execution_count": 10,
   "metadata": {},
   "outputs": [
    {
     "name": "stdout",
     "output_type": "stream",
     "text": [
      "Fitting 10 folds for each of 784 candidates, totalling 7840 fits\n"
     ]
    },
    {
     "name": "stderr",
     "output_type": "stream",
     "text": [
      "C:\\Users\\Mir\\Anaconda3\\lib\\site-packages\\sklearn\\model_selection\\_split.py:605: Warning: The least populated class in y has only 6 members, which is too few. The minimum number of members in any class cannot be less than n_splits=10.\n",
      "  % (min_groups, self.n_splits)), Warning)\n",
      "[Parallel(n_jobs=-1)]: Done  42 tasks      | elapsed:    7.4s\n",
      "[Parallel(n_jobs=-1)]: Done 192 tasks      | elapsed:   27.8s\n",
      "[Parallel(n_jobs=-1)]: Done 442 tasks      | elapsed:  1.0min\n",
      "[Parallel(n_jobs=-1)]: Done 792 tasks      | elapsed:  1.8min\n",
      "[Parallel(n_jobs=-1)]: Done 1242 tasks      | elapsed:  2.8min\n",
      "[Parallel(n_jobs=-1)]: Done 1792 tasks      | elapsed:  4.0min\n",
      "[Parallel(n_jobs=-1)]: Done 2442 tasks      | elapsed:  5.6min\n",
      "[Parallel(n_jobs=-1)]: Done 3192 tasks      | elapsed:  7.4min\n",
      "[Parallel(n_jobs=-1)]: Done 4042 tasks      | elapsed:  9.5min\n",
      "[Parallel(n_jobs=-1)]: Done 4992 tasks      | elapsed: 11.8min\n",
      "[Parallel(n_jobs=-1)]: Done 6042 tasks      | elapsed: 14.4min\n",
      "[Parallel(n_jobs=-1)]: Done 7192 tasks      | elapsed: 17.2min\n",
      "[Parallel(n_jobs=-1)]: Done 7840 out of 7840 | elapsed: 18.7min finished\n"
     ]
    },
    {
     "data": {
      "text/plain": [
       "GridSearchCV(cv=10, error_score='raise',\n",
       "       estimator=SVC(C=1.0, cache_size=200, class_weight=None, coef0=0.0,\n",
       "  decision_function_shape='ovr', degree=3, gamma='auto', kernel='rbf',\n",
       "  max_iter=-1, probability=False, random_state=None, shrinking=True,\n",
       "  tol=0.001, verbose=False),\n",
       "       fit_params=None, iid=True, n_jobs=-1,\n",
       "       param_grid={'C': [6.103515625e-05, 0.0001220703125, 0.000244140625, 0.00048828125, 0.0009765625, 0.001953125, 0.00390625, 0.0078125, 0.015625, 0.03125, 0.0625, 0.125, 0.25, 0.5, 1.0, 2.0, 4.0, 8.0, 16.0, 32.0, 64.0, 128.0, 256.0, 512.0, 1024.0, 2048.0, 4096.0, 8192.0], 'gamma': [6.103515625e-05, 0.0...25, 0.5, 1.0, 2.0, 4.0, 8.0, 16.0, 32.0, 64.0, 128.0, 256.0, 512.0, 1024.0, 2048.0, 4096.0, 8192.0]},\n",
       "       pre_dispatch='2*n_jobs', refit=True, return_train_score='warn',\n",
       "       scoring=None, verbose=1)"
      ]
     },
     "execution_count": 10,
     "metadata": {},
     "output_type": "execute_result"
    }
   ],
   "source": [
    "result.fit(train_data, y_true)"
   ]
  },
  {
   "cell_type": "markdown",
   "metadata": {},
   "source": [
    "Best results"
   ]
  },
  {
   "cell_type": "code",
   "execution_count": 11,
   "metadata": {},
   "outputs": [
    {
     "name": "stdout",
     "output_type": "stream",
     "text": [
      "Best accuracy: 21.86\n"
     ]
    }
   ],
   "source": [
    "print(\"Best accuracy: %.2f\" % (result.best_score_ * 100))"
   ]
  },
  {
   "cell_type": "markdown",
   "metadata": {},
   "source": [
    "Confusion matrix"
   ]
  },
  {
   "cell_type": "code",
   "execution_count": 12,
   "metadata": {},
   "outputs": [
    {
     "name": "stdout",
     "output_type": "stream",
     "text": [
      "Accuracy:  89.06752411575563\n"
     ]
    },
    {
     "data": {
      "image/png": "[encoded data removed]",
      "text/plain": [
       "<Figure size 1440x1080 with 2 Axes>"
      ]
     },
     "metadata": {},
     "output_type": "display_data"
    }
   ],
   "source": [
    "from misc import plt_confusion_matrix\n",
    "from sklearn.metrics import confusion_matrix, accuracy_score, classification_report\n",
    "import numpy as np\n",
    "\n",
    "y_pred = result.best_estimator_.predict(train_data)\n",
    "\n",
    "cm = confusion_matrix(labels[y_true], labels[y_pred])\n",
    "\n",
    "print(\"Accuracy: \", (accuracy_score(labels[y_true], labels[y_pred]) * 100))\n",
    "\n",
    "plt.figure(figsize=(20, 15))\n",
    "plt_confusion_matrix(cm, np.unique(labels[y_true]))\n",
    "plt.savefig(\"./report/DD_confusion_matrix.png\", dpi=256)"
   ]
  },
  {
   "cell_type": "markdown",
   "metadata": {},
   "source": [
    "Classification report"
   ]
  },
  {
   "cell_type": "code",
   "execution_count": 13,
   "metadata": {},
   "outputs": [
    {
     "name": "stdout",
     "output_type": "stream",
     "text": [
      "                                                precision    recall  f1-score   support\n",
      "\n",
      "                    (TIM)-BARREL (ALPHA/BELTA)       0.46      1.00      0.63        29\n",
      "                   4-HELICAL CYTOKINES (ALPHA)       1.00      0.78      0.88         9\n",
      "                  4-HELICAL UP-AND-DOWN BUNDLE       1.00      0.86      0.92         7\n",
      "                        ALPHA: EF-HAND (ALPHA)       1.00      1.00      1.00         6\n",
      "                     BELTA-GRASP (ALPHA+BELTA)       1.00      1.00      1.00         7\n",
      "         CONA-LIKE LECTINGS/GLUCANASES (BELTA)       1.00      1.00      1.00         7\n",
      "                           CUPREDOXINS (BELTA)       1.00      1.00      1.00         9\n",
      "                          CYTOCHROME C (ALPHA)       1.00      1.00      1.00         7\n",
      "           DNA-BINDING 3-HELICALBUNDLE (ALPHA)       1.00      1.00      1.00        12\n",
      "   FAD (ALSO NAD) -BINDING MOTIF (ALPHA/BELTA)       1.00      0.27      0.43        11\n",
      "                 FERREDOXIN-LIKE (ALPHA+BELTA)       1.00      0.85      0.92        13\n",
      "                 FLAVODOXIN-LIKE (ALPHA/BELTA)       1.00      0.91      0.95        11\n",
      "                             Globm-like(alpha)       1.00      1.00      1.00        13\n",
      "                      HYDROLASES (ALPHA/BELTA)       1.00      0.91      0.95        11\n",
      "    IMMUNOGLOBULIN-LIKE BELTA-SANDWICH (BELTA)       1.00      0.90      0.95        30\n",
      "                            LIPOCALINS (BELTA)       1.00      1.00      1.00         9\n",
      "    NAD(P)-BINDING ROSSMANN-FOLD (ALPHA/BELTA)       1.00      0.77      0.87        13\n",
      "                               OB-FOLD (BELTA)       1.00      0.85      0.92        13\n",
      "    P-LOOP CONTAINING NUCLEOTIDE (ALPHA/BELTA)       1.00      0.70      0.82        10\n",
      "PERIPLASMIC BINDING PROTEIN-LIKE (ALPHA/BELTA)       1.00      0.91      0.95        11\n",
      "       RIBONUCLEASE H-LIKE MOTIF (ALPHA/BELTA)       1.00      1.00      1.00        10\n",
      "                       SH3 LIKE BARREL (BELTA)       1.00      1.00      1.00         8\n",
      "SMALL INHIBITORS TOXINS, LECTINS (ALPHA+BELTA)       1.00      1.00      1.00        13\n",
      "                THIOREDOXIN-LIKE (ALPHA/BELTA)       1.00      0.67      0.80         9\n",
      "                               TREFOIL (BELTA)       1.00      1.00      1.00         8\n",
      "         TRYPSIN-LIKE SERINE PROTEASES (BELTA)       1.00      0.89      0.94         9\n",
      "        VIRAL COAT AND CAPSID PROTEINS (BELTA)       1.00      0.81      0.90        16\n",
      "\n",
      "                                   avg / total       0.95      0.89      0.90       311\n",
      "\n"
     ]
    }
   ],
   "source": [
    "print(classification_report(labels[y_true], labels[y_pred]))"
   ]
  },
  {
   "cell_type": "markdown",
   "metadata": {},
   "source": [
    "# XG Boost"
   ]
  },
  {
   "cell_type": "code",
   "execution_count": null,
   "metadata": {
    "collapsed": true
   },
   "outputs": [],
   "source": [
    "import xgboost as xgb\n",
    "from sklearn.model_selection import train_test_split\n",
    "from sklearn.metrics import accuracy_score\n",
    "import numpy as np\n",
    "\n",
    "# Create Dmatrix for more performance \n",
    "data_matrix = xgb.DMatrix(data=train_data,label=labels)\n",
    "\n",
    "# Split data to train and test\n",
    "X_train, X_test, y_train, y_test = train_test_split(train_data, labels, test_size=0.2, random_state=123)"
   ]
  },
  {
   "cell_type": "code",
   "execution_count": null,
   "metadata": {
    "collapsed": true
   },
   "outputs": [],
   "source": [
    "# Instantitate an XGBosst Classifier\n",
    "xg_clf = xgb.XGBClassifier(objective ='binary:logistic', colsample_bytree = 0.1, learning_rate = 0.1,\n",
    "                max_depth = 10, alpha = 10, n_estimators = 10)\n"
   ]
  },
  {
   "cell_type": "code",
   "execution_count": null,
   "metadata": {
    "collapsed": true
   },
   "outputs": [],
   "source": [
    "# Fit the classifier to the training set\n",
    "xg_clf.fit(X_train,y_train)\n",
    "\n",
    "# Predit test data\n",
    "preds = xg_clf.predict(X_test)\n",
    "\n",
    "# Accuracy\n",
    "accuracy = accuracy_score(y_test, preds)"
   ]
  },
  {
   "cell_type": "code",
   "execution_count": null,
   "metadata": {
    "collapsed": true
   },
   "outputs": [],
   "source": [
    "print(\"Best accuracy: %.2f\" % (accuracy*100))\n"
   ]
  },
  {
   "cell_type": "code",
   "execution_count": null,
   "metadata": {
    "collapsed": true
   },
   "outputs": [],
   "source": []
  }
 ],
 "metadata": {
  "kernelspec": {
   "display_name": "Python 3",
   "language": "python",
   "name": "python3"
  },
  "language_info": {
   "codemirror_mode": {
    "name": "ipython",
    "version": 3
   },
   "file_extension": ".py",
   "mimetype": "text/x-python",
   "name": "python",
   "nbconvert_exporter": "python",
   "pygments_lexer": "ipython3",
   "version": "3.6.5"
  }
 },
 "nbformat": 4,
 "nbformat_minor": 2
}
