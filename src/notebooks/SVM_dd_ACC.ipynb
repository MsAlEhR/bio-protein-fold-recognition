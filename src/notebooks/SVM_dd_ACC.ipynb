{
 "cells": [
  {
   "cell_type": "markdown",
   "metadata": {},
   "source": [
    "## Training SVM classifier on DD_ACC dataset"
   ]
  },
  {
   "cell_type": "markdown",
   "metadata": {},
   "source": [
    "The first step is to read dataset from CSV file"
   ]
  },
  {
   "cell_type": "code",
   "execution_count": 1,
   "metadata": {
    "collapsed": true
   },
   "outputs": [],
   "source": [
    "import pandas as pd\n",
    "from sklearn import preprocessing\n",
    "\n",
    "\n",
    "#dd_dataset = pd.read_csv('./dataset/dd_pssm_dataset_improved.csv')\n",
    "# Add separated dimers feature extraction\n",
    "\n",
    "dd_dataset = pd.read_csv('../dataset/ACC_dimer_dataset_IG.csv')"
   ]
  },
  {
   "cell_type": "code",
   "execution_count": 2,
   "metadata": {
    "collapsed": false
   },
   "outputs": [
    {
     "data": {
      "text/html": [
       "<div>\n",
       "<style scoped>\n",
       "    .dataframe tbody tr th:only-of-type {\n",
       "        vertical-align: middle;\n",
       "    }\n",
       "\n",
       "    .dataframe tbody tr th {\n",
       "        vertical-align: top;\n",
       "    }\n",
       "\n",
       "    .dataframe thead th {\n",
       "        text-align: right;\n",
       "    }\n",
       "</style>\n",
       "<table border=\"1\" class=\"dataframe\">\n",
       "  <thead>\n",
       "    <tr style=\"text-align: right;\">\n",
       "      <th></th>\n",
       "      <th>Fold</th>\n",
       "      <th>Protein name</th>\n",
       "      <th>F1973</th>\n",
       "      <th>F1999</th>\n",
       "      <th>F1852</th>\n",
       "      <th>F1844</th>\n",
       "      <th>F1980</th>\n",
       "      <th>F1833</th>\n",
       "      <th>F1639</th>\n",
       "      <th>F1773</th>\n",
       "      <th>...</th>\n",
       "      <th>F154</th>\n",
       "      <th>F1092</th>\n",
       "      <th>F776</th>\n",
       "      <th>F230</th>\n",
       "      <th>F553</th>\n",
       "      <th>F1465</th>\n",
       "      <th>F320</th>\n",
       "      <th>F183</th>\n",
       "      <th>F778</th>\n",
       "      <th>F619</th>\n",
       "    </tr>\n",
       "  </thead>\n",
       "  <tbody>\n",
       "    <tr>\n",
       "      <th>0</th>\n",
       "      <td>Globm-like(alpha)</td>\n",
       "      <td>2LHB</td>\n",
       "      <td>2173.948608</td>\n",
       "      <td>2256.788191</td>\n",
       "      <td>1843.581317</td>\n",
       "      <td>1778.069925</td>\n",
       "      <td>2290.650057</td>\n",
       "      <td>1902.433391</td>\n",
       "      <td>2344.208625</td>\n",
       "      <td>1404.498779</td>\n",
       "      <td>...</td>\n",
       "      <td>-0.048966</td>\n",
       "      <td>-0.055616</td>\n",
       "      <td>0.016880</td>\n",
       "      <td>0.537107</td>\n",
       "      <td>0.288850</td>\n",
       "      <td>-0.556738</td>\n",
       "      <td>-0.346776</td>\n",
       "      <td>0.089564</td>\n",
       "      <td>0.102496</td>\n",
       "      <td>0.082029</td>\n",
       "    </tr>\n",
       "    <tr>\n",
       "      <th>1</th>\n",
       "      <td>Globm-like(alpha)</td>\n",
       "      <td>3SDHA</td>\n",
       "      <td>3332.203213</td>\n",
       "      <td>3197.603940</td>\n",
       "      <td>2856.447879</td>\n",
       "      <td>3306.887035</td>\n",
       "      <td>3244.061924</td>\n",
       "      <td>2856.447879</td>\n",
       "      <td>3384.077300</td>\n",
       "      <td>2660.143546</td>\n",
       "      <td>...</td>\n",
       "      <td>-0.208694</td>\n",
       "      <td>-0.213495</td>\n",
       "      <td>-0.032701</td>\n",
       "      <td>-0.456437</td>\n",
       "      <td>0.110466</td>\n",
       "      <td>1.045527</td>\n",
       "      <td>0.149272</td>\n",
       "      <td>0.119017</td>\n",
       "      <td>-0.204016</td>\n",
       "      <td>-0.214320</td>\n",
       "    </tr>\n",
       "    <tr>\n",
       "      <th>2</th>\n",
       "      <td>Globm-like(alpha)</td>\n",
       "      <td>1FLP</td>\n",
       "      <td>452.969682</td>\n",
       "      <td>511.866271</td>\n",
       "      <td>430.393104</td>\n",
       "      <td>431.539474</td>\n",
       "      <td>476.692630</td>\n",
       "      <td>429.246734</td>\n",
       "      <td>476.692630</td>\n",
       "      <td>399.405211</td>\n",
       "      <td>...</td>\n",
       "      <td>-0.094118</td>\n",
       "      <td>-0.091611</td>\n",
       "      <td>-0.073627</td>\n",
       "      <td>-0.024941</td>\n",
       "      <td>0.124773</td>\n",
       "      <td>-0.026456</td>\n",
       "      <td>0.188454</td>\n",
       "      <td>-0.327259</td>\n",
       "      <td>-0.053327</td>\n",
       "      <td>-0.041486</td>\n",
       "    </tr>\n",
       "    <tr>\n",
       "      <th>3</th>\n",
       "      <td>Globm-like(alpha)</td>\n",
       "      <td>2HBG</td>\n",
       "      <td>844.627021</td>\n",
       "      <td>831.392548</td>\n",
       "      <td>829.061692</td>\n",
       "      <td>758.715615</td>\n",
       "      <td>831.392548</td>\n",
       "      <td>829.061692</td>\n",
       "      <td>877.168991</td>\n",
       "      <td>678.371956</td>\n",
       "      <td>...</td>\n",
       "      <td>-0.159422</td>\n",
       "      <td>-0.056233</td>\n",
       "      <td>-0.015190</td>\n",
       "      <td>-0.203591</td>\n",
       "      <td>-0.111051</td>\n",
       "      <td>-0.068652</td>\n",
       "      <td>-0.017578</td>\n",
       "      <td>0.430670</td>\n",
       "      <td>-0.033545</td>\n",
       "      <td>-0.143637</td>\n",
       "    </tr>\n",
       "    <tr>\n",
       "      <th>4</th>\n",
       "      <td>Globm-like(alpha)</td>\n",
       "      <td>2MGE</td>\n",
       "      <td>4026.745746</td>\n",
       "      <td>4143.189527</td>\n",
       "      <td>4174.647233</td>\n",
       "      <td>3671.307720</td>\n",
       "      <td>4032.852428</td>\n",
       "      <td>4174.647233</td>\n",
       "      <td>4302.588492</td>\n",
       "      <td>3340.296424</td>\n",
       "      <td>...</td>\n",
       "      <td>-0.549301</td>\n",
       "      <td>0.203359</td>\n",
       "      <td>-0.066514</td>\n",
       "      <td>-0.091218</td>\n",
       "      <td>-0.209468</td>\n",
       "      <td>0.125765</td>\n",
       "      <td>-0.048265</td>\n",
       "      <td>-0.876747</td>\n",
       "      <td>0.145654</td>\n",
       "      <td>0.843488</td>\n",
       "    </tr>\n",
       "  </tbody>\n",
       "</table>\n",
       "<p>5 rows × 502 columns</p>\n",
       "</div>"
      ],
      "text/plain": [
       "                Fold Protein name        F1973        F1999        F1852  \\\n",
       "0  Globm-like(alpha)         2LHB  2173.948608  2256.788191  1843.581317   \n",
       "1  Globm-like(alpha)        3SDHA  3332.203213  3197.603940  2856.447879   \n",
       "2  Globm-like(alpha)         1FLP   452.969682   511.866271   430.393104   \n",
       "3  Globm-like(alpha)         2HBG   844.627021   831.392548   829.061692   \n",
       "4  Globm-like(alpha)         2MGE  4026.745746  4143.189527  4174.647233   \n",
       "\n",
       "         F1844        F1980        F1833        F1639        F1773    ...     \\\n",
       "0  1778.069925  2290.650057  1902.433391  2344.208625  1404.498779    ...      \n",
       "1  3306.887035  3244.061924  2856.447879  3384.077300  2660.143546    ...      \n",
       "2   431.539474   476.692630   429.246734   476.692630   399.405211    ...      \n",
       "3   758.715615   831.392548   829.061692   877.168991   678.371956    ...      \n",
       "4  3671.307720  4032.852428  4174.647233  4302.588492  3340.296424    ...      \n",
       "\n",
       "       F154     F1092      F776      F230      F553     F1465      F320  \\\n",
       "0 -0.048966 -0.055616  0.016880  0.537107  0.288850 -0.556738 -0.346776   \n",
       "1 -0.208694 -0.213495 -0.032701 -0.456437  0.110466  1.045527  0.149272   \n",
       "2 -0.094118 -0.091611 -0.073627 -0.024941  0.124773 -0.026456  0.188454   \n",
       "3 -0.159422 -0.056233 -0.015190 -0.203591 -0.111051 -0.068652 -0.017578   \n",
       "4 -0.549301  0.203359 -0.066514 -0.091218 -0.209468  0.125765 -0.048265   \n",
       "\n",
       "       F183      F778      F619  \n",
       "0  0.089564  0.102496  0.082029  \n",
       "1  0.119017 -0.204016 -0.214320  \n",
       "2 -0.327259 -0.053327 -0.041486  \n",
       "3  0.430670 -0.033545 -0.143637  \n",
       "4 -0.876747  0.145654  0.843488  \n",
       "\n",
       "[5 rows x 502 columns]"
      ]
     },
     "execution_count": 2,
     "metadata": {},
     "output_type": "execute_result"
    }
   ],
   "source": [
    "dd_dataset.head()"
   ]
  },
  {
   "cell_type": "markdown",
   "metadata": {},
   "source": [
    "Convert class lables to unique integers"
   ]
  },
  {
   "cell_type": "code",
   "execution_count": 3,
   "metadata": {
    "collapsed": true
   },
   "outputs": [],
   "source": [
    "# Encode class labels\n",
    "#from sklearn.preprocessing import LabelEncoder\n",
    "\n",
    "y_true, labels = pd.factorize(dd_dataset.Fold)\n",
    "dd_dataset.insert(1, 'class labels', y_true)"
   ]
  },
  {
   "cell_type": "code",
   "execution_count": 4,
   "metadata": {
    "collapsed": false
   },
   "outputs": [
    {
     "data": {
      "text/html": [
       "<div>\n",
       "<style scoped>\n",
       "    .dataframe tbody tr th:only-of-type {\n",
       "        vertical-align: middle;\n",
       "    }\n",
       "\n",
       "    .dataframe tbody tr th {\n",
       "        vertical-align: top;\n",
       "    }\n",
       "\n",
       "    .dataframe thead th {\n",
       "        text-align: right;\n",
       "    }\n",
       "</style>\n",
       "<table border=\"1\" class=\"dataframe\">\n",
       "  <thead>\n",
       "    <tr style=\"text-align: right;\">\n",
       "      <th></th>\n",
       "      <th>Fold</th>\n",
       "      <th>class labels</th>\n",
       "      <th>Protein name</th>\n",
       "      <th>F1973</th>\n",
       "      <th>F1999</th>\n",
       "      <th>F1852</th>\n",
       "      <th>F1844</th>\n",
       "      <th>F1980</th>\n",
       "      <th>F1833</th>\n",
       "      <th>F1639</th>\n",
       "      <th>...</th>\n",
       "      <th>F154</th>\n",
       "      <th>F1092</th>\n",
       "      <th>F776</th>\n",
       "      <th>F230</th>\n",
       "      <th>F553</th>\n",
       "      <th>F1465</th>\n",
       "      <th>F320</th>\n",
       "      <th>F183</th>\n",
       "      <th>F778</th>\n",
       "      <th>F619</th>\n",
       "    </tr>\n",
       "  </thead>\n",
       "  <tbody>\n",
       "    <tr>\n",
       "      <th>0</th>\n",
       "      <td>Globm-like(alpha)</td>\n",
       "      <td>0</td>\n",
       "      <td>2LHB</td>\n",
       "      <td>2173.948608</td>\n",
       "      <td>2256.788191</td>\n",
       "      <td>1843.581317</td>\n",
       "      <td>1778.069925</td>\n",
       "      <td>2290.650057</td>\n",
       "      <td>1902.433391</td>\n",
       "      <td>2344.208625</td>\n",
       "      <td>...</td>\n",
       "      <td>-0.048966</td>\n",
       "      <td>-0.055616</td>\n",
       "      <td>0.016880</td>\n",
       "      <td>0.537107</td>\n",
       "      <td>0.288850</td>\n",
       "      <td>-0.556738</td>\n",
       "      <td>-0.346776</td>\n",
       "      <td>0.089564</td>\n",
       "      <td>0.102496</td>\n",
       "      <td>0.082029</td>\n",
       "    </tr>\n",
       "    <tr>\n",
       "      <th>1</th>\n",
       "      <td>Globm-like(alpha)</td>\n",
       "      <td>0</td>\n",
       "      <td>3SDHA</td>\n",
       "      <td>3332.203213</td>\n",
       "      <td>3197.603940</td>\n",
       "      <td>2856.447879</td>\n",
       "      <td>3306.887035</td>\n",
       "      <td>3244.061924</td>\n",
       "      <td>2856.447879</td>\n",
       "      <td>3384.077300</td>\n",
       "      <td>...</td>\n",
       "      <td>-0.208694</td>\n",
       "      <td>-0.213495</td>\n",
       "      <td>-0.032701</td>\n",
       "      <td>-0.456437</td>\n",
       "      <td>0.110466</td>\n",
       "      <td>1.045527</td>\n",
       "      <td>0.149272</td>\n",
       "      <td>0.119017</td>\n",
       "      <td>-0.204016</td>\n",
       "      <td>-0.214320</td>\n",
       "    </tr>\n",
       "    <tr>\n",
       "      <th>2</th>\n",
       "      <td>Globm-like(alpha)</td>\n",
       "      <td>0</td>\n",
       "      <td>1FLP</td>\n",
       "      <td>452.969682</td>\n",
       "      <td>511.866271</td>\n",
       "      <td>430.393104</td>\n",
       "      <td>431.539474</td>\n",
       "      <td>476.692630</td>\n",
       "      <td>429.246734</td>\n",
       "      <td>476.692630</td>\n",
       "      <td>...</td>\n",
       "      <td>-0.094118</td>\n",
       "      <td>-0.091611</td>\n",
       "      <td>-0.073627</td>\n",
       "      <td>-0.024941</td>\n",
       "      <td>0.124773</td>\n",
       "      <td>-0.026456</td>\n",
       "      <td>0.188454</td>\n",
       "      <td>-0.327259</td>\n",
       "      <td>-0.053327</td>\n",
       "      <td>-0.041486</td>\n",
       "    </tr>\n",
       "    <tr>\n",
       "      <th>3</th>\n",
       "      <td>Globm-like(alpha)</td>\n",
       "      <td>0</td>\n",
       "      <td>2HBG</td>\n",
       "      <td>844.627021</td>\n",
       "      <td>831.392548</td>\n",
       "      <td>829.061692</td>\n",
       "      <td>758.715615</td>\n",
       "      <td>831.392548</td>\n",
       "      <td>829.061692</td>\n",
       "      <td>877.168991</td>\n",
       "      <td>...</td>\n",
       "      <td>-0.159422</td>\n",
       "      <td>-0.056233</td>\n",
       "      <td>-0.015190</td>\n",
       "      <td>-0.203591</td>\n",
       "      <td>-0.111051</td>\n",
       "      <td>-0.068652</td>\n",
       "      <td>-0.017578</td>\n",
       "      <td>0.430670</td>\n",
       "      <td>-0.033545</td>\n",
       "      <td>-0.143637</td>\n",
       "    </tr>\n",
       "    <tr>\n",
       "      <th>4</th>\n",
       "      <td>Globm-like(alpha)</td>\n",
       "      <td>0</td>\n",
       "      <td>2MGE</td>\n",
       "      <td>4026.745746</td>\n",
       "      <td>4143.189527</td>\n",
       "      <td>4174.647233</td>\n",
       "      <td>3671.307720</td>\n",
       "      <td>4032.852428</td>\n",
       "      <td>4174.647233</td>\n",
       "      <td>4302.588492</td>\n",
       "      <td>...</td>\n",
       "      <td>-0.549301</td>\n",
       "      <td>0.203359</td>\n",
       "      <td>-0.066514</td>\n",
       "      <td>-0.091218</td>\n",
       "      <td>-0.209468</td>\n",
       "      <td>0.125765</td>\n",
       "      <td>-0.048265</td>\n",
       "      <td>-0.876747</td>\n",
       "      <td>0.145654</td>\n",
       "      <td>0.843488</td>\n",
       "    </tr>\n",
       "  </tbody>\n",
       "</table>\n",
       "<p>5 rows × 503 columns</p>\n",
       "</div>"
      ],
      "text/plain": [
       "                Fold  class labels Protein name        F1973        F1999  \\\n",
       "0  Globm-like(alpha)             0         2LHB  2173.948608  2256.788191   \n",
       "1  Globm-like(alpha)             0        3SDHA  3332.203213  3197.603940   \n",
       "2  Globm-like(alpha)             0         1FLP   452.969682   511.866271   \n",
       "3  Globm-like(alpha)             0         2HBG   844.627021   831.392548   \n",
       "4  Globm-like(alpha)             0         2MGE  4026.745746  4143.189527   \n",
       "\n",
       "         F1852        F1844        F1980        F1833        F1639    ...     \\\n",
       "0  1843.581317  1778.069925  2290.650057  1902.433391  2344.208625    ...      \n",
       "1  2856.447879  3306.887035  3244.061924  2856.447879  3384.077300    ...      \n",
       "2   430.393104   431.539474   476.692630   429.246734   476.692630    ...      \n",
       "3   829.061692   758.715615   831.392548   829.061692   877.168991    ...      \n",
       "4  4174.647233  3671.307720  4032.852428  4174.647233  4302.588492    ...      \n",
       "\n",
       "       F154     F1092      F776      F230      F553     F1465      F320  \\\n",
       "0 -0.048966 -0.055616  0.016880  0.537107  0.288850 -0.556738 -0.346776   \n",
       "1 -0.208694 -0.213495 -0.032701 -0.456437  0.110466  1.045527  0.149272   \n",
       "2 -0.094118 -0.091611 -0.073627 -0.024941  0.124773 -0.026456  0.188454   \n",
       "3 -0.159422 -0.056233 -0.015190 -0.203591 -0.111051 -0.068652 -0.017578   \n",
       "4 -0.549301  0.203359 -0.066514 -0.091218 -0.209468  0.125765 -0.048265   \n",
       "\n",
       "       F183      F778      F619  \n",
       "0  0.089564  0.102496  0.082029  \n",
       "1  0.119017 -0.204016 -0.214320  \n",
       "2 -0.327259 -0.053327 -0.041486  \n",
       "3  0.430670 -0.033545 -0.143637  \n",
       "4 -0.876747  0.145654  0.843488  \n",
       "\n",
       "[5 rows x 503 columns]"
      ]
     },
     "execution_count": 4,
     "metadata": {},
     "output_type": "execute_result"
    }
   ],
   "source": [
    "dd_dataset.head()"
   ]
  },
  {
   "cell_type": "markdown",
   "metadata": {},
   "source": [
    "Create a training set from pandas data frame"
   ]
  },
  {
   "cell_type": "code",
   "execution_count": 5,
   "metadata": {
    "collapsed": false
   },
   "outputs": [
    {
     "name": "stdout",
     "output_type": "stream",
     "text": [
      "Number of samples: 311, Number of features: 500\n"
     ]
    }
   ],
   "source": [
    "train_data = dd_dataset.iloc[:,3:].values\n",
    "\n",
    "# Normalize dataset\n",
    "min_max_scaler = preprocessing.MinMaxScaler()\n",
    "train_scaled = min_max_scaler.fit_transform(train_data)\n",
    "train_data = train_scaled\n",
    "\n",
    "print(\"Number of samples: %d, Number of features: %d\" % (train_data.shape[0], train_data.shape[1]))"
   ]
  },
  {
   "cell_type": "code",
   "execution_count": 6,
   "metadata": {
    "collapsed": false
   },
   "outputs": [
    {
     "data": {
      "text/html": [
       "<div>\n",
       "<style scoped>\n",
       "    .dataframe tbody tr th:only-of-type {\n",
       "        vertical-align: middle;\n",
       "    }\n",
       "\n",
       "    .dataframe tbody tr th {\n",
       "        vertical-align: top;\n",
       "    }\n",
       "\n",
       "    .dataframe thead th {\n",
       "        text-align: right;\n",
       "    }\n",
       "</style>\n",
       "<table border=\"1\" class=\"dataframe\">\n",
       "  <thead>\n",
       "    <tr style=\"text-align: right;\">\n",
       "      <th></th>\n",
       "      <th>0</th>\n",
       "      <th>1</th>\n",
       "      <th>2</th>\n",
       "      <th>3</th>\n",
       "      <th>4</th>\n",
       "      <th>5</th>\n",
       "      <th>6</th>\n",
       "      <th>7</th>\n",
       "      <th>8</th>\n",
       "      <th>9</th>\n",
       "      <th>...</th>\n",
       "      <th>490</th>\n",
       "      <th>491</th>\n",
       "      <th>492</th>\n",
       "      <th>493</th>\n",
       "      <th>494</th>\n",
       "      <th>495</th>\n",
       "      <th>496</th>\n",
       "      <th>497</th>\n",
       "      <th>498</th>\n",
       "      <th>499</th>\n",
       "    </tr>\n",
       "  </thead>\n",
       "  <tbody>\n",
       "    <tr>\n",
       "      <th>0</th>\n",
       "      <td>0.151599</td>\n",
       "      <td>0.147492</td>\n",
       "      <td>0.144334</td>\n",
       "      <td>0.129470</td>\n",
       "      <td>0.150260</td>\n",
       "      <td>0.146175</td>\n",
       "      <td>0.143310</td>\n",
       "      <td>0.101603</td>\n",
       "      <td>0.149700</td>\n",
       "      <td>0.100192</td>\n",
       "      <td>...</td>\n",
       "      <td>0.287258</td>\n",
       "      <td>0.327133</td>\n",
       "      <td>0.400466</td>\n",
       "      <td>0.517100</td>\n",
       "      <td>0.389008</td>\n",
       "      <td>0.149499</td>\n",
       "      <td>0.224165</td>\n",
       "      <td>0.358249</td>\n",
       "      <td>0.438224</td>\n",
       "      <td>0.356420</td>\n",
       "    </tr>\n",
       "    <tr>\n",
       "      <th>1</th>\n",
       "      <td>0.232370</td>\n",
       "      <td>0.208978</td>\n",
       "      <td>0.223632</td>\n",
       "      <td>0.240791</td>\n",
       "      <td>0.212801</td>\n",
       "      <td>0.219477</td>\n",
       "      <td>0.206881</td>\n",
       "      <td>0.192438</td>\n",
       "      <td>0.211270</td>\n",
       "      <td>0.191234</td>\n",
       "      <td>...</td>\n",
       "      <td>0.237672</td>\n",
       "      <td>0.251025</td>\n",
       "      <td>0.384390</td>\n",
       "      <td>0.235704</td>\n",
       "      <td>0.336831</td>\n",
       "      <td>0.685134</td>\n",
       "      <td>0.430035</td>\n",
       "      <td>0.364186</td>\n",
       "      <td>0.333599</td>\n",
       "      <td>0.244995</td>\n",
       "    </tr>\n",
       "    <tr>\n",
       "      <th>2</th>\n",
       "      <td>0.031588</td>\n",
       "      <td>0.033453</td>\n",
       "      <td>0.033696</td>\n",
       "      <td>0.031423</td>\n",
       "      <td>0.031270</td>\n",
       "      <td>0.032981</td>\n",
       "      <td>0.029142</td>\n",
       "      <td>0.028893</td>\n",
       "      <td>0.030159</td>\n",
       "      <td>0.027392</td>\n",
       "      <td>...</td>\n",
       "      <td>0.273241</td>\n",
       "      <td>0.309781</td>\n",
       "      <td>0.371120</td>\n",
       "      <td>0.357915</td>\n",
       "      <td>0.341016</td>\n",
       "      <td>0.326772</td>\n",
       "      <td>0.446297</td>\n",
       "      <td>0.274228</td>\n",
       "      <td>0.385035</td>\n",
       "      <td>0.309980</td>\n",
       "    </tr>\n",
       "    <tr>\n",
       "      <th>3</th>\n",
       "      <td>0.058900</td>\n",
       "      <td>0.054335</td>\n",
       "      <td>0.064907</td>\n",
       "      <td>0.055246</td>\n",
       "      <td>0.054537</td>\n",
       "      <td>0.063702</td>\n",
       "      <td>0.053625</td>\n",
       "      <td>0.049074</td>\n",
       "      <td>0.054455</td>\n",
       "      <td>0.047881</td>\n",
       "      <td>...</td>\n",
       "      <td>0.252968</td>\n",
       "      <td>0.326836</td>\n",
       "      <td>0.390068</td>\n",
       "      <td>0.307317</td>\n",
       "      <td>0.272038</td>\n",
       "      <td>0.312666</td>\n",
       "      <td>0.360789</td>\n",
       "      <td>0.427006</td>\n",
       "      <td>0.391787</td>\n",
       "      <td>0.271571</td>\n",
       "    </tr>\n",
       "    <tr>\n",
       "      <th>4</th>\n",
       "      <td>0.280804</td>\n",
       "      <td>0.270777</td>\n",
       "      <td>0.326834</td>\n",
       "      <td>0.267326</td>\n",
       "      <td>0.264543</td>\n",
       "      <td>0.320762</td>\n",
       "      <td>0.263033</td>\n",
       "      <td>0.241641</td>\n",
       "      <td>0.259216</td>\n",
       "      <td>0.231784</td>\n",
       "      <td>...</td>\n",
       "      <td>0.131933</td>\n",
       "      <td>0.451977</td>\n",
       "      <td>0.373427</td>\n",
       "      <td>0.339143</td>\n",
       "      <td>0.243252</td>\n",
       "      <td>0.377659</td>\n",
       "      <td>0.348053</td>\n",
       "      <td>0.163466</td>\n",
       "      <td>0.452955</td>\n",
       "      <td>0.642725</td>\n",
       "    </tr>\n",
       "  </tbody>\n",
       "</table>\n",
       "<p>5 rows × 500 columns</p>\n",
       "</div>"
      ],
      "text/plain": [
       "        0         1         2         3         4         5         6    \\\n",
       "0  0.151599  0.147492  0.144334  0.129470  0.150260  0.146175  0.143310   \n",
       "1  0.232370  0.208978  0.223632  0.240791  0.212801  0.219477  0.206881   \n",
       "2  0.031588  0.033453  0.033696  0.031423  0.031270  0.032981  0.029142   \n",
       "3  0.058900  0.054335  0.064907  0.055246  0.054537  0.063702  0.053625   \n",
       "4  0.280804  0.270777  0.326834  0.267326  0.264543  0.320762  0.263033   \n",
       "\n",
       "        7         8         9      ...          490       491       492  \\\n",
       "0  0.101603  0.149700  0.100192    ...     0.287258  0.327133  0.400466   \n",
       "1  0.192438  0.211270  0.191234    ...     0.237672  0.251025  0.384390   \n",
       "2  0.028893  0.030159  0.027392    ...     0.273241  0.309781  0.371120   \n",
       "3  0.049074  0.054455  0.047881    ...     0.252968  0.326836  0.390068   \n",
       "4  0.241641  0.259216  0.231784    ...     0.131933  0.451977  0.373427   \n",
       "\n",
       "        493       494       495       496       497       498       499  \n",
       "0  0.517100  0.389008  0.149499  0.224165  0.358249  0.438224  0.356420  \n",
       "1  0.235704  0.336831  0.685134  0.430035  0.364186  0.333599  0.244995  \n",
       "2  0.357915  0.341016  0.326772  0.446297  0.274228  0.385035  0.309980  \n",
       "3  0.307317  0.272038  0.312666  0.360789  0.427006  0.391787  0.271571  \n",
       "4  0.339143  0.243252  0.377659  0.348053  0.163466  0.452955  0.642725  \n",
       "\n",
       "[5 rows x 500 columns]"
      ]
     },
     "execution_count": 6,
     "metadata": {},
     "output_type": "execute_result"
    }
   ],
   "source": [
    "# Show normlaized data\n",
    "\n",
    "train = pd.DataFrame(train_data)\n",
    "\n",
    "train.head()"
   ]
  },
  {
   "cell_type": "markdown",
   "metadata": {},
   "source": [
    "## Data analysis"
   ]
  },
  {
   "cell_type": "code",
   "execution_count": 7,
   "metadata": {
    "collapsed": false
   },
   "outputs": [],
   "source": [
    "# Frequency of folds\n",
    "import matplotlib.pyplot as plt\n",
    "\n",
    "fig, ax = plt.subplots()\n",
    "freq_plot = dd_dataset['Fold'].value_counts().plot(ax=ax, kind='bar')\n",
    "freq_plot.set_ylabel('Number of proteins')\n",
    "plt.show()"
   ]
  },
  {
   "cell_type": "markdown",
   "metadata": {},
   "source": [
    "## SVM classifier"
   ]
  },
  {
   "cell_type": "code",
   "execution_count": 8,
   "metadata": {
    "collapsed": true
   },
   "outputs": [],
   "source": [
    "from sklearn.svm import SVC\n",
    "from sklearn.model_selection import GridSearchCV\n",
    "\n",
    "# Hyperparameters\n",
    "kernel = 'rbf'\n",
    "\n",
    "# An instance of SVM classifier\n",
    "svm_cl = SVC(kernel=kernel)"
   ]
  },
  {
   "cell_type": "markdown",
   "metadata": {},
   "source": [
    "Define range of parameters for Grid Search"
   ]
  },
  {
   "cell_type": "code",
   "execution_count": 9,
   "metadata": {
    "collapsed": true
   },
   "outputs": [],
   "source": [
    "# Penalty parameter\n",
    "c_range = {'C': [float(2**i) for i in range(-14, 14)]}\n",
    "# Gamma parameter for RBF kernel\n",
    "gamma_range = {'gamma': [float(2**i) for i in range(-14, 14)]} if kernel == 'rbf' else {}\n",
    "\n",
    "param_range = {**c_range, **gamma_range}\n",
    "\n",
    "# Arguments for grid search\n",
    "cv_fold = 10\n",
    "n_workers = -1 # Number of CPU threads\n",
    "\n",
    "result = GridSearchCV(svm_cl, param_range, cv=cv_fold, n_jobs=n_workers, refit=True,\n",
    "                      verbose=1)"
   ]
  },
  {
   "cell_type": "markdown",
   "metadata": {},
   "source": [
    "Start grid search!"
   ]
  },
  {
   "cell_type": "code",
   "execution_count": 10,
   "metadata": {
    "collapsed": false
   },
   "outputs": [
    {
     "name": "stdout",
     "output_type": "stream",
     "text": [
      "Fitting 10 folds for each of 784 candidates, totalling 7840 fits\n"
     ]
    },
    {
     "name": "stderr",
     "output_type": "stream",
     "text": [
      "H:\\Anaconda3\\lib\\site-packages\\sklearn\\model_selection\\_split.py:605: Warning: The least populated class in y has only 6 members, which is too few. The minimum number of members in any class cannot be less than n_splits=10.\n",
      "  % (min_groups, self.n_splits)), Warning)\n",
      "[Parallel(n_jobs=-1)]: Done  34 tasks      | elapsed:    2.9s\n",
      "[Parallel(n_jobs=-1)]: Done 184 tasks      | elapsed:    6.1s\n",
      "[Parallel(n_jobs=-1)]: Done 434 tasks      | elapsed:   11.3s\n",
      "[Parallel(n_jobs=-1)]: Done 784 tasks      | elapsed:   18.4s\n",
      "[Parallel(n_jobs=-1)]: Done 1234 tasks      | elapsed:   27.8s\n",
      "[Parallel(n_jobs=-1)]: Done 1784 tasks      | elapsed:   39.2s\n",
      "[Parallel(n_jobs=-1)]: Done 2434 tasks      | elapsed:   53.4s\n",
      "[Parallel(n_jobs=-1)]: Done 3184 tasks      | elapsed:  1.2min\n",
      "[Parallel(n_jobs=-1)]: Done 4034 tasks      | elapsed:  1.5min\n",
      "[Parallel(n_jobs=-1)]: Done 4984 tasks      | elapsed:  1.9min\n",
      "[Parallel(n_jobs=-1)]: Done 6034 tasks      | elapsed:  2.4min\n",
      "[Parallel(n_jobs=-1)]: Done 7184 tasks      | elapsed:  3.0min\n",
      "[Parallel(n_jobs=-1)]: Done 7840 out of 7840 | elapsed:  3.3min finished\n"
     ]
    },
    {
     "data": {
      "text/plain": [
       "GridSearchCV(cv=10, error_score='raise',\n",
       "       estimator=SVC(C=1.0, cache_size=200, class_weight=None, coef0=0.0,\n",
       "  decision_function_shape='ovr', degree=3, gamma='auto', kernel='rbf',\n",
       "  max_iter=-1, probability=False, random_state=None, shrinking=True,\n",
       "  tol=0.001, verbose=False),\n",
       "       fit_params=None, iid=True, n_jobs=-1,\n",
       "       param_grid={'gamma': [6.103515625e-05, 0.0001220703125, 0.000244140625, 0.00048828125, 0.0009765625, 0.001953125, 0.00390625, 0.0078125, 0.015625, 0.03125, 0.0625, 0.125, 0.25, 0.5, 1.0, 2.0, 4.0, 8.0, 16.0, 32.0, 64.0, 128.0, 256.0, 512.0, 1024.0, 2048.0, 4096.0, 8192.0], 'C': [6.103515625e-05, 0.0...25, 0.5, 1.0, 2.0, 4.0, 8.0, 16.0, 32.0, 64.0, 128.0, 256.0, 512.0, 1024.0, 2048.0, 4096.0, 8192.0]},\n",
       "       pre_dispatch='2*n_jobs', refit=True, return_train_score='warn',\n",
       "       scoring=None, verbose=1)"
      ]
     },
     "execution_count": 10,
     "metadata": {},
     "output_type": "execute_result"
    }
   ],
   "source": [
    "result.fit(train_data, y_true)"
   ]
  },
  {
   "cell_type": "markdown",
   "metadata": {},
   "source": [
    "Best results"
   ]
  },
  {
   "cell_type": "code",
   "execution_count": 11,
   "metadata": {
    "collapsed": false
   },
   "outputs": [
    {
     "name": "stdout",
     "output_type": "stream",
     "text": [
      "Best accuracy: 22.83\n"
     ]
    }
   ],
   "source": [
    "print(\"Best accuracy: %.2f\" % (result.best_score_ * 100))"
   ]
  },
  {
   "cell_type": "markdown",
   "metadata": {},
   "source": [
    "Confusion matrix"
   ]
  },
  {
   "cell_type": "code",
   "execution_count": 12,
   "metadata": {
    "collapsed": false
   },
   "outputs": [
    {
     "name": "stdout",
     "output_type": "stream",
     "text": [
      "Accuracy:  91.96141479099678\n"
     ]
    }
   ],
   "source": [
    "import sys\n",
    "sys.path.insert(0, 'E:\\\\BioInformatic\\\\bio-protein-recog\\\\src')\n",
    "\n",
    "\n",
    "from misc import plt_confusion_matrix\n",
    "from sklearn.metrics import confusion_matrix, accuracy_score, classification_report\n",
    "import numpy as np\n",
    "\n",
    "y_pred = result.best_estimator_.predict(train_data)\n",
    "\n",
    "cm = confusion_matrix(labels[y_true], labels[y_pred])\n",
    "\n",
    "print(\"Accuracy: \", (accuracy_score(labels[y_true], labels[y_pred]) * 100))\n",
    "\n",
    "plt.figure(figsize=(20, 15))\n",
    "plt_confusion_matrix(cm, np.unique(labels[y_true]))\n",
    "plt.savefig(\"../report/DD_IG_ACC_confusion_matrix.png\", dpi=256)"
   ]
  },
  {
   "cell_type": "markdown",
   "metadata": {},
   "source": [
    "Classification report"
   ]
  },
  {
   "cell_type": "code",
   "execution_count": 13,
   "metadata": {
    "collapsed": false
   },
   "outputs": [
    {
     "name": "stdout",
     "output_type": "stream",
     "text": [
      "                                                precision    recall  f1-score   support\n",
      "\n",
      "                    (TIM)-BARREL (ALPHA/BELTA)       0.92      0.83      0.87        29\n",
      "                   4-HELICAL CYTOKINES (ALPHA)       1.00      0.89      0.94         9\n",
      "                  4-HELICAL UP-AND-DOWN BUNDLE       1.00      1.00      1.00         7\n",
      "                        ALPHA: EF-HAND (ALPHA)       1.00      1.00      1.00         6\n",
      "                     BELTA-GRASP (ALPHA+BELTA)       1.00      1.00      1.00         7\n",
      "         CONA-LIKE LECTINGS/GLUCANASES (BELTA)       1.00      1.00      1.00         7\n",
      "                           CUPREDOXINS (BELTA)       1.00      1.00      1.00         9\n",
      "                          CYTOCHROME C (ALPHA)       1.00      1.00      1.00         7\n",
      "           DNA-BINDING 3-HELICALBUNDLE (ALPHA)       1.00      1.00      1.00        12\n",
      "   FAD (ALSO NAD) -BINDING MOTIF (ALPHA/BELTA)       0.32      1.00      0.49        11\n",
      "                 FERREDOXIN-LIKE (ALPHA+BELTA)       1.00      0.85      0.92        13\n",
      "                 FLAVODOXIN-LIKE (ALPHA/BELTA)       1.00      1.00      1.00        11\n",
      "                             Globm-like(alpha)       1.00      1.00      1.00        13\n",
      "                      HYDROLASES (ALPHA/BELTA)       1.00      1.00      1.00        11\n",
      "    IMMUNOGLOBULIN-LIKE BELTA-SANDWICH (BELTA)       1.00      0.93      0.97        30\n",
      "                            LIPOCALINS (BELTA)       1.00      1.00      1.00         9\n",
      "    NAD(P)-BINDING ROSSMANN-FOLD (ALPHA/BELTA)       1.00      0.77      0.87        13\n",
      "                               OB-FOLD (BELTA)       1.00      0.85      0.92        13\n",
      "    P-LOOP CONTAINING NUCLEOTIDE (ALPHA/BELTA)       1.00      0.70      0.82        10\n",
      "PERIPLASMIC BINDING PROTEIN-LIKE (ALPHA/BELTA)       1.00      0.91      0.95        11\n",
      "       RIBONUCLEASE H-LIKE MOTIF (ALPHA/BELTA)       1.00      1.00      1.00        10\n",
      "                       SH3 LIKE BARREL (BELTA)       1.00      1.00      1.00         8\n",
      "SMALL INHIBITORS TOXINS, LECTINS (ALPHA+BELTA)       1.00      1.00      1.00        13\n",
      "                THIOREDOXIN-LIKE (ALPHA/BELTA)       1.00      0.67      0.80         9\n",
      "                               TREFOIL (BELTA)       1.00      1.00      1.00         8\n",
      "         TRYPSIN-LIKE SERINE PROTEASES (BELTA)       1.00      0.89      0.94         9\n",
      "        VIRAL COAT AND CAPSID PROTEINS (BELTA)       1.00      0.88      0.93        16\n",
      "\n",
      "                                   avg / total       0.97      0.92      0.93       311\n",
      "\n"
     ]
    }
   ],
   "source": [
    "print(classification_report(labels[y_true], labels[y_pred]))"
   ]
  },
  {
   "cell_type": "markdown",
   "metadata": {},
   "source": [
    "# XG Boost"
   ]
  },
  {
   "cell_type": "code",
   "execution_count": 21,
   "metadata": {
    "collapsed": false
   },
   "outputs": [
    {
     "ename": "SyntaxError",
     "evalue": "invalid syntax (<ipython-input-21-a31eead7f1eb>, line 10)",
     "output_type": "error",
     "traceback": [
      "\u001b[1;36m  File \u001b[1;32m\"<ipython-input-21-a31eead7f1eb>\"\u001b[1;36m, line \u001b[1;32m10\u001b[0m\n\u001b[1;33m    X_train, X_test, y_train, y_test = train_test_split(float(train_data), float(labels), test_size=0.2, random_state=123)\u001b[0m\n\u001b[1;37m          ^\u001b[0m\n\u001b[1;31mSyntaxError\u001b[0m\u001b[1;31m:\u001b[0m invalid syntax\n"
     ]
    }
   ],
   "source": [
    "import xgboost as xgb\n",
    "from sklearn.model_selection import train_test_split\n",
    "from sklearn.metrics import accuracy_score\n",
    "import numpy as np\n",
    "\n",
    "# Create Dmatrix for more performance \n",
    "data_matrix = xgb.DMatrix(data=float(train_data),label=float(labels)\n",
    "\n",
    "# Split data to train and test\n",
    "X_train, X_test, y_train, y_test = train_test_split(float(train_data), float(labels), test_size=0.2, random_state=123)"
   ]
  },
  {
   "cell_type": "code",
   "execution_count": null,
   "metadata": {
    "collapsed": true
   },
   "outputs": [],
   "source": [
    "# Instantitate an XGBosst Classifier\n",
    "xg_clf = xgb.XGBClassifier(objective ='binary:logistic', colsample_bytree = 0.1, learning_rate = 0.1,\n",
    "                max_depth = 10, alpha = 10, n_estimators = 10)\n"
   ]
  },
  {
   "cell_type": "code",
   "execution_count": null,
   "metadata": {
    "collapsed": true
   },
   "outputs": [],
   "source": [
    "# Fit the classifier to the training set\n",
    "xg_clf.fit(X_train,y_train)\n",
    "\n",
    "# Predit test data\n",
    "preds = xg_clf.predict(X_test)\n",
    "\n",
    "# Accuracy\n",
    "accuracy = accuracy_score(y_test, preds)"
   ]
  },
  {
   "cell_type": "code",
   "execution_count": null,
   "metadata": {
    "collapsed": true
   },
   "outputs": [],
   "source": [
    "print(\"Best accuracy: %.2f\" % (accuracy*100))\n"
   ]
  },
  {
   "cell_type": "code",
   "execution_count": null,
   "metadata": {
    "collapsed": true
   },
   "outputs": [],
   "source": []
  }
 ],
 "metadata": {
  "kernelspec": {
   "display_name": "Python [Anaconda3]",
   "language": "python",
   "name": "Python [Anaconda3]"
  },
  "language_info": {
   "codemirror_mode": {
    "name": "ipython",
    "version": 3
   },
   "file_extension": ".py",
   "mimetype": "text/x-python",
   "name": "python",
   "nbconvert_exporter": "python",
   "pygments_lexer": "ipython3",
   "version": "3.5.2"
  }
 },
 "nbformat": 4,
 "nbformat_minor": 2
}
