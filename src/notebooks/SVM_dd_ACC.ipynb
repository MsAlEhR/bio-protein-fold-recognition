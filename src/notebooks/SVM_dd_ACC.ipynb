{
 "cells": [
  {
   "cell_type": "markdown",
   "metadata": {},
   "source": [
    "## Training SVM classifier on DD_ACC dataset"
   ]
  },
  {
   "cell_type": "markdown",
   "metadata": {},
   "source": [
    "The first step is to read dataset from CSV file"
   ]
  },
  {
   "cell_type": "code",
   "execution_count": 1,
   "metadata": {},
   "outputs": [
    {
     "name": "stderr",
     "output_type": "stream",
     "text": [
      "/usr/lib/python3.5/importlib/_bootstrap.py:222: RuntimeWarning: numpy.dtype size changed, may indicate binary incompatibility. Expected 96, got 88\n",
      "  return f(*args, **kwds)\n",
      "/usr/lib/python3.5/importlib/_bootstrap.py:222: RuntimeWarning: numpy.dtype size changed, may indicate binary incompatibility. Expected 96, got 88\n",
      "  return f(*args, **kwds)\n",
      "/usr/lib/python3.5/importlib/_bootstrap.py:222: RuntimeWarning: numpy.dtype size changed, may indicate binary incompatibility. Expected 96, got 88\n",
      "  return f(*args, **kwds)\n",
      "/usr/lib/python3.5/importlib/_bootstrap.py:222: RuntimeWarning: numpy.dtype size changed, may indicate binary incompatibility. Expected 96, got 88\n",
      "  return f(*args, **kwds)\n",
      "/usr/lib/python3.5/importlib/_bootstrap.py:222: RuntimeWarning: numpy.dtype size changed, may indicate binary incompatibility. Expected 96, got 88\n",
      "  return f(*args, **kwds)\n",
      "/usr/lib/python3.5/importlib/_bootstrap.py:222: RuntimeWarning: numpy.dtype size changed, may indicate binary incompatibility. Expected 96, got 88\n",
      "  return f(*args, **kwds)\n"
     ]
    }
   ],
   "source": [
    "import pandas as pd\n",
    "from sklearn import preprocessing\n",
    "\n",
    "\n",
    "#dd_dataset = pd.read_csv('./dataset/dd_pssm_dataset_improved.csv')\n",
    "# Add separated dimers feature extraction\n",
    "\n",
    "dd_dataset = pd.read_csv('../dataset/TG/tg_fusion_acc_dimer_FULL.csv')"
   ]
  },
  {
   "cell_type": "code",
   "execution_count": 2,
   "metadata": {},
   "outputs": [
    {
     "data": {
      "text/html": [
       "<div>\n",
       "<style scoped>\n",
       "    .dataframe tbody tr th:only-of-type {\n",
       "        vertical-align: middle;\n",
       "    }\n",
       "\n",
       "    .dataframe tbody tr th {\n",
       "        vertical-align: top;\n",
       "    }\n",
       "\n",
       "    .dataframe thead th {\n",
       "        text-align: right;\n",
       "    }\n",
       "</style>\n",
       "<table border=\"1\" class=\"dataframe\">\n",
       "  <thead>\n",
       "    <tr style=\"text-align: right;\">\n",
       "      <th></th>\n",
       "      <th>Fold</th>\n",
       "      <th>Protein name</th>\n",
       "      <th>F1</th>\n",
       "      <th>F2</th>\n",
       "      <th>F3</th>\n",
       "      <th>F4</th>\n",
       "      <th>F5</th>\n",
       "      <th>F6</th>\n",
       "      <th>F7</th>\n",
       "      <th>F8</th>\n",
       "      <th>...</th>\n",
       "      <th>F1991</th>\n",
       "      <th>F1992</th>\n",
       "      <th>F1993</th>\n",
       "      <th>F1994</th>\n",
       "      <th>F1995</th>\n",
       "      <th>F1996</th>\n",
       "      <th>F1997</th>\n",
       "      <th>F1998</th>\n",
       "      <th>F1999</th>\n",
       "      <th>F2000</th>\n",
       "    </tr>\n",
       "  </thead>\n",
       "  <tbody>\n",
       "    <tr>\n",
       "      <th>0</th>\n",
       "      <td>CytochromeC(a.3)</td>\n",
       "      <td>d1c52__131</td>\n",
       "      <td>-0.860051</td>\n",
       "      <td>-0.020321</td>\n",
       "      <td>0.408413</td>\n",
       "      <td>1.245372</td>\n",
       "      <td>-1.653580e-01</td>\n",
       "      <td>-0.756627</td>\n",
       "      <td>-0.061376</td>\n",
       "      <td>-0.392492</td>\n",
       "      <td>...</td>\n",
       "      <td>2668.470125</td>\n",
       "      <td>2568.958421</td>\n",
       "      <td>2461.125266</td>\n",
       "      <td>2210.113682</td>\n",
       "      <td>2391.294699</td>\n",
       "      <td>2540.620041</td>\n",
       "      <td>2524.454867</td>\n",
       "      <td>2325.668887</td>\n",
       "      <td>2686.316308</td>\n",
       "      <td>2569.831850</td>\n",
       "    </tr>\n",
       "    <tr>\n",
       "      <th>1</th>\n",
       "      <td>CytochromeC(a.3)</td>\n",
       "      <td>d1c75a_73</td>\n",
       "      <td>-1.193668</td>\n",
       "      <td>-0.062892</td>\n",
       "      <td>0.034965</td>\n",
       "      <td>2.050066</td>\n",
       "      <td>-3.771122e-03</td>\n",
       "      <td>1.942937</td>\n",
       "      <td>-0.116217</td>\n",
       "      <td>2.007126</td>\n",
       "      <td>...</td>\n",
       "      <td>1337.705924</td>\n",
       "      <td>1176.294925</td>\n",
       "      <td>1301.443665</td>\n",
       "      <td>1204.564696</td>\n",
       "      <td>1410.252456</td>\n",
       "      <td>1142.397918</td>\n",
       "      <td>1270.069229</td>\n",
       "      <td>1123.534634</td>\n",
       "      <td>1383.534603</td>\n",
       "      <td>1393.169579</td>\n",
       "    </tr>\n",
       "    <tr>\n",
       "      <th>2</th>\n",
       "      <td>CytochromeC(a.3)</td>\n",
       "      <td>d1cc5__83</td>\n",
       "      <td>-0.232951</td>\n",
       "      <td>-0.173773</td>\n",
       "      <td>1.449987</td>\n",
       "      <td>0.351181</td>\n",
       "      <td>7.792407e-31</td>\n",
       "      <td>-0.391041</td>\n",
       "      <td>-0.093766</td>\n",
       "      <td>0.312530</td>\n",
       "      <td>...</td>\n",
       "      <td>1274.038897</td>\n",
       "      <td>1239.936930</td>\n",
       "      <td>1237.949113</td>\n",
       "      <td>1239.497593</td>\n",
       "      <td>1283.197455</td>\n",
       "      <td>1174.359542</td>\n",
       "      <td>1164.211170</td>\n",
       "      <td>1240.616939</td>\n",
       "      <td>1310.128682</td>\n",
       "      <td>1321.025118</td>\n",
       "    </tr>\n",
       "    <tr>\n",
       "      <th>3</th>\n",
       "      <td>CytochromeC(a.3)</td>\n",
       "      <td>d1cnoa_86</td>\n",
       "      <td>0.115326</td>\n",
       "      <td>-0.010802</td>\n",
       "      <td>-0.024305</td>\n",
       "      <td>-0.010802</td>\n",
       "      <td>0.000000e+00</td>\n",
       "      <td>0.031977</td>\n",
       "      <td>-0.002701</td>\n",
       "      <td>-0.043209</td>\n",
       "      <td>...</td>\n",
       "      <td>52.646098</td>\n",
       "      <td>39.469147</td>\n",
       "      <td>39.469147</td>\n",
       "      <td>56.092459</td>\n",
       "      <td>52.646098</td>\n",
       "      <td>43.861464</td>\n",
       "      <td>52.646098</td>\n",
       "      <td>39.469147</td>\n",
       "      <td>57.038415</td>\n",
       "      <td>35.076830</td>\n",
       "    </tr>\n",
       "    <tr>\n",
       "      <th>4</th>\n",
       "      <td>CytochromeC(a.3)</td>\n",
       "      <td>d1ctj__91</td>\n",
       "      <td>0.000000</td>\n",
       "      <td>0.000000</td>\n",
       "      <td>0.000000</td>\n",
       "      <td>0.000000</td>\n",
       "      <td>0.000000e+00</td>\n",
       "      <td>0.000000</td>\n",
       "      <td>0.000000</td>\n",
       "      <td>0.000000</td>\n",
       "      <td>...</td>\n",
       "      <td>0.000000</td>\n",
       "      <td>0.000000</td>\n",
       "      <td>0.000000</td>\n",
       "      <td>0.000000</td>\n",
       "      <td>0.000000</td>\n",
       "      <td>0.000000</td>\n",
       "      <td>0.000000</td>\n",
       "      <td>0.000000</td>\n",
       "      <td>0.000000</td>\n",
       "      <td>0.000000</td>\n",
       "    </tr>\n",
       "  </tbody>\n",
       "</table>\n",
       "<p>5 rows × 2002 columns</p>\n",
       "</div>"
      ],
      "text/plain": [
       "               Fold Protein name        F1        F2        F3        F4  \\\n",
       "0  CytochromeC(a.3)   d1c52__131 -0.860051 -0.020321  0.408413  1.245372   \n",
       "1  CytochromeC(a.3)    d1c75a_73 -1.193668 -0.062892  0.034965  2.050066   \n",
       "2  CytochromeC(a.3)    d1cc5__83 -0.232951 -0.173773  1.449987  0.351181   \n",
       "3  CytochromeC(a.3)    d1cnoa_86  0.115326 -0.010802 -0.024305 -0.010802   \n",
       "4  CytochromeC(a.3)    d1ctj__91  0.000000  0.000000  0.000000  0.000000   \n",
       "\n",
       "             F5        F6        F7        F8     ...             F1991  \\\n",
       "0 -1.653580e-01 -0.756627 -0.061376 -0.392492     ...       2668.470125   \n",
       "1 -3.771122e-03  1.942937 -0.116217  2.007126     ...       1337.705924   \n",
       "2  7.792407e-31 -0.391041 -0.093766  0.312530     ...       1274.038897   \n",
       "3  0.000000e+00  0.031977 -0.002701 -0.043209     ...         52.646098   \n",
       "4  0.000000e+00  0.000000  0.000000  0.000000     ...          0.000000   \n",
       "\n",
       "         F1992        F1993        F1994        F1995        F1996  \\\n",
       "0  2568.958421  2461.125266  2210.113682  2391.294699  2540.620041   \n",
       "1  1176.294925  1301.443665  1204.564696  1410.252456  1142.397918   \n",
       "2  1239.936930  1237.949113  1239.497593  1283.197455  1174.359542   \n",
       "3    39.469147    39.469147    56.092459    52.646098    43.861464   \n",
       "4     0.000000     0.000000     0.000000     0.000000     0.000000   \n",
       "\n",
       "         F1997        F1998        F1999        F2000  \n",
       "0  2524.454867  2325.668887  2686.316308  2569.831850  \n",
       "1  1270.069229  1123.534634  1383.534603  1393.169579  \n",
       "2  1164.211170  1240.616939  1310.128682  1321.025118  \n",
       "3    52.646098    39.469147    57.038415    35.076830  \n",
       "4     0.000000     0.000000     0.000000     0.000000  \n",
       "\n",
       "[5 rows x 2002 columns]"
      ]
     },
     "execution_count": 2,
     "metadata": {},
     "output_type": "execute_result"
    }
   ],
   "source": [
    "dd_dataset.head()"
   ]
  },
  {
   "cell_type": "markdown",
   "metadata": {},
   "source": [
    "Convert class lables to unique integers"
   ]
  },
  {
   "cell_type": "code",
   "execution_count": 3,
   "metadata": {},
   "outputs": [],
   "source": [
    "# Encode class labels\n",
    "#from sklearn.preprocessing import LabelEncoder\n",
    "\n",
    "y_true, labels = pd.factorize(dd_dataset.Fold)\n",
    "dd_dataset.insert(1, 'class labels', y_true)"
   ]
  },
  {
   "cell_type": "code",
   "execution_count": 4,
   "metadata": {},
   "outputs": [
    {
     "data": {
      "text/html": [
       "<div>\n",
       "<style scoped>\n",
       "    .dataframe tbody tr th:only-of-type {\n",
       "        vertical-align: middle;\n",
       "    }\n",
       "\n",
       "    .dataframe tbody tr th {\n",
       "        vertical-align: top;\n",
       "    }\n",
       "\n",
       "    .dataframe thead th {\n",
       "        text-align: right;\n",
       "    }\n",
       "</style>\n",
       "<table border=\"1\" class=\"dataframe\">\n",
       "  <thead>\n",
       "    <tr style=\"text-align: right;\">\n",
       "      <th></th>\n",
       "      <th>Fold</th>\n",
       "      <th>class labels</th>\n",
       "      <th>Protein name</th>\n",
       "      <th>F1</th>\n",
       "      <th>F2</th>\n",
       "      <th>F3</th>\n",
       "      <th>F4</th>\n",
       "      <th>F5</th>\n",
       "      <th>F6</th>\n",
       "      <th>F7</th>\n",
       "      <th>...</th>\n",
       "      <th>F1991</th>\n",
       "      <th>F1992</th>\n",
       "      <th>F1993</th>\n",
       "      <th>F1994</th>\n",
       "      <th>F1995</th>\n",
       "      <th>F1996</th>\n",
       "      <th>F1997</th>\n",
       "      <th>F1998</th>\n",
       "      <th>F1999</th>\n",
       "      <th>F2000</th>\n",
       "    </tr>\n",
       "  </thead>\n",
       "  <tbody>\n",
       "    <tr>\n",
       "      <th>0</th>\n",
       "      <td>CytochromeC(a.3)</td>\n",
       "      <td>0</td>\n",
       "      <td>d1c52__131</td>\n",
       "      <td>-0.860051</td>\n",
       "      <td>-0.020321</td>\n",
       "      <td>0.408413</td>\n",
       "      <td>1.245372</td>\n",
       "      <td>-1.653580e-01</td>\n",
       "      <td>-0.756627</td>\n",
       "      <td>-0.061376</td>\n",
       "      <td>...</td>\n",
       "      <td>2668.470125</td>\n",
       "      <td>2568.958421</td>\n",
       "      <td>2461.125266</td>\n",
       "      <td>2210.113682</td>\n",
       "      <td>2391.294699</td>\n",
       "      <td>2540.620041</td>\n",
       "      <td>2524.454867</td>\n",
       "      <td>2325.668887</td>\n",
       "      <td>2686.316308</td>\n",
       "      <td>2569.831850</td>\n",
       "    </tr>\n",
       "    <tr>\n",
       "      <th>1</th>\n",
       "      <td>CytochromeC(a.3)</td>\n",
       "      <td>0</td>\n",
       "      <td>d1c75a_73</td>\n",
       "      <td>-1.193668</td>\n",
       "      <td>-0.062892</td>\n",
       "      <td>0.034965</td>\n",
       "      <td>2.050066</td>\n",
       "      <td>-3.771122e-03</td>\n",
       "      <td>1.942937</td>\n",
       "      <td>-0.116217</td>\n",
       "      <td>...</td>\n",
       "      <td>1337.705924</td>\n",
       "      <td>1176.294925</td>\n",
       "      <td>1301.443665</td>\n",
       "      <td>1204.564696</td>\n",
       "      <td>1410.252456</td>\n",
       "      <td>1142.397918</td>\n",
       "      <td>1270.069229</td>\n",
       "      <td>1123.534634</td>\n",
       "      <td>1383.534603</td>\n",
       "      <td>1393.169579</td>\n",
       "    </tr>\n",
       "    <tr>\n",
       "      <th>2</th>\n",
       "      <td>CytochromeC(a.3)</td>\n",
       "      <td>0</td>\n",
       "      <td>d1cc5__83</td>\n",
       "      <td>-0.232951</td>\n",
       "      <td>-0.173773</td>\n",
       "      <td>1.449987</td>\n",
       "      <td>0.351181</td>\n",
       "      <td>7.792407e-31</td>\n",
       "      <td>-0.391041</td>\n",
       "      <td>-0.093766</td>\n",
       "      <td>...</td>\n",
       "      <td>1274.038897</td>\n",
       "      <td>1239.936930</td>\n",
       "      <td>1237.949113</td>\n",
       "      <td>1239.497593</td>\n",
       "      <td>1283.197455</td>\n",
       "      <td>1174.359542</td>\n",
       "      <td>1164.211170</td>\n",
       "      <td>1240.616939</td>\n",
       "      <td>1310.128682</td>\n",
       "      <td>1321.025118</td>\n",
       "    </tr>\n",
       "    <tr>\n",
       "      <th>3</th>\n",
       "      <td>CytochromeC(a.3)</td>\n",
       "      <td>0</td>\n",
       "      <td>d1cnoa_86</td>\n",
       "      <td>0.115326</td>\n",
       "      <td>-0.010802</td>\n",
       "      <td>-0.024305</td>\n",
       "      <td>-0.010802</td>\n",
       "      <td>0.000000e+00</td>\n",
       "      <td>0.031977</td>\n",
       "      <td>-0.002701</td>\n",
       "      <td>...</td>\n",
       "      <td>52.646098</td>\n",
       "      <td>39.469147</td>\n",
       "      <td>39.469147</td>\n",
       "      <td>56.092459</td>\n",
       "      <td>52.646098</td>\n",
       "      <td>43.861464</td>\n",
       "      <td>52.646098</td>\n",
       "      <td>39.469147</td>\n",
       "      <td>57.038415</td>\n",
       "      <td>35.076830</td>\n",
       "    </tr>\n",
       "    <tr>\n",
       "      <th>4</th>\n",
       "      <td>CytochromeC(a.3)</td>\n",
       "      <td>0</td>\n",
       "      <td>d1ctj__91</td>\n",
       "      <td>0.000000</td>\n",
       "      <td>0.000000</td>\n",
       "      <td>0.000000</td>\n",
       "      <td>0.000000</td>\n",
       "      <td>0.000000e+00</td>\n",
       "      <td>0.000000</td>\n",
       "      <td>0.000000</td>\n",
       "      <td>...</td>\n",
       "      <td>0.000000</td>\n",
       "      <td>0.000000</td>\n",
       "      <td>0.000000</td>\n",
       "      <td>0.000000</td>\n",
       "      <td>0.000000</td>\n",
       "      <td>0.000000</td>\n",
       "      <td>0.000000</td>\n",
       "      <td>0.000000</td>\n",
       "      <td>0.000000</td>\n",
       "      <td>0.000000</td>\n",
       "    </tr>\n",
       "  </tbody>\n",
       "</table>\n",
       "<p>5 rows × 2003 columns</p>\n",
       "</div>"
      ],
      "text/plain": [
       "               Fold  class labels Protein name        F1        F2        F3  \\\n",
       "0  CytochromeC(a.3)             0   d1c52__131 -0.860051 -0.020321  0.408413   \n",
       "1  CytochromeC(a.3)             0    d1c75a_73 -1.193668 -0.062892  0.034965   \n",
       "2  CytochromeC(a.3)             0    d1cc5__83 -0.232951 -0.173773  1.449987   \n",
       "3  CytochromeC(a.3)             0    d1cnoa_86  0.115326 -0.010802 -0.024305   \n",
       "4  CytochromeC(a.3)             0    d1ctj__91  0.000000  0.000000  0.000000   \n",
       "\n",
       "         F4            F5        F6        F7     ...             F1991  \\\n",
       "0  1.245372 -1.653580e-01 -0.756627 -0.061376     ...       2668.470125   \n",
       "1  2.050066 -3.771122e-03  1.942937 -0.116217     ...       1337.705924   \n",
       "2  0.351181  7.792407e-31 -0.391041 -0.093766     ...       1274.038897   \n",
       "3 -0.010802  0.000000e+00  0.031977 -0.002701     ...         52.646098   \n",
       "4  0.000000  0.000000e+00  0.000000  0.000000     ...          0.000000   \n",
       "\n",
       "         F1992        F1993        F1994        F1995        F1996  \\\n",
       "0  2568.958421  2461.125266  2210.113682  2391.294699  2540.620041   \n",
       "1  1176.294925  1301.443665  1204.564696  1410.252456  1142.397918   \n",
       "2  1239.936930  1237.949113  1239.497593  1283.197455  1174.359542   \n",
       "3    39.469147    39.469147    56.092459    52.646098    43.861464   \n",
       "4     0.000000     0.000000     0.000000     0.000000     0.000000   \n",
       "\n",
       "         F1997        F1998        F1999        F2000  \n",
       "0  2524.454867  2325.668887  2686.316308  2569.831850  \n",
       "1  1270.069229  1123.534634  1383.534603  1393.169579  \n",
       "2  1164.211170  1240.616939  1310.128682  1321.025118  \n",
       "3    52.646098    39.469147    57.038415    35.076830  \n",
       "4     0.000000     0.000000     0.000000     0.000000  \n",
       "\n",
       "[5 rows x 2003 columns]"
      ]
     },
     "execution_count": 4,
     "metadata": {},
     "output_type": "execute_result"
    }
   ],
   "source": [
    "dd_dataset.head()"
   ]
  },
  {
   "cell_type": "markdown",
   "metadata": {},
   "source": [
    "Create a training set from pandas data frame"
   ]
  },
  {
   "cell_type": "code",
   "execution_count": 5,
   "metadata": {},
   "outputs": [
    {
     "name": "stdout",
     "output_type": "stream",
     "text": [
      "Number of samples: 1612, Number of features: 2000\n"
     ]
    }
   ],
   "source": [
    "train_data = dd_dataset.iloc[:,3:].values\n",
    "\n",
    "# Normalize dataset\n",
    "min_max_scaler = preprocessing.MinMaxScaler()\n",
    "train_scaled = min_max_scaler.fit_transform(train_data)\n",
    "train_data = train_scaled\n",
    "\n",
    "print(\"Number of samples: %d, Number of features: %d\" % (train_data.shape[0], train_data.shape[1]))"
   ]
  },
  {
   "cell_type": "code",
   "execution_count": 6,
   "metadata": {},
   "outputs": [
    {
     "data": {
      "text/html": [
       "<div>\n",
       "<style scoped>\n",
       "    .dataframe tbody tr th:only-of-type {\n",
       "        vertical-align: middle;\n",
       "    }\n",
       "\n",
       "    .dataframe tbody tr th {\n",
       "        vertical-align: top;\n",
       "    }\n",
       "\n",
       "    .dataframe thead th {\n",
       "        text-align: right;\n",
       "    }\n",
       "</style>\n",
       "<table border=\"1\" class=\"dataframe\">\n",
       "  <thead>\n",
       "    <tr style=\"text-align: right;\">\n",
       "      <th></th>\n",
       "      <th>0</th>\n",
       "      <th>1</th>\n",
       "      <th>2</th>\n",
       "      <th>3</th>\n",
       "      <th>4</th>\n",
       "      <th>5</th>\n",
       "      <th>6</th>\n",
       "      <th>7</th>\n",
       "      <th>8</th>\n",
       "      <th>9</th>\n",
       "      <th>...</th>\n",
       "      <th>1990</th>\n",
       "      <th>1991</th>\n",
       "      <th>1992</th>\n",
       "      <th>1993</th>\n",
       "      <th>1994</th>\n",
       "      <th>1995</th>\n",
       "      <th>1996</th>\n",
       "      <th>1997</th>\n",
       "      <th>1998</th>\n",
       "      <th>1999</th>\n",
       "    </tr>\n",
       "  </thead>\n",
       "  <tbody>\n",
       "    <tr>\n",
       "      <th>0</th>\n",
       "      <td>0.303131</td>\n",
       "      <td>0.758310</td>\n",
       "      <td>0.364892</td>\n",
       "      <td>0.662607</td>\n",
       "      <td>0.377592</td>\n",
       "      <td>0.356865</td>\n",
       "      <td>0.409897</td>\n",
       "      <td>0.340548</td>\n",
       "      <td>0.724592</td>\n",
       "      <td>0.294068</td>\n",
       "      <td>...</td>\n",
       "      <td>0.171462</td>\n",
       "      <td>0.170400</td>\n",
       "      <td>0.161728</td>\n",
       "      <td>0.144031</td>\n",
       "      <td>0.155685</td>\n",
       "      <td>0.171406</td>\n",
       "      <td>0.168301</td>\n",
       "      <td>0.163712</td>\n",
       "      <td>0.163750</td>\n",
       "      <td>0.162056</td>\n",
       "    </tr>\n",
       "    <tr>\n",
       "      <th>1</th>\n",
       "      <td>0.236358</td>\n",
       "      <td>0.752495</td>\n",
       "      <td>0.311875</td>\n",
       "      <td>0.804764</td>\n",
       "      <td>0.426185</td>\n",
       "      <td>0.784764</td>\n",
       "      <td>0.386362</td>\n",
       "      <td>0.873023</td>\n",
       "      <td>0.659864</td>\n",
       "      <td>0.293044</td>\n",
       "      <td>...</td>\n",
       "      <td>0.085954</td>\n",
       "      <td>0.078024</td>\n",
       "      <td>0.085522</td>\n",
       "      <td>0.078501</td>\n",
       "      <td>0.091814</td>\n",
       "      <td>0.077073</td>\n",
       "      <td>0.084673</td>\n",
       "      <td>0.079090</td>\n",
       "      <td>0.084336</td>\n",
       "      <td>0.087855</td>\n",
       "    </tr>\n",
       "    <tr>\n",
       "      <th>2</th>\n",
       "      <td>0.428644</td>\n",
       "      <td>0.737350</td>\n",
       "      <td>0.512759</td>\n",
       "      <td>0.504639</td>\n",
       "      <td>0.427319</td>\n",
       "      <td>0.414813</td>\n",
       "      <td>0.395997</td>\n",
       "      <td>0.496992</td>\n",
       "      <td>0.469270</td>\n",
       "      <td>0.468298</td>\n",
       "      <td>...</td>\n",
       "      <td>0.081863</td>\n",
       "      <td>0.082245</td>\n",
       "      <td>0.081349</td>\n",
       "      <td>0.080777</td>\n",
       "      <td>0.083542</td>\n",
       "      <td>0.079229</td>\n",
       "      <td>0.077616</td>\n",
       "      <td>0.087331</td>\n",
       "      <td>0.079862</td>\n",
       "      <td>0.083305</td>\n",
       "    </tr>\n",
       "    <tr>\n",
       "      <th>3</th>\n",
       "      <td>0.498351</td>\n",
       "      <td>0.759610</td>\n",
       "      <td>0.303461</td>\n",
       "      <td>0.440691</td>\n",
       "      <td>0.427319</td>\n",
       "      <td>0.481864</td>\n",
       "      <td>0.435078</td>\n",
       "      <td>0.418054</td>\n",
       "      <td>0.492551</td>\n",
       "      <td>0.343362</td>\n",
       "      <td>...</td>\n",
       "      <td>0.003383</td>\n",
       "      <td>0.002618</td>\n",
       "      <td>0.002594</td>\n",
       "      <td>0.003656</td>\n",
       "      <td>0.003428</td>\n",
       "      <td>0.002959</td>\n",
       "      <td>0.003510</td>\n",
       "      <td>0.002778</td>\n",
       "      <td>0.003477</td>\n",
       "      <td>0.002212</td>\n",
       "    </tr>\n",
       "    <tr>\n",
       "      <th>4</th>\n",
       "      <td>0.475269</td>\n",
       "      <td>0.761086</td>\n",
       "      <td>0.306911</td>\n",
       "      <td>0.442599</td>\n",
       "      <td>0.427319</td>\n",
       "      <td>0.476795</td>\n",
       "      <td>0.436237</td>\n",
       "      <td>0.427642</td>\n",
       "      <td>0.503635</td>\n",
       "      <td>0.352519</td>\n",
       "      <td>...</td>\n",
       "      <td>0.000000</td>\n",
       "      <td>0.000000</td>\n",
       "      <td>0.000000</td>\n",
       "      <td>0.000000</td>\n",
       "      <td>0.000000</td>\n",
       "      <td>0.000000</td>\n",
       "      <td>0.000000</td>\n",
       "      <td>0.000000</td>\n",
       "      <td>0.000000</td>\n",
       "      <td>0.000000</td>\n",
       "    </tr>\n",
       "  </tbody>\n",
       "</table>\n",
       "<p>5 rows × 2000 columns</p>\n",
       "</div>"
      ],
      "text/plain": [
       "       0         1         2         3         4         5         6     \\\n",
       "0  0.303131  0.758310  0.364892  0.662607  0.377592  0.356865  0.409897   \n",
       "1  0.236358  0.752495  0.311875  0.804764  0.426185  0.784764  0.386362   \n",
       "2  0.428644  0.737350  0.512759  0.504639  0.427319  0.414813  0.395997   \n",
       "3  0.498351  0.759610  0.303461  0.440691  0.427319  0.481864  0.435078   \n",
       "4  0.475269  0.761086  0.306911  0.442599  0.427319  0.476795  0.436237   \n",
       "\n",
       "       7         8         9       ...         1990      1991      1992  \\\n",
       "0  0.340548  0.724592  0.294068    ...     0.171462  0.170400  0.161728   \n",
       "1  0.873023  0.659864  0.293044    ...     0.085954  0.078024  0.085522   \n",
       "2  0.496992  0.469270  0.468298    ...     0.081863  0.082245  0.081349   \n",
       "3  0.418054  0.492551  0.343362    ...     0.003383  0.002618  0.002594   \n",
       "4  0.427642  0.503635  0.352519    ...     0.000000  0.000000  0.000000   \n",
       "\n",
       "       1993      1994      1995      1996      1997      1998      1999  \n",
       "0  0.144031  0.155685  0.171406  0.168301  0.163712  0.163750  0.162056  \n",
       "1  0.078501  0.091814  0.077073  0.084673  0.079090  0.084336  0.087855  \n",
       "2  0.080777  0.083542  0.079229  0.077616  0.087331  0.079862  0.083305  \n",
       "3  0.003656  0.003428  0.002959  0.003510  0.002778  0.003477  0.002212  \n",
       "4  0.000000  0.000000  0.000000  0.000000  0.000000  0.000000  0.000000  \n",
       "\n",
       "[5 rows x 2000 columns]"
      ]
     },
     "execution_count": 6,
     "metadata": {},
     "output_type": "execute_result"
    }
   ],
   "source": [
    "# Show normlaized data\n",
    "\n",
    "train = pd.DataFrame(train_data)\n",
    "\n",
    "train.head()"
   ]
  },
  {
   "cell_type": "markdown",
   "metadata": {},
   "source": [
    "## Data analysis"
   ]
  },
  {
   "cell_type": "code",
   "execution_count": 7,
   "metadata": {},
   "outputs": [
    {
     "data": {
      "text/plain": [
       "<Figure size 640x480 with 1 Axes>"
      ]
     },
     "metadata": {},
     "output_type": "display_data"
    }
   ],
   "source": [
    "# Frequency of folds\n",
    "import matplotlib.pyplot as plt\n",
    "\n",
    "fig, ax = plt.subplots()\n",
    "freq_plot = dd_dataset['Fold'].value_counts().plot(ax=ax, kind='bar')\n",
    "freq_plot.set_ylabel('Number of proteins')\n",
    "plt.show()"
   ]
  },
  {
   "cell_type": "markdown",
   "metadata": {},
   "source": [
    "## SVM classifier"
   ]
  },
  {
   "cell_type": "code",
   "execution_count": 8,
   "metadata": {},
   "outputs": [
    {
     "name": "stderr",
     "output_type": "stream",
     "text": [
      "/usr/lib/python3.5/importlib/_bootstrap.py:222: RuntimeWarning: numpy.dtype size changed, may indicate binary incompatibility. Expected 96, got 88\n",
      "  return f(*args, **kwds)\n"
     ]
    }
   ],
   "source": [
    "from sklearn.svm import SVC\n",
    "from sklearn.model_selection import GridSearchCV\n",
    "\n",
    "# Hyperparameters\n",
    "kernel = 'rbf'\n",
    "\n",
    "# An instance of SVM classifier\n",
    "svm_cl = SVC(kernel=kernel)"
   ]
  },
  {
   "cell_type": "markdown",
   "metadata": {},
   "source": [
    "Define range of parameters for Grid Search"
   ]
  },
  {
   "cell_type": "code",
   "execution_count": 9,
   "metadata": {},
   "outputs": [],
   "source": [
    "# Penalty parameter\n",
    "c_range = {'C': [float(2**i) for i in range(-14, 14)]}\n",
    "# Gamma parameter for RBF kernel\n",
    "gamma_range = {'gamma': [float(2**i) for i in range(-14, 14)]} if kernel == 'rbf' else {}\n",
    "\n",
    "param_range = {**c_range, **gamma_range}\n",
    "\n",
    "# Arguments for grid search\n",
    "cv_fold = 10\n",
    "n_workers = -1 # Number of CPU threads\n",
    "\n",
    "result = GridSearchCV(svm_cl, param_range, cv=cv_fold, n_jobs=n_workers, refit=True,\n",
    "                      verbose=1)"
   ]
  },
  {
   "cell_type": "markdown",
   "metadata": {},
   "source": [
    "Start grid search!"
   ]
  },
  {
   "cell_type": "code",
   "execution_count": 10,
   "metadata": {},
   "outputs": [
    {
     "name": "stdout",
     "output_type": "stream",
     "text": [
      "Fitting 10 folds for each of 784 candidates, totalling 7840 fits\n"
     ]
    },
    {
     "name": "stderr",
     "output_type": "stream",
     "text": [
      "[Parallel(n_jobs=-1)]: Done  34 tasks      | elapsed:  1.3min\n",
      "[Parallel(n_jobs=-1)]: Done 184 tasks      | elapsed:  5.8min\n",
      "[Parallel(n_jobs=-1)]: Done 434 tasks      | elapsed: 13.1min\n",
      "[Parallel(n_jobs=-1)]: Done 784 tasks      | elapsed: 23.6min\n",
      "[Parallel(n_jobs=-1)]: Done 1234 tasks      | elapsed: 37.2min\n",
      "[Parallel(n_jobs=-1)]: Done 1784 tasks      | elapsed: 54.2min\n",
      "[Parallel(n_jobs=-1)]: Done 2434 tasks      | elapsed: 76.5min\n",
      "[Parallel(n_jobs=-1)]: Done 3184 tasks      | elapsed: 102.6min\n",
      "[Parallel(n_jobs=-1)]: Done 4034 tasks      | elapsed: 132.8min\n",
      "[Parallel(n_jobs=-1)]: Done 4984 tasks      | elapsed: 167.0min\n",
      "[Parallel(n_jobs=-1)]: Done 6034 tasks      | elapsed: 204.5min\n",
      "[Parallel(n_jobs=-1)]: Done 7184 tasks      | elapsed: 245.6min\n",
      "[Parallel(n_jobs=-1)]: Done 7840 out of 7840 | elapsed: 268.9min finished\n"
     ]
    },
    {
     "data": {
      "text/plain": [
       "GridSearchCV(cv=10, error_score='raise',\n",
       "       estimator=SVC(C=1.0, cache_size=200, class_weight=None, coef0=0.0,\n",
       "  decision_function_shape='ovr', degree=3, gamma='auto', kernel='rbf',\n",
       "  max_iter=-1, probability=False, random_state=None, shrinking=True,\n",
       "  tol=0.001, verbose=False),\n",
       "       fit_params=None, iid=True, n_jobs=-1,\n",
       "       param_grid={'gamma': [6.103515625e-05, 0.0001220703125, 0.000244140625, 0.00048828125, 0.0009765625, 0.001953125, 0.00390625, 0.0078125, 0.015625, 0.03125, 0.0625, 0.125, 0.25, 0.5, 1.0, 2.0, 4.0, 8.0, 16.0, 32.0, 64.0, 128.0, 256.0, 512.0, 1024.0, 2048.0, 4096.0, 8192.0], 'C': [6.103515625e-05, 0.0...25, 0.5, 1.0, 2.0, 4.0, 8.0, 16.0, 32.0, 64.0, 128.0, 256.0, 512.0, 1024.0, 2048.0, 4096.0, 8192.0]},\n",
       "       pre_dispatch='2*n_jobs', refit=True, return_train_score='warn',\n",
       "       scoring=None, verbose=1)"
      ]
     },
     "execution_count": 10,
     "metadata": {},
     "output_type": "execute_result"
    }
   ],
   "source": [
    "result.fit(train_data, y_true)"
   ]
  },
  {
   "cell_type": "code",
   "execution_count": 11,
   "metadata": {},
   "outputs": [
    {
     "name": "stdout",
     "output_type": "stream",
     "text": [
      "Best accuracy: 24.50\n"
     ]
    }
   ],
   "source": [
    "print(\"Best accuracy: %.2f\" % (result.best_score_ * 100))"
   ]
  },
  {
   "cell_type": "markdown",
   "metadata": {},
   "source": [
    "Confusion matrix"
   ]
  },
  {
   "cell_type": "code",
   "execution_count": 14,
   "metadata": {},
   "outputs": [
    {
     "name": "stdout",
     "output_type": "stream",
     "text": [
      "Accuracy:  70.5955334987593\n"
     ]
    },
    {
     "data": {
      "image/png": "[encoded data removed]",
      "text/plain": [
       "<Figure size 1440x1080 with 2 Axes>"
      ]
     },
     "metadata": {},
     "output_type": "display_data"
    }
   ],
   "source": [
    "import sys\n",
    "sys.path.insert(0, '../')\n",
    "\n",
    "\n",
    "from misc import plt_confusion_matrix\n",
    "from sklearn.metrics import confusion_matrix, accuracy_score, classification_report\n",
    "import numpy as np\n",
    "\n",
    "y_pred = result.best_estimator_.predict(train_data)\n",
    "\n",
    "cm = confusion_matrix(labels[y_true], labels[y_pred])\n",
    "\n",
    "print(\"Accuracy: \", (accuracy_score(labels[y_true], labels[y_pred]) * 100))\n",
    "\n",
    "plt.figure(figsize=(20, 15))\n",
    "plt_confusion_matrix(cm, np.unique(labels[y_true]))\n",
    "plt.savefig(\"../report/DD_IG_ACC_confusion_matrix.png\", dpi=256)"
   ]
  },
  {
   "cell_type": "markdown",
   "metadata": {},
   "source": [
    "Classification report"
   ]
  },
  {
   "cell_type": "code",
   "execution_count": 15,
   "metadata": {},
   "outputs": [
    {
     "name": "stdout",
     "output_type": "stream",
     "text": [
      "                                                                   precision    recall  f1-score   support\n",
      "\n",
      "                           Adeninenucleotideahydrolase-like(c.26)       1.00      0.56      0.72        34\n",
      "Commonfoldofdiphtheriatoxin/transcriptionfactors/cytochromef(b.2)       1.00      0.68      0.81        28\n",
      "                       ConcanavalinA-likelectins/glucanases(b.29)       1.00      0.58      0.73        26\n",
      "                                             Cupredoxin-like(b.6)       1.00      0.83      0.91        30\n",
      "                                              Cystatin-like(d.17)       1.00      0.72      0.84        25\n",
      "                                                 CytochromeC(a.3)       1.00      0.76      0.86        25\n",
      "                               DNA/RNAbinding3-helicalbundle(a.4)       1.00      0.80      0.89       103\n",
      "                                     Double-strandeda-helix(b.82)       1.00      0.62      0.76        34\n",
      "                                            EFhand-likefold(a.39)       1.00      0.68      0.81        25\n",
      "                                    FAD/NAD(P)-bindingdomain(c.3)       1.00      0.35      0.52        31\n",
      "                                            Ferredoxin-like(d.58)       1.00      0.70      0.83       118\n",
      "                                            Flavodoxin-like(c.23)       1.00      0.60      0.75        55\n",
      "                                 Fourhelicalupanddownbundle(a.24)       1.00      0.81      0.89        26\n",
      "                               Galactose-bindingdomain-like(b.18)       1.00      0.76      0.86        25\n",
      "                                    Immunoglobulin-likeb-sandwich       1.00      0.76      0.86       173\n",
      "                                                    Knottins(g.3)       1.00      0.74      0.85        80\n",
      "                          NAD(P)-bindingRossmann-folddomains(c.2)       1.00      0.60      0.75        77\n",
      "                                        Nucleoplasmin-like(b.121)       1.00      0.76      0.86        42\n",
      "                                                    OB-fold(b.40)       1.00      0.72      0.84        78\n",
      "           P-loopcontainingnucleosidetriphosphatehydrolases(c.37)       0.17      1.00      0.29        95\n",
      "                                    RibonucleaseH-likemotif(c.55)       1.00      0.61      0.76        49\n",
      "                                            Rubredoxin-like(g.41)       1.00      0.75      0.86        28\n",
      "        S-adenosyl-L-methionine-dependentmethyltransferases(c.66)       1.00      0.50      0.67        34\n",
      "                                             SAMdomain-like(a.60)       1.00      0.81      0.89        26\n",
      "                                             SH3-likebarrel(b.34)       1.00      0.81      0.89        42\n",
      "                                               TIMa/b-barrel(c.1)       0.92      0.63      0.75       145\n",
      "                                            Thioredoxinfold(c.47)       1.00      0.78      0.88        32\n",
      "                                             a-asuperhelix(a.118)       1.00      0.55      0.71        47\n",
      "                                             a/b-Hydrolases(c.69)       1.00      0.59      0.75        37\n",
      "                                     b-Grasp,ubiquitin-like(d.15)       1.00      0.71      0.83        42\n",
      "\n",
      "                                                      avg / total       0.94      0.71      0.78      1612\n",
      "\n"
     ]
    }
   ],
   "source": [
    "print(classification_report(labels[y_true], labels[y_pred]))"
   ]
  },
  {
   "cell_type": "markdown",
   "metadata": {},
   "source": [
    "# XG Boost"
   ]
  },
  {
   "cell_type": "code",
   "execution_count": 14,
   "metadata": {},
   "outputs": [
    {
     "ename": "SyntaxError",
     "evalue": "invalid syntax (<ipython-input-14-a31eead7f1eb>, line 10)",
     "output_type": "error",
     "traceback": [
      "\u001b[1;36m  File \u001b[1;32m\"<ipython-input-14-a31eead7f1eb>\"\u001b[1;36m, line \u001b[1;32m10\u001b[0m\n\u001b[1;33m    X_train, X_test, y_train, y_test = train_test_split(float(train_data), float(labels), test_size=0.2, random_state=123)\u001b[0m\n\u001b[1;37m          ^\u001b[0m\n\u001b[1;31mSyntaxError\u001b[0m\u001b[1;31m:\u001b[0m invalid syntax\n"
     ]
    }
   ],
   "source": [
    "import xgboost as xgb\n",
    "from sklearn.model_selection import train_test_split\n",
    "from sklearn.metrics import accuracy_score\n",
    "import numpy as np\n",
    "\n",
    "# Create Dmatrix for more performance \n",
    "data_matrix = xgb.DMatrix(data=float(train_data),label=float(labels)\n",
    "\n",
    "# Split data to train and test\n",
    "X_train, X_test, y_train, y_test = train_test_split(float(train_data), float(labels), test_size=0.2, random_state=123)"
   ]
  },
  {
   "cell_type": "code",
   "execution_count": null,
   "metadata": {
    "collapsed": true
   },
   "outputs": [],
   "source": [
    "# Instantitate an XGBosst Classifier\n",
    "xg_clf = xgb.XGBClassifier(objective ='binary:logistic', colsample_bytree = 0.1, learning_rate = 0.1,\n",
    "                max_depth = 10, alpha = 10, n_estimators = 10)\n"
   ]
  },
  {
   "cell_type": "code",
   "execution_count": null,
   "metadata": {
    "collapsed": true
   },
   "outputs": [],
   "source": [
    "# Fit the classifier to the training set\n",
    "xg_clf.fit(X_train,y_train)\n",
    "\n",
    "# Predit test data\n",
    "preds = xg_clf.predict(X_test)\n",
    "\n",
    "# Accuracy\n",
    "accuracy = accuracy_score(y_test, preds)"
   ]
  },
  {
   "cell_type": "code",
   "execution_count": null,
   "metadata": {
    "collapsed": true
   },
   "outputs": [],
   "source": [
    "print(\"Best accuracy: %.2f\" % (accuracy*100))\n"
   ]
  },
  {
   "cell_type": "code",
   "execution_count": null,
   "metadata": {
    "collapsed": true
   },
   "outputs": [],
   "source": []
  }
 ],
 "metadata": {
  "kernelspec": {
   "display_name": "Python 3",
   "language": "python",
   "name": "python3"
  },
  "language_info": {
   "codemirror_mode": {
    "name": "ipython",
    "version": 3
   },
   "file_extension": ".py",
   "mimetype": "text/x-python",
   "name": "python",
   "nbconvert_exporter": "python",
   "pygments_lexer": "ipython3",
   "version": "3.5.2"
  }
 },
 "nbformat": 4,
 "nbformat_minor": 2
}
