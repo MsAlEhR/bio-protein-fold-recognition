{
 "cells": [
  {
   "cell_type": "markdown",
   "metadata": {},
   "source": [
    "## Training SVM classifier on DD_ACC dataset"
   ]
  },
  {
   "cell_type": "markdown",
   "metadata": {},
   "source": [
    "The first step is to read dataset from CSV file"
   ]
  },
  {
   "cell_type": "code",
   "execution_count": 59,
   "metadata": {
    "collapsed": false
   },
   "outputs": [],
   "source": [
    "import pandas as pd\n",
    "from sklearn import preprocessing\n",
    "\n",
    "\n",
    "#dd_dataset = pd.read_csv('./dataset/dd_pssm_dataset_improved.csv')\n",
    "# Add separated dimers feature extraction\n",
    "\n",
    "dd_dataset = pd.read_csv('../dataset/TG/TG_ACC_dimer_dataset_IG_700.csv')"
   ]
  },
  {
   "cell_type": "code",
   "execution_count": 60,
   "metadata": {
    "collapsed": false
   },
   "outputs": [
    {
     "data": {
      "text/html": [
       "<div>\n",
       "<style scoped>\n",
       "    .dataframe tbody tr th:only-of-type {\n",
       "        vertical-align: middle;\n",
       "    }\n",
       "\n",
       "    .dataframe tbody tr th {\n",
       "        vertical-align: top;\n",
       "    }\n",
       "\n",
       "    .dataframe thead th {\n",
       "        text-align: right;\n",
       "    }\n",
       "</style>\n",
       "<table border=\"1\" class=\"dataframe\">\n",
       "  <thead>\n",
       "    <tr style=\"text-align: right;\">\n",
       "      <th></th>\n",
       "      <th>Fold</th>\n",
       "      <th>Protein name</th>\n",
       "      <th>F1973</th>\n",
       "      <th>F1999</th>\n",
       "      <th>F1852</th>\n",
       "      <th>F1844</th>\n",
       "      <th>F1980</th>\n",
       "      <th>F1833</th>\n",
       "      <th>F1639</th>\n",
       "      <th>F1773</th>\n",
       "      <th>...</th>\n",
       "      <th>F501</th>\n",
       "      <th>F413</th>\n",
       "      <th>F1528</th>\n",
       "      <th>F796</th>\n",
       "      <th>F499</th>\n",
       "      <th>F913</th>\n",
       "      <th>F159</th>\n",
       "      <th>F768</th>\n",
       "      <th>F1078</th>\n",
       "      <th>F1027</th>\n",
       "    </tr>\n",
       "  </thead>\n",
       "  <tbody>\n",
       "    <tr>\n",
       "      <th>0</th>\n",
       "      <td>CytochromeC(a.3)</td>\n",
       "      <td>d1c52__131</td>\n",
       "      <td>2577.609724</td>\n",
       "      <td>2686.316308</td>\n",
       "      <td>2419.705388</td>\n",
       "      <td>2287.784168</td>\n",
       "      <td>2686.316308</td>\n",
       "      <td>2438.997837</td>\n",
       "      <td>2831.665423</td>\n",
       "      <td>2166.733028</td>\n",
       "      <td>...</td>\n",
       "      <td>0.294390</td>\n",
       "      <td>1.270488</td>\n",
       "      <td>-0.202131</td>\n",
       "      <td>0.408141</td>\n",
       "      <td>-0.106249</td>\n",
       "      <td>-0.348691</td>\n",
       "      <td>-1.906985e-01</td>\n",
       "      <td>0.528189</td>\n",
       "      <td>-0.714602</td>\n",
       "      <td>-0.235498</td>\n",
       "    </tr>\n",
       "    <tr>\n",
       "      <th>1</th>\n",
       "      <td>CytochromeC(a.3)</td>\n",
       "      <td>d1c75a_73</td>\n",
       "      <td>1333.965370</td>\n",
       "      <td>1383.534603</td>\n",
       "      <td>1084.569011</td>\n",
       "      <td>1008.041561</td>\n",
       "      <td>1425.691284</td>\n",
       "      <td>1144.360171</td>\n",
       "      <td>1331.742945</td>\n",
       "      <td>964.747561</td>\n",
       "      <td>...</td>\n",
       "      <td>1.002976</td>\n",
       "      <td>-0.597352</td>\n",
       "      <td>0.464131</td>\n",
       "      <td>-0.343193</td>\n",
       "      <td>-0.460093</td>\n",
       "      <td>-0.671026</td>\n",
       "      <td>-4.623257e-02</td>\n",
       "      <td>-0.708772</td>\n",
       "      <td>-0.258427</td>\n",
       "      <td>-0.323683</td>\n",
       "    </tr>\n",
       "    <tr>\n",
       "      <th>2</th>\n",
       "      <td>CytochromeC(a.3)</td>\n",
       "      <td>d1cc5__83</td>\n",
       "      <td>1227.052676</td>\n",
       "      <td>1310.128682</td>\n",
       "      <td>1123.778473</td>\n",
       "      <td>1061.418512</td>\n",
       "      <td>1310.128682</td>\n",
       "      <td>1156.860925</td>\n",
       "      <td>1190.962891</td>\n",
       "      <td>992.200883</td>\n",
       "      <td>...</td>\n",
       "      <td>0.407284</td>\n",
       "      <td>0.395753</td>\n",
       "      <td>-0.325034</td>\n",
       "      <td>-0.127490</td>\n",
       "      <td>-0.577036</td>\n",
       "      <td>-0.317324</td>\n",
       "      <td>1.902146e-17</td>\n",
       "      <td>0.011797</td>\n",
       "      <td>-0.366667</td>\n",
       "      <td>-0.493158</td>\n",
       "    </tr>\n",
       "    <tr>\n",
       "      <th>3</th>\n",
       "      <td>CytochromeC(a.3)</td>\n",
       "      <td>d1cnoa_86</td>\n",
       "      <td>61.430732</td>\n",
       "      <td>57.038415</td>\n",
       "      <td>48.253781</td>\n",
       "      <td>61.430732</td>\n",
       "      <td>57.038415</td>\n",
       "      <td>67.546230</td>\n",
       "      <td>70.215366</td>\n",
       "      <td>39.469147</td>\n",
       "      <td>...</td>\n",
       "      <td>0.213089</td>\n",
       "      <td>-0.054011</td>\n",
       "      <td>-0.003054</td>\n",
       "      <td>-0.044220</td>\n",
       "      <td>0.046984</td>\n",
       "      <td>-0.005657</td>\n",
       "      <td>0.000000e+00</td>\n",
       "      <td>-0.005528</td>\n",
       "      <td>-0.056570</td>\n",
       "      <td>-0.014142</td>\n",
       "    </tr>\n",
       "    <tr>\n",
       "      <th>4</th>\n",
       "      <td>CytochromeC(a.3)</td>\n",
       "      <td>d1ctj__91</td>\n",
       "      <td>0.000000</td>\n",
       "      <td>0.000000</td>\n",
       "      <td>0.000000</td>\n",
       "      <td>0.000000</td>\n",
       "      <td>0.000000</td>\n",
       "      <td>0.000000</td>\n",
       "      <td>0.000000</td>\n",
       "      <td>0.000000</td>\n",
       "      <td>...</td>\n",
       "      <td>0.000000</td>\n",
       "      <td>0.000000</td>\n",
       "      <td>0.000000</td>\n",
       "      <td>0.000000</td>\n",
       "      <td>0.000000</td>\n",
       "      <td>0.000000</td>\n",
       "      <td>0.000000e+00</td>\n",
       "      <td>0.000000</td>\n",
       "      <td>0.000000</td>\n",
       "      <td>0.000000</td>\n",
       "    </tr>\n",
       "  </tbody>\n",
       "</table>\n",
       "<p>5 rows × 702 columns</p>\n",
       "</div>"
      ],
      "text/plain": [
       "               Fold Protein name        F1973        F1999        F1852  \\\n",
       "0  CytochromeC(a.3)   d1c52__131  2577.609724  2686.316308  2419.705388   \n",
       "1  CytochromeC(a.3)    d1c75a_73  1333.965370  1383.534603  1084.569011   \n",
       "2  CytochromeC(a.3)    d1cc5__83  1227.052676  1310.128682  1123.778473   \n",
       "3  CytochromeC(a.3)    d1cnoa_86    61.430732    57.038415    48.253781   \n",
       "4  CytochromeC(a.3)    d1ctj__91     0.000000     0.000000     0.000000   \n",
       "\n",
       "         F1844        F1980        F1833        F1639        F1773    ...     \\\n",
       "0  2287.784168  2686.316308  2438.997837  2831.665423  2166.733028    ...      \n",
       "1  1008.041561  1425.691284  1144.360171  1331.742945   964.747561    ...      \n",
       "2  1061.418512  1310.128682  1156.860925  1190.962891   992.200883    ...      \n",
       "3    61.430732    57.038415    67.546230    70.215366    39.469147    ...      \n",
       "4     0.000000     0.000000     0.000000     0.000000     0.000000    ...      \n",
       "\n",
       "       F501      F413     F1528      F796      F499      F913          F159  \\\n",
       "0  0.294390  1.270488 -0.202131  0.408141 -0.106249 -0.348691 -1.906985e-01   \n",
       "1  1.002976 -0.597352  0.464131 -0.343193 -0.460093 -0.671026 -4.623257e-02   \n",
       "2  0.407284  0.395753 -0.325034 -0.127490 -0.577036 -0.317324  1.902146e-17   \n",
       "3  0.213089 -0.054011 -0.003054 -0.044220  0.046984 -0.005657  0.000000e+00   \n",
       "4  0.000000  0.000000  0.000000  0.000000  0.000000  0.000000  0.000000e+00   \n",
       "\n",
       "       F768     F1078     F1027  \n",
       "0  0.528189 -0.714602 -0.235498  \n",
       "1 -0.708772 -0.258427 -0.323683  \n",
       "2  0.011797 -0.366667 -0.493158  \n",
       "3 -0.005528 -0.056570 -0.014142  \n",
       "4  0.000000  0.000000  0.000000  \n",
       "\n",
       "[5 rows x 702 columns]"
      ]
     },
     "execution_count": 60,
     "metadata": {},
     "output_type": "execute_result"
    }
   ],
   "source": [
    "dd_dataset.head()"
   ]
  },
  {
   "cell_type": "markdown",
   "metadata": {},
   "source": [
    "Convert class lables to unique integers"
   ]
  },
  {
   "cell_type": "code",
   "execution_count": 61,
   "metadata": {
    "collapsed": false
   },
   "outputs": [],
   "source": [
    "# Encode class labels\n",
    "#from sklearn.preprocessing import LabelEncoder\n",
    "dd_dataset=dd_dataset.loc[dd_dataset['Fold'] != 'P-loopcontainingnucleosidetriphosphatehydrolases(c.37)']\n",
    "y_true, labels = pd.factorize(dd_dataset.Fold)\n",
    "dd_dataset.insert(1, 'class labels', y_true)\n"
   ]
  },
  {
   "cell_type": "code",
   "execution_count": 62,
   "metadata": {
    "collapsed": false
   },
   "outputs": [
    {
     "data": {
      "text/html": [
       "<div>\n",
       "<style scoped>\n",
       "    .dataframe tbody tr th:only-of-type {\n",
       "        vertical-align: middle;\n",
       "    }\n",
       "\n",
       "    .dataframe tbody tr th {\n",
       "        vertical-align: top;\n",
       "    }\n",
       "\n",
       "    .dataframe thead th {\n",
       "        text-align: right;\n",
       "    }\n",
       "</style>\n",
       "<table border=\"1\" class=\"dataframe\">\n",
       "  <thead>\n",
       "    <tr style=\"text-align: right;\">\n",
       "      <th></th>\n",
       "      <th>Fold</th>\n",
       "      <th>class labels</th>\n",
       "      <th>Protein name</th>\n",
       "      <th>F1973</th>\n",
       "      <th>F1999</th>\n",
       "      <th>F1852</th>\n",
       "      <th>F1844</th>\n",
       "      <th>F1980</th>\n",
       "      <th>F1833</th>\n",
       "      <th>F1639</th>\n",
       "      <th>...</th>\n",
       "      <th>F501</th>\n",
       "      <th>F413</th>\n",
       "      <th>F1528</th>\n",
       "      <th>F796</th>\n",
       "      <th>F499</th>\n",
       "      <th>F913</th>\n",
       "      <th>F159</th>\n",
       "      <th>F768</th>\n",
       "      <th>F1078</th>\n",
       "      <th>F1027</th>\n",
       "    </tr>\n",
       "  </thead>\n",
       "  <tbody>\n",
       "    <tr>\n",
       "      <th>0</th>\n",
       "      <td>CytochromeC(a.3)</td>\n",
       "      <td>0</td>\n",
       "      <td>d1c52__131</td>\n",
       "      <td>2577.609724</td>\n",
       "      <td>2686.316308</td>\n",
       "      <td>2419.705388</td>\n",
       "      <td>2287.784168</td>\n",
       "      <td>2686.316308</td>\n",
       "      <td>2438.997837</td>\n",
       "      <td>2831.665423</td>\n",
       "      <td>...</td>\n",
       "      <td>0.294390</td>\n",
       "      <td>1.270488</td>\n",
       "      <td>-0.202131</td>\n",
       "      <td>0.408141</td>\n",
       "      <td>-0.106249</td>\n",
       "      <td>-0.348691</td>\n",
       "      <td>-1.906985e-01</td>\n",
       "      <td>0.528189</td>\n",
       "      <td>-0.714602</td>\n",
       "      <td>-0.235498</td>\n",
       "    </tr>\n",
       "    <tr>\n",
       "      <th>1</th>\n",
       "      <td>CytochromeC(a.3)</td>\n",
       "      <td>0</td>\n",
       "      <td>d1c75a_73</td>\n",
       "      <td>1333.965370</td>\n",
       "      <td>1383.534603</td>\n",
       "      <td>1084.569011</td>\n",
       "      <td>1008.041561</td>\n",
       "      <td>1425.691284</td>\n",
       "      <td>1144.360171</td>\n",
       "      <td>1331.742945</td>\n",
       "      <td>...</td>\n",
       "      <td>1.002976</td>\n",
       "      <td>-0.597352</td>\n",
       "      <td>0.464131</td>\n",
       "      <td>-0.343193</td>\n",
       "      <td>-0.460093</td>\n",
       "      <td>-0.671026</td>\n",
       "      <td>-4.623257e-02</td>\n",
       "      <td>-0.708772</td>\n",
       "      <td>-0.258427</td>\n",
       "      <td>-0.323683</td>\n",
       "    </tr>\n",
       "    <tr>\n",
       "      <th>2</th>\n",
       "      <td>CytochromeC(a.3)</td>\n",
       "      <td>0</td>\n",
       "      <td>d1cc5__83</td>\n",
       "      <td>1227.052676</td>\n",
       "      <td>1310.128682</td>\n",
       "      <td>1123.778473</td>\n",
       "      <td>1061.418512</td>\n",
       "      <td>1310.128682</td>\n",
       "      <td>1156.860925</td>\n",
       "      <td>1190.962891</td>\n",
       "      <td>...</td>\n",
       "      <td>0.407284</td>\n",
       "      <td>0.395753</td>\n",
       "      <td>-0.325034</td>\n",
       "      <td>-0.127490</td>\n",
       "      <td>-0.577036</td>\n",
       "      <td>-0.317324</td>\n",
       "      <td>1.902146e-17</td>\n",
       "      <td>0.011797</td>\n",
       "      <td>-0.366667</td>\n",
       "      <td>-0.493158</td>\n",
       "    </tr>\n",
       "    <tr>\n",
       "      <th>3</th>\n",
       "      <td>CytochromeC(a.3)</td>\n",
       "      <td>0</td>\n",
       "      <td>d1cnoa_86</td>\n",
       "      <td>61.430732</td>\n",
       "      <td>57.038415</td>\n",
       "      <td>48.253781</td>\n",
       "      <td>61.430732</td>\n",
       "      <td>57.038415</td>\n",
       "      <td>67.546230</td>\n",
       "      <td>70.215366</td>\n",
       "      <td>...</td>\n",
       "      <td>0.213089</td>\n",
       "      <td>-0.054011</td>\n",
       "      <td>-0.003054</td>\n",
       "      <td>-0.044220</td>\n",
       "      <td>0.046984</td>\n",
       "      <td>-0.005657</td>\n",
       "      <td>0.000000e+00</td>\n",
       "      <td>-0.005528</td>\n",
       "      <td>-0.056570</td>\n",
       "      <td>-0.014142</td>\n",
       "    </tr>\n",
       "    <tr>\n",
       "      <th>4</th>\n",
       "      <td>CytochromeC(a.3)</td>\n",
       "      <td>0</td>\n",
       "      <td>d1ctj__91</td>\n",
       "      <td>0.000000</td>\n",
       "      <td>0.000000</td>\n",
       "      <td>0.000000</td>\n",
       "      <td>0.000000</td>\n",
       "      <td>0.000000</td>\n",
       "      <td>0.000000</td>\n",
       "      <td>0.000000</td>\n",
       "      <td>...</td>\n",
       "      <td>0.000000</td>\n",
       "      <td>0.000000</td>\n",
       "      <td>0.000000</td>\n",
       "      <td>0.000000</td>\n",
       "      <td>0.000000</td>\n",
       "      <td>0.000000</td>\n",
       "      <td>0.000000e+00</td>\n",
       "      <td>0.000000</td>\n",
       "      <td>0.000000</td>\n",
       "      <td>0.000000</td>\n",
       "    </tr>\n",
       "  </tbody>\n",
       "</table>\n",
       "<p>5 rows × 703 columns</p>\n",
       "</div>"
      ],
      "text/plain": [
       "               Fold  class labels Protein name        F1973        F1999  \\\n",
       "0  CytochromeC(a.3)             0   d1c52__131  2577.609724  2686.316308   \n",
       "1  CytochromeC(a.3)             0    d1c75a_73  1333.965370  1383.534603   \n",
       "2  CytochromeC(a.3)             0    d1cc5__83  1227.052676  1310.128682   \n",
       "3  CytochromeC(a.3)             0    d1cnoa_86    61.430732    57.038415   \n",
       "4  CytochromeC(a.3)             0    d1ctj__91     0.000000     0.000000   \n",
       "\n",
       "         F1852        F1844        F1980        F1833        F1639    ...     \\\n",
       "0  2419.705388  2287.784168  2686.316308  2438.997837  2831.665423    ...      \n",
       "1  1084.569011  1008.041561  1425.691284  1144.360171  1331.742945    ...      \n",
       "2  1123.778473  1061.418512  1310.128682  1156.860925  1190.962891    ...      \n",
       "3    48.253781    61.430732    57.038415    67.546230    70.215366    ...      \n",
       "4     0.000000     0.000000     0.000000     0.000000     0.000000    ...      \n",
       "\n",
       "       F501      F413     F1528      F796      F499      F913          F159  \\\n",
       "0  0.294390  1.270488 -0.202131  0.408141 -0.106249 -0.348691 -1.906985e-01   \n",
       "1  1.002976 -0.597352  0.464131 -0.343193 -0.460093 -0.671026 -4.623257e-02   \n",
       "2  0.407284  0.395753 -0.325034 -0.127490 -0.577036 -0.317324  1.902146e-17   \n",
       "3  0.213089 -0.054011 -0.003054 -0.044220  0.046984 -0.005657  0.000000e+00   \n",
       "4  0.000000  0.000000  0.000000  0.000000  0.000000  0.000000  0.000000e+00   \n",
       "\n",
       "       F768     F1078     F1027  \n",
       "0  0.528189 -0.714602 -0.235498  \n",
       "1 -0.708772 -0.258427 -0.323683  \n",
       "2  0.011797 -0.366667 -0.493158  \n",
       "3 -0.005528 -0.056570 -0.014142  \n",
       "4  0.000000  0.000000  0.000000  \n",
       "\n",
       "[5 rows x 703 columns]"
      ]
     },
     "execution_count": 62,
     "metadata": {},
     "output_type": "execute_result"
    }
   ],
   "source": [
    "dd_dataset.head()\n"
   ]
  },
  {
   "cell_type": "markdown",
   "metadata": {},
   "source": [
    "Create a training set from pandas data frame"
   ]
  },
  {
   "cell_type": "code",
   "execution_count": 63,
   "metadata": {
    "collapsed": false
   },
   "outputs": [
    {
     "name": "stdout",
     "output_type": "stream",
     "text": [
      "Number of samples: 1517, Number of features: 700\n"
     ]
    }
   ],
   "source": [
    "train_data = dd_dataset.iloc[:,3:].values\n",
    "\n",
    "# Normalize dataset\n",
    "min_max_scaler = preprocessing.MinMaxScaler()\n",
    "train_scaled = min_max_scaler.fit_transform(train_data)\n",
    "train_data = train_scaled\n",
    "\n",
    "print(\"Number of samples: %d, Number of features: %d\" % (train_data.shape[0], train_data.shape[1]))"
   ]
  },
  {
   "cell_type": "code",
   "execution_count": 64,
   "metadata": {
    "collapsed": false
   },
   "outputs": [
    {
     "data": {
      "text/html": [
       "<div>\n",
       "<style scoped>\n",
       "    .dataframe tbody tr th:only-of-type {\n",
       "        vertical-align: middle;\n",
       "    }\n",
       "\n",
       "    .dataframe tbody tr th {\n",
       "        vertical-align: top;\n",
       "    }\n",
       "\n",
       "    .dataframe thead th {\n",
       "        text-align: right;\n",
       "    }\n",
       "</style>\n",
       "<table border=\"1\" class=\"dataframe\">\n",
       "  <thead>\n",
       "    <tr style=\"text-align: right;\">\n",
       "      <th></th>\n",
       "      <th>0</th>\n",
       "      <th>1</th>\n",
       "      <th>2</th>\n",
       "      <th>3</th>\n",
       "      <th>4</th>\n",
       "      <th>5</th>\n",
       "      <th>6</th>\n",
       "      <th>7</th>\n",
       "      <th>8</th>\n",
       "      <th>9</th>\n",
       "      <th>...</th>\n",
       "      <th>690</th>\n",
       "      <th>691</th>\n",
       "      <th>692</th>\n",
       "      <th>693</th>\n",
       "      <th>694</th>\n",
       "      <th>695</th>\n",
       "      <th>696</th>\n",
       "      <th>697</th>\n",
       "      <th>698</th>\n",
       "      <th>699</th>\n",
       "    </tr>\n",
       "  </thead>\n",
       "  <tbody>\n",
       "    <tr>\n",
       "      <th>0</th>\n",
       "      <td>0.162478</td>\n",
       "      <td>0.163750</td>\n",
       "      <td>0.164184</td>\n",
       "      <td>0.160454</td>\n",
       "      <td>0.163750</td>\n",
       "      <td>0.167755</td>\n",
       "      <td>0.168065</td>\n",
       "      <td>0.147167</td>\n",
       "      <td>0.164371</td>\n",
       "      <td>0.135060</td>\n",
       "      <td>...</td>\n",
       "      <td>0.519380</td>\n",
       "      <td>0.636120</td>\n",
       "      <td>0.323070</td>\n",
       "      <td>0.552881</td>\n",
       "      <td>0.332793</td>\n",
       "      <td>0.353064</td>\n",
       "      <td>0.388066</td>\n",
       "      <td>0.441609</td>\n",
       "      <td>0.210623</td>\n",
       "      <td>0.292919</td>\n",
       "    </tr>\n",
       "    <tr>\n",
       "      <th>1</th>\n",
       "      <td>0.084086</td>\n",
       "      <td>0.084336</td>\n",
       "      <td>0.073591</td>\n",
       "      <td>0.070836</td>\n",
       "      <td>0.086906</td>\n",
       "      <td>0.078709</td>\n",
       "      <td>0.079253</td>\n",
       "      <td>0.065554</td>\n",
       "      <td>0.083045</td>\n",
       "      <td>0.060283</td>\n",
       "      <td>...</td>\n",
       "      <td>0.647535</td>\n",
       "      <td>0.312885</td>\n",
       "      <td>0.468618</td>\n",
       "      <td>0.322270</td>\n",
       "      <td>0.262648</td>\n",
       "      <td>0.287736</td>\n",
       "      <td>0.418259</td>\n",
       "      <td>0.167709</td>\n",
       "      <td>0.313141</td>\n",
       "      <td>0.275146</td>\n",
       "    </tr>\n",
       "    <tr>\n",
       "      <th>2</th>\n",
       "      <td>0.077347</td>\n",
       "      <td>0.079862</td>\n",
       "      <td>0.076252</td>\n",
       "      <td>0.074574</td>\n",
       "      <td>0.079862</td>\n",
       "      <td>0.079569</td>\n",
       "      <td>0.070917</td>\n",
       "      <td>0.067418</td>\n",
       "      <td>0.076194</td>\n",
       "      <td>0.067255</td>\n",
       "      <td>...</td>\n",
       "      <td>0.539798</td>\n",
       "      <td>0.484745</td>\n",
       "      <td>0.296221</td>\n",
       "      <td>0.388477</td>\n",
       "      <td>0.239465</td>\n",
       "      <td>0.359421</td>\n",
       "      <td>0.427921</td>\n",
       "      <td>0.327265</td>\n",
       "      <td>0.288816</td>\n",
       "      <td>0.240990</td>\n",
       "    </tr>\n",
       "    <tr>\n",
       "      <th>3</th>\n",
       "      <td>0.003872</td>\n",
       "      <td>0.003477</td>\n",
       "      <td>0.003274</td>\n",
       "      <td>0.004546</td>\n",
       "      <td>0.003477</td>\n",
       "      <td>0.004646</td>\n",
       "      <td>0.004557</td>\n",
       "      <td>0.002730</td>\n",
       "      <td>0.004633</td>\n",
       "      <td>0.004334</td>\n",
       "      <td>...</td>\n",
       "      <td>0.504676</td>\n",
       "      <td>0.406912</td>\n",
       "      <td>0.366559</td>\n",
       "      <td>0.414035</td>\n",
       "      <td>0.363169</td>\n",
       "      <td>0.422587</td>\n",
       "      <td>0.427921</td>\n",
       "      <td>0.323428</td>\n",
       "      <td>0.358505</td>\n",
       "      <td>0.337531</td>\n",
       "    </tr>\n",
       "    <tr>\n",
       "      <th>4</th>\n",
       "      <td>0.000000</td>\n",
       "      <td>0.000000</td>\n",
       "      <td>0.000000</td>\n",
       "      <td>0.000245</td>\n",
       "      <td>0.000000</td>\n",
       "      <td>0.000000</td>\n",
       "      <td>0.000399</td>\n",
       "      <td>0.000050</td>\n",
       "      <td>0.000000</td>\n",
       "      <td>0.000050</td>\n",
       "      <td>...</td>\n",
       "      <td>0.466136</td>\n",
       "      <td>0.416258</td>\n",
       "      <td>0.367227</td>\n",
       "      <td>0.427608</td>\n",
       "      <td>0.353855</td>\n",
       "      <td>0.423733</td>\n",
       "      <td>0.427921</td>\n",
       "      <td>0.324652</td>\n",
       "      <td>0.371219</td>\n",
       "      <td>0.340381</td>\n",
       "    </tr>\n",
       "  </tbody>\n",
       "</table>\n",
       "<p>5 rows × 700 columns</p>\n",
       "</div>"
      ],
      "text/plain": [
       "        0         1         2         3         4         5         6    \\\n",
       "0  0.162478  0.163750  0.164184  0.160454  0.163750  0.167755  0.168065   \n",
       "1  0.084086  0.084336  0.073591  0.070836  0.086906  0.078709  0.079253   \n",
       "2  0.077347  0.079862  0.076252  0.074574  0.079862  0.079569  0.070917   \n",
       "3  0.003872  0.003477  0.003274  0.004546  0.003477  0.004646  0.004557   \n",
       "4  0.000000  0.000000  0.000000  0.000245  0.000000  0.000000  0.000399   \n",
       "\n",
       "        7         8         9      ...          690       691       692  \\\n",
       "0  0.147167  0.164371  0.135060    ...     0.519380  0.636120  0.323070   \n",
       "1  0.065554  0.083045  0.060283    ...     0.647535  0.312885  0.468618   \n",
       "2  0.067418  0.076194  0.067255    ...     0.539798  0.484745  0.296221   \n",
       "3  0.002730  0.004633  0.004334    ...     0.504676  0.406912  0.366559   \n",
       "4  0.000050  0.000000  0.000050    ...     0.466136  0.416258  0.367227   \n",
       "\n",
       "        693       694       695       696       697       698       699  \n",
       "0  0.552881  0.332793  0.353064  0.388066  0.441609  0.210623  0.292919  \n",
       "1  0.322270  0.262648  0.287736  0.418259  0.167709  0.313141  0.275146  \n",
       "2  0.388477  0.239465  0.359421  0.427921  0.327265  0.288816  0.240990  \n",
       "3  0.414035  0.363169  0.422587  0.427921  0.323428  0.358505  0.337531  \n",
       "4  0.427608  0.353855  0.423733  0.427921  0.324652  0.371219  0.340381  \n",
       "\n",
       "[5 rows x 700 columns]"
      ]
     },
     "execution_count": 64,
     "metadata": {},
     "output_type": "execute_result"
    }
   ],
   "source": [
    "# Show normlaized data\n",
    "\n",
    "train = pd.DataFrame(train_data)\n",
    "\n",
    "train.head()"
   ]
  },
  {
   "cell_type": "markdown",
   "metadata": {},
   "source": [
    "## Data analysis"
   ]
  },
  {
   "cell_type": "code",
   "execution_count": 65,
   "metadata": {
    "collapsed": false
   },
   "outputs": [],
   "source": [
    "# Frequency of folds\n",
    "import matplotlib.pyplot as plt\n",
    "\n",
    "fig, ax = plt.subplots()\n",
    "freq_plot = dd_dataset['Fold'].value_counts().plot(ax=ax, kind='bar')\n",
    "freq_plot.set_ylabel('Number of proteins')\n",
    "plt.show()"
   ]
  },
  {
   "cell_type": "markdown",
   "metadata": {},
   "source": [
    "## SVM classifier"
   ]
  },
  {
   "cell_type": "code",
   "execution_count": 66,
   "metadata": {
    "collapsed": true
   },
   "outputs": [],
   "source": [
    "from sklearn.svm import SVC\n",
    "from sklearn.model_selection import GridSearchCV\n",
    "\n",
    "# Hyperparameters\n",
    "kernel = 'rbf'\n",
    "\n",
    "# An instance of SVM classifier\n",
    "svm_cl = SVC(kernel=kernel)"
   ]
  },
  {
   "cell_type": "markdown",
   "metadata": {},
   "source": [
    "Define range of parameters for Grid Search"
   ]
  },
  {
   "cell_type": "code",
   "execution_count": 67,
   "metadata": {
    "collapsed": true
   },
   "outputs": [],
   "source": [
    "# Penalty parameter\n",
    "c_range = {'C': [float(2**i) for i in range(-14, 14)]}\n",
    "# Gamma parameter for RBF kernel\n",
    "gamma_range = {'gamma': [float(2**i) for i in range(-14, 14)]} if kernel == 'rbf' else {}\n",
    "\n",
    "param_range = {**c_range, **gamma_range}\n",
    "\n",
    "# Arguments for grid search\n",
    "cv_fold = 10\n",
    "n_workers = -1 # Number of CPU threads\n",
    "\n",
    "result = GridSearchCV(svm_cl, param_range, cv=cv_fold, n_jobs=n_workers, refit=True,\n",
    "                      verbose=1)"
   ]
  },
  {
   "cell_type": "markdown",
   "metadata": {},
   "source": [
    "Start grid search!"
   ]
  },
  {
   "cell_type": "code",
   "execution_count": 68,
   "metadata": {
    "collapsed": false
   },
   "outputs": [
    {
     "name": "stdout",
     "output_type": "stream",
     "text": [
      "Fitting 10 folds for each of 784 candidates, totalling 7840 fits\n"
     ]
    },
    {
     "name": "stderr",
     "output_type": "stream",
     "text": [
      "[Parallel(n_jobs=-1)]: Done  34 tasks      | elapsed:   36.8s\n",
      "[Parallel(n_jobs=-1)]: Done 184 tasks      | elapsed:  3.0min\n",
      "[Parallel(n_jobs=-1)]: Done 434 tasks      | elapsed:  6.8min\n",
      "[Parallel(n_jobs=-1)]: Done 784 tasks      | elapsed: 11.6min\n",
      "[Parallel(n_jobs=-1)]: Done 1234 tasks      | elapsed: 18.1min\n",
      "[Parallel(n_jobs=-1)]: Done 1784 tasks      | elapsed: 25.4min\n",
      "[Parallel(n_jobs=-1)]: Done 2434 tasks      | elapsed: 34.7min\n",
      "[Parallel(n_jobs=-1)]: Done 3184 tasks      | elapsed: 45.7min\n",
      "[Parallel(n_jobs=-1)]: Done 4034 tasks      | elapsed: 58.3min\n",
      "[Parallel(n_jobs=-1)]: Done 4984 tasks      | elapsed: 72.6min\n",
      "[Parallel(n_jobs=-1)]: Done 6034 tasks      | elapsed: 88.9min\n",
      "[Parallel(n_jobs=-1)]: Done 7184 tasks      | elapsed: 106.4min\n",
      "[Parallel(n_jobs=-1)]: Done 7840 out of 7840 | elapsed: 116.3min finished\n"
     ]
    },
    {
     "data": {
      "text/plain": [
       "GridSearchCV(cv=10, error_score='raise',\n",
       "       estimator=SVC(C=1.0, cache_size=200, class_weight=None, coef0=0.0,\n",
       "  decision_function_shape='ovr', degree=3, gamma='auto', kernel='rbf',\n",
       "  max_iter=-1, probability=False, random_state=None, shrinking=True,\n",
       "  tol=0.001, verbose=False),\n",
       "       fit_params=None, iid=True, n_jobs=-1,\n",
       "       param_grid={'C': [6.103515625e-05, 0.0001220703125, 0.000244140625, 0.00048828125, 0.0009765625, 0.001953125, 0.00390625, 0.0078125, 0.015625, 0.03125, 0.0625, 0.125, 0.25, 0.5, 1.0, 2.0, 4.0, 8.0, 16.0, 32.0, 64.0, 128.0, 256.0, 512.0, 1024.0, 2048.0, 4096.0, 8192.0], 'gamma': [6.103515625e-05, 0.0...25, 0.5, 1.0, 2.0, 4.0, 8.0, 16.0, 32.0, 64.0, 128.0, 256.0, 512.0, 1024.0, 2048.0, 4096.0, 8192.0]},\n",
       "       pre_dispatch='2*n_jobs', refit=True, return_train_score='warn',\n",
       "       scoring=None, verbose=1)"
      ]
     },
     "execution_count": 68,
     "metadata": {},
     "output_type": "execute_result"
    }
   ],
   "source": [
    "result.fit(train_data, y_true)"
   ]
  },
  {
   "cell_type": "code",
   "execution_count": 69,
   "metadata": {
    "collapsed": false
   },
   "outputs": [
    {
     "name": "stdout",
     "output_type": "stream",
     "text": [
      "Best accuracy: 23.99\n"
     ]
    }
   ],
   "source": [
    "print(\"Best accuracy: %.2f\" % (result.best_score_ * 100))"
   ]
  },
  {
   "cell_type": "markdown",
   "metadata": {},
   "source": [
    "Confusion matrix"
   ]
  },
  {
   "cell_type": "markdown",
   "metadata": {},
   "source": [
    "Classification report"
   ]
  },
  {
   "cell_type": "code",
   "execution_count": 70,
   "metadata": {
    "collapsed": false
   },
   "outputs": [
    {
     "name": "stdout",
     "output_type": "stream",
     "text": [
      "Accuracy:  71.98417930125247\n"
     ]
    }
   ],
   "source": [
    "import sys\n",
    "sys.path.insert(0, '../')\n",
    "\n",
    "\n",
    "from misc import plt_confusion_matrix\n",
    "from sklearn.metrics import confusion_matrix, accuracy_score, classification_report\n",
    "import numpy as np\n",
    "\n",
    "y_pred = result.best_estimator_.predict(train_data)\n",
    "\n",
    "cm = confusion_matrix(labels[y_true], labels[y_pred])\n",
    "\n",
    "print(\"Accuracy: \", (accuracy_score(labels[y_true], labels[y_pred]) * 100))\n",
    "\n",
    "plt.figure(figsize=(20, 15))\n",
    "plt_confusion_matrix(cm, np.unique(labels[y_true]))\n",
    "plt.savefig(\"../report/TG_last_26.png\", dpi=256)"
   ]
  },
  {
   "cell_type": "code",
   "execution_count": 71,
   "metadata": {
    "collapsed": false
   },
   "outputs": [
    {
     "name": "stdout",
     "output_type": "stream",
     "text": [
      "                                                                   precision    recall  f1-score   support\n",
      "\n",
      "                           Adeninenucleotideahydrolase-like(c.26)       1.00      0.56      0.72        34\n",
      "Commonfoldofdiphtheriatoxin/transcriptionfactors/cytochromef(b.2)       1.00      0.68      0.81        28\n",
      "                       ConcanavalinA-likelectins/glucanases(b.29)       1.00      0.58      0.73        26\n",
      "                                             Cupredoxin-like(b.6)       1.00      0.80      0.89        30\n",
      "                                              Cystatin-like(d.17)       1.00      0.72      0.84        25\n",
      "                                                 CytochromeC(a.3)       1.00      0.76      0.86        25\n",
      "                               DNA/RNAbinding3-helicalbundle(a.4)       1.00      0.80      0.89       103\n",
      "                                     Double-strandeda-helix(b.82)       1.00      0.62      0.76        34\n",
      "                                            EFhand-likefold(a.39)       1.00      0.64      0.78        25\n",
      "                                    FAD/NAD(P)-bindingdomain(c.3)       1.00      0.35      0.52        31\n",
      "                                            Ferredoxin-like(d.58)       1.00      0.74      0.85       118\n",
      "                                            Flavodoxin-like(c.23)       1.00      0.60      0.75        55\n",
      "                                 Fourhelicalupanddownbundle(a.24)       1.00      0.81      0.89        26\n",
      "                               Galactose-bindingdomain-like(b.18)       1.00      0.68      0.81        25\n",
      "                                    Immunoglobulin-likeb-sandwich       0.95      0.76      0.85       173\n",
      "                                                    Knottins(g.3)       1.00      0.68      0.81        80\n",
      "                          NAD(P)-bindingRossmann-folddomains(c.2)       0.98      0.60      0.74        77\n",
      "                                        Nucleoplasmin-like(b.121)       1.00      0.76      0.86        42\n",
      "                                                    OB-fold(b.40)       1.00      0.71      0.83        78\n",
      "                                    RibonucleaseH-likemotif(c.55)       1.00      0.61      0.76        49\n",
      "                                            Rubredoxin-like(g.41)       1.00      0.75      0.86        28\n",
      "        S-adenosyl-L-methionine-dependentmethyltransferases(c.66)       1.00      0.50      0.67        34\n",
      "                                             SAMdomain-like(a.60)       1.00      0.81      0.89        26\n",
      "                                             SH3-likebarrel(b.34)       1.00      0.81      0.89        42\n",
      "                                               TIMa/b-barrel(c.1)       0.26      1.00      0.41       145\n",
      "                                            Thioredoxinfold(c.47)       1.00      0.78      0.88        32\n",
      "                                             a-asuperhelix(a.118)       1.00      0.55      0.71        47\n",
      "                                             a/b-Hydrolases(c.69)       1.00      0.62      0.77        37\n",
      "                                     b-Grasp,ubiquitin-like(d.15)       1.00      0.69      0.82        42\n",
      "\n",
      "                                                      avg / total       0.92      0.72      0.77      1517\n",
      "\n"
     ]
    }
   ],
   "source": [
    "print(classification_report(labels[y_true], labels[y_pred]))\n",
    "def classification_report_csv(report):\n",
    "    report_data = []\n",
    "    lines = report.split('\\n')\n",
    "    for line in lines[2:-3]:\n",
    "        row = {}\n",
    "        row_data = line.split('      ')\n",
    "        row['class'] = row_data[len(row_data)-5]\n",
    "        row['precision'] = float(row_data[len(row_data)-4])\n",
    "        row['recall'] = float(row_data[len(row_data)-3])\n",
    "        row['f1_score'] = float(row_data[len(row_data)-2])\n",
    "        row['support'] = float(row_data[len(row_data)-1])\n",
    "        report_data.append(row)\n",
    "    dataframe = pd.DataFrame.from_dict(report_data)\n",
    "    dataframe.to_csv('TG_classification_report_26.csv', index = False)\n",
    "    \n",
    "classification_report_csv(classification_report(labels[y_true], labels[y_pred]))"
   ]
  },
  {
   "cell_type": "markdown",
   "metadata": {},
   "source": [
    "# XG Boost"
   ]
  },
  {
   "cell_type": "code",
   "execution_count": 33,
   "metadata": {
    "collapsed": false
   },
   "outputs": [
    {
     "name": "stdout",
     "output_type": "stream",
     "text": [
      "                                precision    recall  f1-score   support\n",
      "\n",
      "                  (TIM)-barrel       1.00      0.83      0.91        29\n",
      "            4-Helicalcytokines       1.00      0.89      0.94         9\n",
      "    4-Helicalup-and-downbundle       1.00      1.00      1.00         7\n",
      "   ConA-likelectins/glucanases       1.00      1.00      1.00         7\n",
      "                   Cupredoxins       1.00      1.00      1.00         9\n",
      "                   CytochromeC       1.00      0.86      0.92         7\n",
      "    DNA-binding3-helicalbundle       1.00      1.00      1.00        12\n",
      "     FAD(alsoNAD)-bindingmotif       0.30      1.00      0.46        11\n",
      "               Ferredoxin-like       1.00      0.85      0.92        13\n",
      "               Flavodoxin-like       1.00      0.91      0.95        11\n",
      "                   Globin-like       1.00      1.00      1.00        13\n",
      "                    Hydrolases       1.00      1.00      1.00        11\n",
      "Immunoglobulin-like¦Â-sandwich       1.00      0.87      0.93        30\n",
      "                    Lipocalins       1.00      1.00      1.00         9\n",
      "   NAD(P)-bindingRossmann-fold       1.00      0.92      0.96        13\n",
      "                       OB-fold       1.00      0.92      0.96        13\n",
      "    P-loopcontainingnucleotide       1.00      0.80      0.89        10\n",
      "Periplasmicbindingprotein-like       1.00      0.91      0.95        11\n",
      "       RibonucleaseH-likemotif       1.00      1.00      1.00        10\n",
      "                SH3-likebarrel       1.00      1.00      1.00         8\n",
      "Smallinhibitors,toxins,lectins       1.00      1.00      1.00        13\n",
      "              Thioredoxin-like       1.00      0.67      0.80         9\n",
      "                       Trefoil       1.00      1.00      1.00         8\n",
      "   Trypsin-likeserineproteases       1.00      0.67      0.80         9\n",
      "    Viralcoatandcapsidproteins       1.00      0.94      0.97        16\n",
      "                     ¦ÁEF-hand       1.00      1.00      1.00         6\n",
      "                      ¦Â-Grasp       1.00      1.00      1.00         7\n",
      "\n",
      "                   avg / total       0.98      0.92      0.93       311\n",
      "\n"
     ]
    }
   ],
   "source": [
    "print(classification_report(labels[y_true], labels[y_pred]))\n",
    "def classification_report_csv(report):\n",
    "    report_data = []\n",
    "    lines = report.split('\\n')\n",
    "    for line in lines[2:-3]:\n",
    "        row = {}\n",
    "        row_data = line.split('      ')\n",
    "        row['class'] = row_data[len(row_data)-5]\n",
    "        row['precision'] = float(row_data[len(row_data)-4])\n",
    "        row['recall'] = float(row_data[len(row_data)-3])\n",
    "        row['f1_score'] = float(row_data[len(row_data)-2])\n",
    "        row['support'] = float(row_data[len(row_data)-1])\n",
    "        report_data.append(row)\n",
    "    dataframe = pd.DataFrame.from_dict(report_data)\n",
    "    dataframe.to_csv('classification_report_rDD_IG_FUSE.csv', index = False)\n",
    "classification_report_csv(classification_report(labels[y_true], labels[y_pred]))    "
   ]
  },
  {
   "cell_type": "code",
   "execution_count": 16,
   "metadata": {
    "collapsed": false
   },
   "outputs": [
    {
     "ename": "SyntaxError",
     "evalue": "invalid syntax (<ipython-input-16-a31eead7f1eb>, line 10)",
     "output_type": "error",
     "traceback": [
      "\u001b[1;36m  File \u001b[1;32m\"<ipython-input-16-a31eead7f1eb>\"\u001b[1;36m, line \u001b[1;32m10\u001b[0m\n\u001b[1;33m    X_train, X_test, y_train, y_test = train_test_split(float(train_data), float(labels), test_size=0.2, random_state=123)\u001b[0m\n\u001b[1;37m          ^\u001b[0m\n\u001b[1;31mSyntaxError\u001b[0m\u001b[1;31m:\u001b[0m invalid syntax\n"
     ]
    }
   ],
   "source": [
    "import xgboost as xgb\n",
    "from sklearn.model_selection import train_test_split\n",
    "from sklearn.metrics import accuracy_score\n",
    "import numpy as np\n",
    "\n",
    "# Create Dmatrix for more performance \n",
    "data_matrix = xgb.DMatrix(data=float(train_data),label=float(labels)\n",
    "\n",
    "# Split data to train and test\n",
    "X_train, X_test, y_train, y_test = train_test_split(float(train_data), float(labels), test_size=0.2, random_state=123)"
   ]
  },
  {
   "cell_type": "code",
   "execution_count": null,
   "metadata": {
    "collapsed": true
   },
   "outputs": [],
   "source": [
    "# Instantitate an XGBosst Classifier\n",
    "xg_clf = xgb.XGBClassifier(objective ='binary:logistic', colsample_bytree = 0.1, learning_rate = 0.1,\n",
    "                max_depth = 10, alpha = 10, n_estimators = 10)\n"
   ]
  },
  {
   "cell_type": "code",
   "execution_count": null,
   "metadata": {
    "collapsed": true
   },
   "outputs": [],
   "source": [
    "# Fit the classifier to the training set\n",
    "xg_clf.fit(X_train,y_train)\n",
    "\n",
    "# Predit test data\n",
    "preds = xg_clf.predict(X_test)\n",
    "\n",
    "# Accuracy\n",
    "accuracy = accuracy_score(y_test, preds)"
   ]
  },
  {
   "cell_type": "code",
   "execution_count": null,
   "metadata": {
    "collapsed": true
   },
   "outputs": [],
   "source": [
    "print(\"Best accuracy: %.2f\" % (accuracy*100))\n"
   ]
  },
  {
   "cell_type": "code",
   "execution_count": null,
   "metadata": {
    "collapsed": true
   },
   "outputs": [],
   "source": []
  }
 ],
 "metadata": {
  "kernelspec": {
   "display_name": "Python [Anaconda3]",
   "language": "python",
   "name": "Python [Anaconda3]"
  },
  "language_info": {
   "codemirror_mode": {
    "name": "ipython",
    "version": 3
   },
   "file_extension": ".py",
   "mimetype": "text/x-python",
   "name": "python",
   "nbconvert_exporter": "python",
   "pygments_lexer": "ipython3",
   "version": "3.5.2"
  }
 },
 "nbformat": 4,
 "nbformat_minor": 2
}
