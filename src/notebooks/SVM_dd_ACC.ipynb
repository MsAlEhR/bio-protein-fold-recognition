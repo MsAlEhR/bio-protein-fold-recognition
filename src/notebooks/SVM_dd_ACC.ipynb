{
 "cells": [
  {
   "cell_type": "markdown",
   "metadata": {},
   "source": [
    "## Training SVM classifier on DD_ACC dataset"
   ]
  },
  {
   "cell_type": "markdown",
   "metadata": {},
   "source": [
    "The first step is to read dataset from CSV file"
   ]
  },
  {
   "cell_type": "code",
   "execution_count": 14,
   "metadata": {},
   "outputs": [],
   "source": [
    "import pandas as pd\n",
    "from sklearn import preprocessing\n",
    "\n",
    "\n",
    "#dd_dataset = pd.read_csv('./dataset/dd_pssm_dataset_improved.csv')\n",
    "# Add separated dimers feature extraction\n",
    "\n",
    "dd_dataset = pd.read_csv('../dataset/RDD/rdd_fusion_acc_dimer_FULL.csv')"
   ]
  },
  {
   "cell_type": "code",
   "execution_count": 15,
   "metadata": {},
   "outputs": [
    {
     "data": {
      "text/html": [
       "<div>\n",
       "<style scoped>\n",
       "    .dataframe tbody tr th:only-of-type {\n",
       "        vertical-align: middle;\n",
       "    }\n",
       "\n",
       "    .dataframe tbody tr th {\n",
       "        vertical-align: top;\n",
       "    }\n",
       "\n",
       "    .dataframe thead th {\n",
       "        text-align: right;\n",
       "    }\n",
       "</style>\n",
       "<table border=\"1\" class=\"dataframe\">\n",
       "  <thead>\n",
       "    <tr style=\"text-align: right;\">\n",
       "      <th></th>\n",
       "      <th>Fold</th>\n",
       "      <th>Protein name</th>\n",
       "      <th>F1</th>\n",
       "      <th>F2</th>\n",
       "      <th>F3</th>\n",
       "      <th>F4</th>\n",
       "      <th>F5</th>\n",
       "      <th>F6</th>\n",
       "      <th>F7</th>\n",
       "      <th>F8</th>\n",
       "      <th>...</th>\n",
       "      <th>F1991</th>\n",
       "      <th>F1992</th>\n",
       "      <th>F1993</th>\n",
       "      <th>F1994</th>\n",
       "      <th>F1995</th>\n",
       "      <th>F1996</th>\n",
       "      <th>F1997</th>\n",
       "      <th>F1998</th>\n",
       "      <th>F1999</th>\n",
       "      <th>F2000</th>\n",
       "    </tr>\n",
       "  </thead>\n",
       "  <tbody>\n",
       "    <tr>\n",
       "      <th>0</th>\n",
       "      <td>Globin-like</td>\n",
       "      <td>3SDHA</td>\n",
       "      <td>0.875325</td>\n",
       "      <td>-9.067278e-03</td>\n",
       "      <td>-0.157973</td>\n",
       "      <td>-0.037824</td>\n",
       "      <td>-0.096289</td>\n",
       "      <td>-0.600570</td>\n",
       "      <td>-0.038737</td>\n",
       "      <td>-0.059022</td>\n",
       "      <td>...</td>\n",
       "      <td>3075.109023</td>\n",
       "      <td>2871.204345</td>\n",
       "      <td>3219.274065</td>\n",
       "      <td>3056.100567</td>\n",
       "      <td>3101.131513</td>\n",
       "      <td>2974.661233</td>\n",
       "      <td>3040.830717</td>\n",
       "      <td>2650.093115</td>\n",
       "      <td>3223.486219</td>\n",
       "      <td>3172.282238</td>\n",
       "    </tr>\n",
       "    <tr>\n",
       "      <th>1</th>\n",
       "      <td>Globin-like</td>\n",
       "      <td>2MGE</td>\n",
       "      <td>-0.882343</td>\n",
       "      <td>4.514141e-28</td>\n",
       "      <td>-0.249065</td>\n",
       "      <td>-0.827283</td>\n",
       "      <td>-0.301414</td>\n",
       "      <td>-0.209287</td>\n",
       "      <td>-0.049740</td>\n",
       "      <td>0.258464</td>\n",
       "      <td>...</td>\n",
       "      <td>4362.316156</td>\n",
       "      <td>4313.697029</td>\n",
       "      <td>4251.050649</td>\n",
       "      <td>4235.633188</td>\n",
       "      <td>4226.389058</td>\n",
       "      <td>4170.756304</td>\n",
       "      <td>4214.447479</td>\n",
       "      <td>3952.237108</td>\n",
       "      <td>4165.023421</td>\n",
       "      <td>4257.360219</td>\n",
       "    </tr>\n",
       "    <tr>\n",
       "      <th>2</th>\n",
       "      <td>Globin-like</td>\n",
       "      <td>2LHB</td>\n",
       "      <td>0.793873</td>\n",
       "      <td>-3.081755e-02</td>\n",
       "      <td>0.064096</td>\n",
       "      <td>-0.278083</td>\n",
       "      <td>0.512932</td>\n",
       "      <td>-0.041347</td>\n",
       "      <td>0.165949</td>\n",
       "      <td>1.575439</td>\n",
       "      <td>...</td>\n",
       "      <td>2112.385669</td>\n",
       "      <td>2063.294601</td>\n",
       "      <td>2061.929604</td>\n",
       "      <td>1917.702814</td>\n",
       "      <td>2127.745072</td>\n",
       "      <td>1567.890326</td>\n",
       "      <td>1894.384633</td>\n",
       "      <td>1827.666616</td>\n",
       "      <td>2274.833084</td>\n",
       "      <td>2168.754399</td>\n",
       "    </tr>\n",
       "    <tr>\n",
       "      <th>3</th>\n",
       "      <td>Globin-like</td>\n",
       "      <td>2HBG</td>\n",
       "      <td>0.494363</td>\n",
       "      <td>-2.093698e-03</td>\n",
       "      <td>-0.143159</td>\n",
       "      <td>-0.102345</td>\n",
       "      <td>-0.048332</td>\n",
       "      <td>-0.504646</td>\n",
       "      <td>0.173782</td>\n",
       "      <td>-0.166912</td>\n",
       "      <td>...</td>\n",
       "      <td>787.263838</td>\n",
       "      <td>822.509253</td>\n",
       "      <td>822.743843</td>\n",
       "      <td>802.848198</td>\n",
       "      <td>838.074582</td>\n",
       "      <td>677.062166</td>\n",
       "      <td>830.082758</td>\n",
       "      <td>685.053990</td>\n",
       "      <td>838.074582</td>\n",
       "      <td>809.509371</td>\n",
       "    </tr>\n",
       "    <tr>\n",
       "      <th>4</th>\n",
       "      <td>Globin-like</td>\n",
       "      <td>2GDM</td>\n",
       "      <td>0.244576</td>\n",
       "      <td>1.036405e-28</td>\n",
       "      <td>0.098618</td>\n",
       "      <td>0.247916</td>\n",
       "      <td>0.186200</td>\n",
       "      <td>-0.115422</td>\n",
       "      <td>-0.049198</td>\n",
       "      <td>0.343130</td>\n",
       "      <td>...</td>\n",
       "      <td>1092.390232</td>\n",
       "      <td>952.415565</td>\n",
       "      <td>1014.695414</td>\n",
       "      <td>1036.893139</td>\n",
       "      <td>1092.390232</td>\n",
       "      <td>908.100742</td>\n",
       "      <td>935.830147</td>\n",
       "      <td>800.441628</td>\n",
       "      <td>1056.316843</td>\n",
       "      <td>1072.966527</td>\n",
       "    </tr>\n",
       "  </tbody>\n",
       "</table>\n",
       "<p>5 rows × 2002 columns</p>\n",
       "</div>"
      ],
      "text/plain": [
       "          Fold Protein name        F1            F2        F3        F4  \\\n",
       "0  Globin-like        3SDHA  0.875325 -9.067278e-03 -0.157973 -0.037824   \n",
       "1  Globin-like         2MGE -0.882343  4.514141e-28 -0.249065 -0.827283   \n",
       "2  Globin-like         2LHB  0.793873 -3.081755e-02  0.064096 -0.278083   \n",
       "3  Globin-like         2HBG  0.494363 -2.093698e-03 -0.143159 -0.102345   \n",
       "4  Globin-like         2GDM  0.244576  1.036405e-28  0.098618  0.247916   \n",
       "\n",
       "         F5        F6        F7        F8     ...             F1991  \\\n",
       "0 -0.096289 -0.600570 -0.038737 -0.059022     ...       3075.109023   \n",
       "1 -0.301414 -0.209287 -0.049740  0.258464     ...       4362.316156   \n",
       "2  0.512932 -0.041347  0.165949  1.575439     ...       2112.385669   \n",
       "3 -0.048332 -0.504646  0.173782 -0.166912     ...        787.263838   \n",
       "4  0.186200 -0.115422 -0.049198  0.343130     ...       1092.390232   \n",
       "\n",
       "         F1992        F1993        F1994        F1995        F1996  \\\n",
       "0  2871.204345  3219.274065  3056.100567  3101.131513  2974.661233   \n",
       "1  4313.697029  4251.050649  4235.633188  4226.389058  4170.756304   \n",
       "2  2063.294601  2061.929604  1917.702814  2127.745072  1567.890326   \n",
       "3   822.509253   822.743843   802.848198   838.074582   677.062166   \n",
       "4   952.415565  1014.695414  1036.893139  1092.390232   908.100742   \n",
       "\n",
       "         F1997        F1998        F1999        F2000  \n",
       "0  3040.830717  2650.093115  3223.486219  3172.282238  \n",
       "1  4214.447479  3952.237108  4165.023421  4257.360219  \n",
       "2  1894.384633  1827.666616  2274.833084  2168.754399  \n",
       "3   830.082758   685.053990   838.074582   809.509371  \n",
       "4   935.830147   800.441628  1056.316843  1072.966527  \n",
       "\n",
       "[5 rows x 2002 columns]"
      ]
     },
     "execution_count": 15,
     "metadata": {},
     "output_type": "execute_result"
    }
   ],
   "source": [
    "dd_dataset.head()"
   ]
  },
  {
   "cell_type": "markdown",
   "metadata": {},
   "source": [
    "Convert class lables to unique integers"
   ]
  },
  {
   "cell_type": "code",
   "execution_count": 16,
   "metadata": {},
   "outputs": [],
   "source": [
    "# Encode class labels\n",
    "#from sklearn.preprocessing import LabelEncoder\n",
    "\n",
    "y_true, labels = pd.factorize(dd_dataset.Fold)\n",
    "dd_dataset.insert(1, 'class labels', y_true)"
   ]
  },
  {
   "cell_type": "code",
   "execution_count": 17,
   "metadata": {},
   "outputs": [
    {
     "data": {
      "text/html": [
       "<div>\n",
       "<style scoped>\n",
       "    .dataframe tbody tr th:only-of-type {\n",
       "        vertical-align: middle;\n",
       "    }\n",
       "\n",
       "    .dataframe tbody tr th {\n",
       "        vertical-align: top;\n",
       "    }\n",
       "\n",
       "    .dataframe thead th {\n",
       "        text-align: right;\n",
       "    }\n",
       "</style>\n",
       "<table border=\"1\" class=\"dataframe\">\n",
       "  <thead>\n",
       "    <tr style=\"text-align: right;\">\n",
       "      <th></th>\n",
       "      <th>Fold</th>\n",
       "      <th>class labels</th>\n",
       "      <th>Protein name</th>\n",
       "      <th>F1</th>\n",
       "      <th>F2</th>\n",
       "      <th>F3</th>\n",
       "      <th>F4</th>\n",
       "      <th>F5</th>\n",
       "      <th>F6</th>\n",
       "      <th>F7</th>\n",
       "      <th>...</th>\n",
       "      <th>F1991</th>\n",
       "      <th>F1992</th>\n",
       "      <th>F1993</th>\n",
       "      <th>F1994</th>\n",
       "      <th>F1995</th>\n",
       "      <th>F1996</th>\n",
       "      <th>F1997</th>\n",
       "      <th>F1998</th>\n",
       "      <th>F1999</th>\n",
       "      <th>F2000</th>\n",
       "    </tr>\n",
       "  </thead>\n",
       "  <tbody>\n",
       "    <tr>\n",
       "      <th>0</th>\n",
       "      <td>Globin-like</td>\n",
       "      <td>0</td>\n",
       "      <td>3SDHA</td>\n",
       "      <td>0.875325</td>\n",
       "      <td>-9.067278e-03</td>\n",
       "      <td>-0.157973</td>\n",
       "      <td>-0.037824</td>\n",
       "      <td>-0.096289</td>\n",
       "      <td>-0.600570</td>\n",
       "      <td>-0.038737</td>\n",
       "      <td>...</td>\n",
       "      <td>3075.109023</td>\n",
       "      <td>2871.204345</td>\n",
       "      <td>3219.274065</td>\n",
       "      <td>3056.100567</td>\n",
       "      <td>3101.131513</td>\n",
       "      <td>2974.661233</td>\n",
       "      <td>3040.830717</td>\n",
       "      <td>2650.093115</td>\n",
       "      <td>3223.486219</td>\n",
       "      <td>3172.282238</td>\n",
       "    </tr>\n",
       "    <tr>\n",
       "      <th>1</th>\n",
       "      <td>Globin-like</td>\n",
       "      <td>0</td>\n",
       "      <td>2MGE</td>\n",
       "      <td>-0.882343</td>\n",
       "      <td>4.514141e-28</td>\n",
       "      <td>-0.249065</td>\n",
       "      <td>-0.827283</td>\n",
       "      <td>-0.301414</td>\n",
       "      <td>-0.209287</td>\n",
       "      <td>-0.049740</td>\n",
       "      <td>...</td>\n",
       "      <td>4362.316156</td>\n",
       "      <td>4313.697029</td>\n",
       "      <td>4251.050649</td>\n",
       "      <td>4235.633188</td>\n",
       "      <td>4226.389058</td>\n",
       "      <td>4170.756304</td>\n",
       "      <td>4214.447479</td>\n",
       "      <td>3952.237108</td>\n",
       "      <td>4165.023421</td>\n",
       "      <td>4257.360219</td>\n",
       "    </tr>\n",
       "    <tr>\n",
       "      <th>2</th>\n",
       "      <td>Globin-like</td>\n",
       "      <td>0</td>\n",
       "      <td>2LHB</td>\n",
       "      <td>0.793873</td>\n",
       "      <td>-3.081755e-02</td>\n",
       "      <td>0.064096</td>\n",
       "      <td>-0.278083</td>\n",
       "      <td>0.512932</td>\n",
       "      <td>-0.041347</td>\n",
       "      <td>0.165949</td>\n",
       "      <td>...</td>\n",
       "      <td>2112.385669</td>\n",
       "      <td>2063.294601</td>\n",
       "      <td>2061.929604</td>\n",
       "      <td>1917.702814</td>\n",
       "      <td>2127.745072</td>\n",
       "      <td>1567.890326</td>\n",
       "      <td>1894.384633</td>\n",
       "      <td>1827.666616</td>\n",
       "      <td>2274.833084</td>\n",
       "      <td>2168.754399</td>\n",
       "    </tr>\n",
       "    <tr>\n",
       "      <th>3</th>\n",
       "      <td>Globin-like</td>\n",
       "      <td>0</td>\n",
       "      <td>2HBG</td>\n",
       "      <td>0.494363</td>\n",
       "      <td>-2.093698e-03</td>\n",
       "      <td>-0.143159</td>\n",
       "      <td>-0.102345</td>\n",
       "      <td>-0.048332</td>\n",
       "      <td>-0.504646</td>\n",
       "      <td>0.173782</td>\n",
       "      <td>...</td>\n",
       "      <td>787.263838</td>\n",
       "      <td>822.509253</td>\n",
       "      <td>822.743843</td>\n",
       "      <td>802.848198</td>\n",
       "      <td>838.074582</td>\n",
       "      <td>677.062166</td>\n",
       "      <td>830.082758</td>\n",
       "      <td>685.053990</td>\n",
       "      <td>838.074582</td>\n",
       "      <td>809.509371</td>\n",
       "    </tr>\n",
       "    <tr>\n",
       "      <th>4</th>\n",
       "      <td>Globin-like</td>\n",
       "      <td>0</td>\n",
       "      <td>2GDM</td>\n",
       "      <td>0.244576</td>\n",
       "      <td>1.036405e-28</td>\n",
       "      <td>0.098618</td>\n",
       "      <td>0.247916</td>\n",
       "      <td>0.186200</td>\n",
       "      <td>-0.115422</td>\n",
       "      <td>-0.049198</td>\n",
       "      <td>...</td>\n",
       "      <td>1092.390232</td>\n",
       "      <td>952.415565</td>\n",
       "      <td>1014.695414</td>\n",
       "      <td>1036.893139</td>\n",
       "      <td>1092.390232</td>\n",
       "      <td>908.100742</td>\n",
       "      <td>935.830147</td>\n",
       "      <td>800.441628</td>\n",
       "      <td>1056.316843</td>\n",
       "      <td>1072.966527</td>\n",
       "    </tr>\n",
       "  </tbody>\n",
       "</table>\n",
       "<p>5 rows × 2003 columns</p>\n",
       "</div>"
      ],
      "text/plain": [
       "          Fold  class labels Protein name        F1            F2        F3  \\\n",
       "0  Globin-like             0        3SDHA  0.875325 -9.067278e-03 -0.157973   \n",
       "1  Globin-like             0         2MGE -0.882343  4.514141e-28 -0.249065   \n",
       "2  Globin-like             0         2LHB  0.793873 -3.081755e-02  0.064096   \n",
       "3  Globin-like             0         2HBG  0.494363 -2.093698e-03 -0.143159   \n",
       "4  Globin-like             0         2GDM  0.244576  1.036405e-28  0.098618   \n",
       "\n",
       "         F4        F5        F6        F7     ...             F1991  \\\n",
       "0 -0.037824 -0.096289 -0.600570 -0.038737     ...       3075.109023   \n",
       "1 -0.827283 -0.301414 -0.209287 -0.049740     ...       4362.316156   \n",
       "2 -0.278083  0.512932 -0.041347  0.165949     ...       2112.385669   \n",
       "3 -0.102345 -0.048332 -0.504646  0.173782     ...        787.263838   \n",
       "4  0.247916  0.186200 -0.115422 -0.049198     ...       1092.390232   \n",
       "\n",
       "         F1992        F1993        F1994        F1995        F1996  \\\n",
       "0  2871.204345  3219.274065  3056.100567  3101.131513  2974.661233   \n",
       "1  4313.697029  4251.050649  4235.633188  4226.389058  4170.756304   \n",
       "2  2063.294601  2061.929604  1917.702814  2127.745072  1567.890326   \n",
       "3   822.509253   822.743843   802.848198   838.074582   677.062166   \n",
       "4   952.415565  1014.695414  1036.893139  1092.390232   908.100742   \n",
       "\n",
       "         F1997        F1998        F1999        F2000  \n",
       "0  3040.830717  2650.093115  3223.486219  3172.282238  \n",
       "1  4214.447479  3952.237108  4165.023421  4257.360219  \n",
       "2  1894.384633  1827.666616  2274.833084  2168.754399  \n",
       "3   830.082758   685.053990   838.074582   809.509371  \n",
       "4   935.830147   800.441628  1056.316843  1072.966527  \n",
       "\n",
       "[5 rows x 2003 columns]"
      ]
     },
     "execution_count": 17,
     "metadata": {},
     "output_type": "execute_result"
    }
   ],
   "source": [
    "dd_dataset.head()"
   ]
  },
  {
   "cell_type": "markdown",
   "metadata": {},
   "source": [
    "Create a training set from pandas data frame"
   ]
  },
  {
   "cell_type": "code",
   "execution_count": 18,
   "metadata": {},
   "outputs": [
    {
     "name": "stdout",
     "output_type": "stream",
     "text": [
      "Number of samples: 311, Number of features: 2000\n"
     ]
    }
   ],
   "source": [
    "train_data = dd_dataset.iloc[:,3:].values\n",
    "\n",
    "# Normalize dataset\n",
    "min_max_scaler = preprocessing.MinMaxScaler()\n",
    "train_scaled = min_max_scaler.fit_transform(train_data)\n",
    "train_data = train_scaled\n",
    "\n",
    "print(\"Number of samples: %d, Number of features: %d\" % (train_data.shape[0], train_data.shape[1]))"
   ]
  },
  {
   "cell_type": "code",
   "execution_count": 19,
   "metadata": {},
   "outputs": [
    {
     "data": {
      "text/html": [
       "<div>\n",
       "<style scoped>\n",
       "    .dataframe tbody tr th:only-of-type {\n",
       "        vertical-align: middle;\n",
       "    }\n",
       "\n",
       "    .dataframe tbody tr th {\n",
       "        vertical-align: top;\n",
       "    }\n",
       "\n",
       "    .dataframe thead th {\n",
       "        text-align: right;\n",
       "    }\n",
       "</style>\n",
       "<table border=\"1\" class=\"dataframe\">\n",
       "  <thead>\n",
       "    <tr style=\"text-align: right;\">\n",
       "      <th></th>\n",
       "      <th>0</th>\n",
       "      <th>1</th>\n",
       "      <th>2</th>\n",
       "      <th>3</th>\n",
       "      <th>4</th>\n",
       "      <th>5</th>\n",
       "      <th>6</th>\n",
       "      <th>7</th>\n",
       "      <th>8</th>\n",
       "      <th>9</th>\n",
       "      <th>...</th>\n",
       "      <th>1990</th>\n",
       "      <th>1991</th>\n",
       "      <th>1992</th>\n",
       "      <th>1993</th>\n",
       "      <th>1994</th>\n",
       "      <th>1995</th>\n",
       "      <th>1996</th>\n",
       "      <th>1997</th>\n",
       "      <th>1998</th>\n",
       "      <th>1999</th>\n",
       "    </tr>\n",
       "  </thead>\n",
       "  <tbody>\n",
       "    <tr>\n",
       "      <th>0</th>\n",
       "      <td>0.638146</td>\n",
       "      <td>0.798008</td>\n",
       "      <td>0.290521</td>\n",
       "      <td>0.350786</td>\n",
       "      <td>0.450703</td>\n",
       "      <td>0.336817</td>\n",
       "      <td>0.268868</td>\n",
       "      <td>0.462568</td>\n",
       "      <td>0.678321</td>\n",
       "      <td>0.197787</td>\n",
       "      <td>...</td>\n",
       "      <td>0.199057</td>\n",
       "      <td>0.214074</td>\n",
       "      <td>0.233588</td>\n",
       "      <td>0.208871</td>\n",
       "      <td>0.207091</td>\n",
       "      <td>0.201086</td>\n",
       "      <td>0.226979</td>\n",
       "      <td>0.186932</td>\n",
       "      <td>0.208875</td>\n",
       "      <td>0.214551</td>\n",
       "    </tr>\n",
       "    <tr>\n",
       "      <th>1</th>\n",
       "      <td>0.237390</td>\n",
       "      <td>0.800823</td>\n",
       "      <td>0.266661</td>\n",
       "      <td>0.251847</td>\n",
       "      <td>0.338860</td>\n",
       "      <td>0.430979</td>\n",
       "      <td>0.264445</td>\n",
       "      <td>0.537161</td>\n",
       "      <td>0.556169</td>\n",
       "      <td>0.092102</td>\n",
       "      <td>...</td>\n",
       "      <td>0.282380</td>\n",
       "      <td>0.321624</td>\n",
       "      <td>0.308453</td>\n",
       "      <td>0.289487</td>\n",
       "      <td>0.282235</td>\n",
       "      <td>0.281941</td>\n",
       "      <td>0.314582</td>\n",
       "      <td>0.278782</td>\n",
       "      <td>0.269884</td>\n",
       "      <td>0.287938</td>\n",
       "    </tr>\n",
       "    <tr>\n",
       "      <th>2</th>\n",
       "      <td>0.619575</td>\n",
       "      <td>0.791257</td>\n",
       "      <td>0.348690</td>\n",
       "      <td>0.320676</td>\n",
       "      <td>0.782876</td>\n",
       "      <td>0.471393</td>\n",
       "      <td>0.351156</td>\n",
       "      <td>0.846582</td>\n",
       "      <td>0.512293</td>\n",
       "      <td>0.404133</td>\n",
       "      <td>...</td>\n",
       "      <td>0.136738</td>\n",
       "      <td>0.153837</td>\n",
       "      <td>0.149612</td>\n",
       "      <td>0.131067</td>\n",
       "      <td>0.142089</td>\n",
       "      <td>0.105989</td>\n",
       "      <td>0.141404</td>\n",
       "      <td>0.128920</td>\n",
       "      <td>0.147404</td>\n",
       "      <td>0.146679</td>\n",
       "    </tr>\n",
       "    <tr>\n",
       "      <th>3</th>\n",
       "      <td>0.551286</td>\n",
       "      <td>0.800173</td>\n",
       "      <td>0.294402</td>\n",
       "      <td>0.342700</td>\n",
       "      <td>0.476851</td>\n",
       "      <td>0.359901</td>\n",
       "      <td>0.354305</td>\n",
       "      <td>0.437219</td>\n",
       "      <td>0.446061</td>\n",
       "      <td>0.401031</td>\n",
       "      <td>...</td>\n",
       "      <td>0.050961</td>\n",
       "      <td>0.061325</td>\n",
       "      <td>0.059698</td>\n",
       "      <td>0.054871</td>\n",
       "      <td>0.055966</td>\n",
       "      <td>0.045769</td>\n",
       "      <td>0.061960</td>\n",
       "      <td>0.048322</td>\n",
       "      <td>0.054305</td>\n",
       "      <td>0.054750</td>\n",
       "    </tr>\n",
       "    <tr>\n",
       "      <th>4</th>\n",
       "      <td>0.494333</td>\n",
       "      <td>0.800823</td>\n",
       "      <td>0.357733</td>\n",
       "      <td>0.386597</td>\n",
       "      <td>0.604728</td>\n",
       "      <td>0.453567</td>\n",
       "      <td>0.264663</td>\n",
       "      <td>0.557053</td>\n",
       "      <td>0.432220</td>\n",
       "      <td>0.293011</td>\n",
       "      <td>...</td>\n",
       "      <td>0.070712</td>\n",
       "      <td>0.071011</td>\n",
       "      <td>0.073626</td>\n",
       "      <td>0.070867</td>\n",
       "      <td>0.072949</td>\n",
       "      <td>0.061387</td>\n",
       "      <td>0.069854</td>\n",
       "      <td>0.056461</td>\n",
       "      <td>0.068447</td>\n",
       "      <td>0.072568</td>\n",
       "    </tr>\n",
       "  </tbody>\n",
       "</table>\n",
       "<p>5 rows × 2000 columns</p>\n",
       "</div>"
      ],
      "text/plain": [
       "       0         1         2         3         4         5         6     \\\n",
       "0  0.638146  0.798008  0.290521  0.350786  0.450703  0.336817  0.268868   \n",
       "1  0.237390  0.800823  0.266661  0.251847  0.338860  0.430979  0.264445   \n",
       "2  0.619575  0.791257  0.348690  0.320676  0.782876  0.471393  0.351156   \n",
       "3  0.551286  0.800173  0.294402  0.342700  0.476851  0.359901  0.354305   \n",
       "4  0.494333  0.800823  0.357733  0.386597  0.604728  0.453567  0.264663   \n",
       "\n",
       "       7         8         9       ...         1990      1991      1992  \\\n",
       "0  0.462568  0.678321  0.197787    ...     0.199057  0.214074  0.233588   \n",
       "1  0.537161  0.556169  0.092102    ...     0.282380  0.321624  0.308453   \n",
       "2  0.846582  0.512293  0.404133    ...     0.136738  0.153837  0.149612   \n",
       "3  0.437219  0.446061  0.401031    ...     0.050961  0.061325  0.059698   \n",
       "4  0.557053  0.432220  0.293011    ...     0.070712  0.071011  0.073626   \n",
       "\n",
       "       1993      1994      1995      1996      1997      1998      1999  \n",
       "0  0.208871  0.207091  0.201086  0.226979  0.186932  0.208875  0.214551  \n",
       "1  0.289487  0.282235  0.281941  0.314582  0.278782  0.269884  0.287938  \n",
       "2  0.131067  0.142089  0.105989  0.141404  0.128920  0.147404  0.146679  \n",
       "3  0.054871  0.055966  0.045769  0.061960  0.048322  0.054305  0.054750  \n",
       "4  0.070867  0.072949  0.061387  0.069854  0.056461  0.068447  0.072568  \n",
       "\n",
       "[5 rows x 2000 columns]"
      ]
     },
     "execution_count": 19,
     "metadata": {},
     "output_type": "execute_result"
    }
   ],
   "source": [
    "# Show normlaized data\n",
    "\n",
    "train = pd.DataFrame(train_data)\n",
    "\n",
    "train.head()"
   ]
  },
  {
   "cell_type": "markdown",
   "metadata": {},
   "source": [
    "## Data analysis"
   ]
  },
  {
   "cell_type": "code",
   "execution_count": 20,
   "metadata": {},
   "outputs": [
    {
     "data": {
      "image/png": "[encoded data removed]",
      "text/plain": [
       "<Figure size 432x288 with 1 Axes>"
      ]
     },
     "metadata": {
      "needs_background": "light"
     },
     "output_type": "display_data"
    }
   ],
   "source": [
    "# Frequency of folds\n",
    "import matplotlib.pyplot as plt\n",
    "\n",
    "fig, ax = plt.subplots()\n",
    "freq_plot = dd_dataset['Fold'].value_counts().plot(ax=ax, kind='bar')\n",
    "freq_plot.set_ylabel('Number of proteins')\n",
    "plt.show()"
   ]
  },
  {
   "cell_type": "markdown",
   "metadata": {},
   "source": [
    "## SVM classifier"
   ]
  },
  {
   "cell_type": "code",
   "execution_count": 21,
   "metadata": {},
   "outputs": [],
   "source": [
    "from sklearn.svm import SVC\n",
    "from sklearn.model_selection import GridSearchCV\n",
    "\n",
    "# Hyperparameters\n",
    "kernel = 'rbf'\n",
    "\n",
    "# An instance of SVM classifier\n",
    "svm_cl = SVC(kernel=kernel)"
   ]
  },
  {
   "cell_type": "markdown",
   "metadata": {},
   "source": [
    "Define range of parameters for Grid Search"
   ]
  },
  {
   "cell_type": "code",
   "execution_count": 22,
   "metadata": {},
   "outputs": [],
   "source": [
    "# Penalty parameter\n",
    "c_range = {'C': [float(2**i) for i in range(-14, 14)]}\n",
    "# Gamma parameter for RBF kernel\n",
    "gamma_range = {'gamma': [float(2**i) for i in range(-14, 14)]} if kernel == 'rbf' else {}\n",
    "\n",
    "param_range = {**c_range, **gamma_range}\n",
    "\n",
    "# Arguments for grid search\n",
    "cv_fold = 10\n",
    "n_workers = -1 # Number of CPU threads\n",
    "\n",
    "result = GridSearchCV(svm_cl, param_range, cv=cv_fold, n_jobs=n_workers, refit=True,\n",
    "                      verbose=1)"
   ]
  },
  {
   "cell_type": "markdown",
   "metadata": {},
   "source": [
    "Start grid search!"
   ]
  },
  {
   "cell_type": "code",
   "execution_count": 23,
   "metadata": {},
   "outputs": [
    {
     "name": "stdout",
     "output_type": "stream",
     "text": [
      "Fitting 10 folds for each of 784 candidates, totalling 7840 fits\n"
     ]
    },
    {
     "name": "stderr",
     "output_type": "stream",
     "text": [
      "C:\\ProgramData\\Anaconda3\\lib\\site-packages\\sklearn\\model_selection\\_split.py:605: Warning: The least populated class in y has only 6 members, which is too few. The minimum number of members in any class cannot be less than n_splits=10.\n",
      "  % (min_groups, self.n_splits)), Warning)\n",
      "[Parallel(n_jobs=-1)]: Done  42 tasks      | elapsed:   11.6s\n",
      "[Parallel(n_jobs=-1)]: Done 192 tasks      | elapsed:   34.8s\n",
      "[Parallel(n_jobs=-1)]: Done 442 tasks      | elapsed:  1.2min\n",
      "[Parallel(n_jobs=-1)]: Done 792 tasks      | elapsed:  2.1min\n",
      "[Parallel(n_jobs=-1)]: Done 1242 tasks      | elapsed:  3.3min\n",
      "[Parallel(n_jobs=-1)]: Done 1792 tasks      | elapsed:  4.8min\n",
      "[Parallel(n_jobs=-1)]: Done 2442 tasks      | elapsed:  6.6min\n",
      "[Parallel(n_jobs=-1)]: Done 3192 tasks      | elapsed:  8.8min\n",
      "[Parallel(n_jobs=-1)]: Done 4042 tasks      | elapsed: 11.3min\n",
      "[Parallel(n_jobs=-1)]: Done 4992 tasks      | elapsed: 14.1min\n",
      "[Parallel(n_jobs=-1)]: Done 6042 tasks      | elapsed: 17.1min\n",
      "[Parallel(n_jobs=-1)]: Done 7192 tasks      | elapsed: 20.5min\n",
      "[Parallel(n_jobs=-1)]: Done 7840 out of 7840 | elapsed: 22.4min finished\n"
     ]
    },
    {
     "data": {
      "text/plain": [
       "GridSearchCV(cv=10, error_score='raise',\n",
       "       estimator=SVC(C=1.0, cache_size=200, class_weight=None, coef0=0.0,\n",
       "  decision_function_shape='ovr', degree=3, gamma='auto', kernel='rbf',\n",
       "  max_iter=-1, probability=False, random_state=None, shrinking=True,\n",
       "  tol=0.001, verbose=False),\n",
       "       fit_params=None, iid=True, n_jobs=-1,\n",
       "       param_grid={'C': [6.103515625e-05, 0.0001220703125, 0.000244140625, 0.00048828125, 0.0009765625, 0.001953125, 0.00390625, 0.0078125, 0.015625, 0.03125, 0.0625, 0.125, 0.25, 0.5, 1.0, 2.0, 4.0, 8.0, 16.0, 32.0, 64.0, 128.0, 256.0, 512.0, 1024.0, 2048.0, 4096.0, 8192.0], 'gamma': [6.103515625e-05, 0.0...25, 0.5, 1.0, 2.0, 4.0, 8.0, 16.0, 32.0, 64.0, 128.0, 256.0, 512.0, 1024.0, 2048.0, 4096.0, 8192.0]},\n",
       "       pre_dispatch='2*n_jobs', refit=True, return_train_score='warn',\n",
       "       scoring=None, verbose=1)"
      ]
     },
     "execution_count": 23,
     "metadata": {},
     "output_type": "execute_result"
    }
   ],
   "source": [
    "result.fit(train_data, y_true)"
   ]
  },
  {
   "cell_type": "code",
   "execution_count": 11,
   "metadata": {},
   "outputs": [
    {
     "name": "stdout",
     "output_type": "stream",
     "text": [
      "Best accuracy: 21.54\n"
     ]
    }
   ],
   "source": [
    "print(\"Best accuracy: %.2f\" % (result.best_score_ * 100))"
   ]
  },
  {
   "cell_type": "markdown",
   "metadata": {},
   "source": [
    "Confusion matrix"
   ]
  },
  {
   "cell_type": "code",
   "execution_count": 12,
   "metadata": {},
   "outputs": [
    {
     "name": "stdout",
     "output_type": "stream",
     "text": [
      "Accuracy:  83.60128617363344\n"
     ]
    },
    {
     "data": {
      "image/png": "[encoded data removed]",
      "text/plain": [
       "<Figure size 1440x1080 with 2 Axes>"
      ]
     },
     "metadata": {
      "needs_background": "light"
     },
     "output_type": "display_data"
    }
   ],
   "source": [
    "import sys\n",
    "sys.path.insert(0, '../')\n",
    "\n",
    "\n",
    "from misc import plt_confusion_matrix\n",
    "from sklearn.metrics import confusion_matrix, accuracy_score, classification_report\n",
    "import numpy as np\n",
    "\n",
    "y_pred = result.best_estimator_.predict(train_data)\n",
    "\n",
    "cm = confusion_matrix(labels[y_true], labels[y_pred])\n",
    "\n",
    "print(\"Accuracy: \", (accuracy_score(labels[y_true], labels[y_pred]) * 100))\n",
    "\n",
    "plt.figure(figsize=(20, 15))\n",
    "plt_confusion_matrix(cm, np.unique(labels[y_true]))\n",
    "plt.savefig(\"../report/DD_IG_ACC_confusion_matrix.png\", dpi=256)"
   ]
  },
  {
   "cell_type": "markdown",
   "metadata": {},
   "source": [
    "Classification report"
   ]
  },
  {
   "cell_type": "code",
   "execution_count": 13,
   "metadata": {},
   "outputs": [
    {
     "name": "stdout",
     "output_type": "stream",
     "text": [
      "                                precision    recall  f1-score   support\n",
      "\n",
      "                  (TIM)-barrel       0.36      1.00      0.53        29\n",
      "            4-Helicalcytokines       1.00      0.78      0.88         9\n",
      "    4-Helicalup-and-downbundle       1.00      0.86      0.92         7\n",
      "   ConA-likelectins/glucanases       1.00      1.00      1.00         7\n",
      "                   Cupredoxins       1.00      0.89      0.94         9\n",
      "                   CytochromeC       1.00      0.86      0.92         7\n",
      "    DNA-binding3-helicalbundle       1.00      0.83      0.91        12\n",
      "     FAD(alsoNAD)-bindingmotif       1.00      0.27      0.43        11\n",
      "               Ferredoxin-like       1.00      0.85      0.92        13\n",
      "               Flavodoxin-like       1.00      0.73      0.84        11\n",
      "                   Globin-like       1.00      0.92      0.96        13\n",
      "                    Hydrolases       1.00      0.73      0.84        11\n",
      "Immunoglobulin-like¦Â-sandwich       1.00      0.80      0.89        30\n",
      "                    Lipocalins       1.00      0.89      0.94         9\n",
      "   NAD(P)-bindingRossmann-fold       1.00      0.92      0.96        13\n",
      "                       OB-fold       1.00      0.85      0.92        13\n",
      "    P-loopcontainingnucleotide       1.00      0.70      0.82        10\n",
      "Periplasmicbindingprotein-like       1.00      0.91      0.95        11\n",
      "       RibonucleaseH-likemotif       1.00      0.90      0.95        10\n",
      "                SH3-likebarrel       1.00      0.88      0.93         8\n",
      "Smallinhibitors,toxins,lectins       1.00      1.00      1.00        13\n",
      "              Thioredoxin-like       1.00      0.67      0.80         9\n",
      "                       Trefoil       1.00      0.88      0.93         8\n",
      "   Trypsin-likeserineproteases       1.00      0.67      0.80         9\n",
      "    Viralcoatandcapsidproteins       1.00      0.81      0.90        16\n",
      "                     ¦ÁEF-hand       1.00      0.83      0.91         6\n",
      "                      ¦Â-Grasp       1.00      1.00      1.00         7\n",
      "\n",
      "                   avg / total       0.94      0.84      0.86       311\n",
      "\n"
     ]
    }
   ],
   "source": [
    "print(classification_report(labels[y_true], labels[y_pred]))"
   ]
  },
  {
   "cell_type": "markdown",
   "metadata": {},
   "source": [
    "# XG Boost"
   ]
  },
  {
   "cell_type": "code",
   "execution_count": 14,
   "metadata": {},
   "outputs": [
    {
     "ename": "SyntaxError",
     "evalue": "invalid syntax (<ipython-input-14-a31eead7f1eb>, line 10)",
     "output_type": "error",
     "traceback": [
      "\u001b[1;36m  File \u001b[1;32m\"<ipython-input-14-a31eead7f1eb>\"\u001b[1;36m, line \u001b[1;32m10\u001b[0m\n\u001b[1;33m    X_train, X_test, y_train, y_test = train_test_split(float(train_data), float(labels), test_size=0.2, random_state=123)\u001b[0m\n\u001b[1;37m          ^\u001b[0m\n\u001b[1;31mSyntaxError\u001b[0m\u001b[1;31m:\u001b[0m invalid syntax\n"
     ]
    }
   ],
   "source": [
    "import xgboost as xgb\n",
    "from sklearn.model_selection import train_test_split\n",
    "from sklearn.metrics import accuracy_score\n",
    "import numpy as np\n",
    "\n",
    "# Create Dmatrix for more performance \n",
    "data_matrix = xgb.DMatrix(data=float(train_data),label=float(labels)\n",
    "\n",
    "# Split data to train and test\n",
    "X_train, X_test, y_train, y_test = train_test_split(float(train_data), float(labels), test_size=0.2, random_state=123)"
   ]
  },
  {
   "cell_type": "code",
   "execution_count": null,
   "metadata": {
    "collapsed": true
   },
   "outputs": [],
   "source": [
    "# Instantitate an XGBosst Classifier\n",
    "xg_clf = xgb.XGBClassifier(objective ='binary:logistic', colsample_bytree = 0.1, learning_rate = 0.1,\n",
    "                max_depth = 10, alpha = 10, n_estimators = 10)\n"
   ]
  },
  {
   "cell_type": "code",
   "execution_count": null,
   "metadata": {
    "collapsed": true
   },
   "outputs": [],
   "source": [
    "# Fit the classifier to the training set\n",
    "xg_clf.fit(X_train,y_train)\n",
    "\n",
    "# Predit test data\n",
    "preds = xg_clf.predict(X_test)\n",
    "\n",
    "# Accuracy\n",
    "accuracy = accuracy_score(y_test, preds)"
   ]
  },
  {
   "cell_type": "code",
   "execution_count": null,
   "metadata": {
    "collapsed": true
   },
   "outputs": [],
   "source": [
    "print(\"Best accuracy: %.2f\" % (accuracy*100))\n"
   ]
  },
  {
   "cell_type": "code",
   "execution_count": null,
   "metadata": {
    "collapsed": true
   },
   "outputs": [],
   "source": []
  }
 ],
 "metadata": {
  "kernelspec": {
   "display_name": "Python 3",
   "language": "python",
   "name": "python3"
  },
  "language_info": {
   "codemirror_mode": {
    "name": "ipython",
    "version": 3
   },
   "file_extension": ".py",
   "mimetype": "text/x-python",
   "name": "python",
   "nbconvert_exporter": "python",
   "pygments_lexer": "ipython3",
   "version": "3.7.0"
  }
 },
 "nbformat": 4,
 "nbformat_minor": 2
}
