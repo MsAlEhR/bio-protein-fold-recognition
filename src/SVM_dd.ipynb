{
 "cells": [
  {
   "cell_type": "markdown",
   "metadata": {},
   "source": [
    "## Training SVM classifier on DD dataset"
   ]
  },
  {
   "cell_type": "markdown",
   "metadata": {},
   "source": [
    "The first step is to read dataset from CSV file"
   ]
  },
  {
   "cell_type": "code",
   "execution_count": null,
   "metadata": {},
   "outputs": [],
   "source": [
    "import pandas as pd\n",
    "\n",
    "dd_dataset = pd.read_csv('./dataset/DD_dataset.csv')"
   ]
  },
  {
   "cell_type": "code",
   "execution_count": 3,
   "metadata": {},
   "outputs": [
    {
     "data": {
      "text/html": [
       "<div>\n",
       "<style scoped>\n",
       "    .dataframe tbody tr th:only-of-type {\n",
       "        vertical-align: middle;\n",
       "    }\n",
       "\n",
       "    .dataframe tbody tr th {\n",
       "        vertical-align: top;\n",
       "    }\n",
       "\n",
       "    .dataframe thead th {\n",
       "        text-align: right;\n",
       "    }\n",
       "</style>\n",
       "<table border=\"1\" class=\"dataframe\">\n",
       "  <thead>\n",
       "    <tr style=\"text-align: right;\">\n",
       "      <th></th>\n",
       "      <th>Fold</th>\n",
       "      <th>Protein name</th>\n",
       "      <th>Feature0</th>\n",
       "      <th>Feature1</th>\n",
       "      <th>Feature2</th>\n",
       "      <th>Feature3</th>\n",
       "      <th>Feature4</th>\n",
       "      <th>Feature5</th>\n",
       "      <th>Feature6</th>\n",
       "      <th>Feature7</th>\n",
       "      <th>...</th>\n",
       "      <th>Feature11</th>\n",
       "      <th>Feature12</th>\n",
       "      <th>Feature13</th>\n",
       "      <th>Feature14</th>\n",
       "      <th>Feature15</th>\n",
       "      <th>Feature16</th>\n",
       "      <th>Feature17</th>\n",
       "      <th>Feature18</th>\n",
       "      <th>Feature19</th>\n",
       "      <th>Feature20</th>\n",
       "    </tr>\n",
       "  </thead>\n",
       "  <tbody>\n",
       "    <tr>\n",
       "      <th>0</th>\n",
       "      <td>Globm-like(alpha)</td>\n",
       "      <td>2LHB</td>\n",
       "      <td>27.516779</td>\n",
       "      <td>41.610738</td>\n",
       "      <td>30.872483</td>\n",
       "      <td>10.810811</td>\n",
       "      <td>10.135135</td>\n",
       "      <td>11.486486</td>\n",
       "      <td>3.0</td>\n",
       "      <td>53.00</td>\n",
       "      <td>...</td>\n",
       "      <td>0.0</td>\n",
       "      <td>27.25</td>\n",
       "      <td>59.5</td>\n",
       "      <td>106.50</td>\n",
       "      <td>148.0</td>\n",
       "      <td>1.0</td>\n",
       "      <td>40.25</td>\n",
       "      <td>82.0</td>\n",
       "      <td>120.25</td>\n",
       "      <td>144.0</td>\n",
       "    </tr>\n",
       "    <tr>\n",
       "      <th>1</th>\n",
       "      <td>Globm-like(alpha)</td>\n",
       "      <td>3SDHA</td>\n",
       "      <td>34.246575</td>\n",
       "      <td>34.246575</td>\n",
       "      <td>31.506849</td>\n",
       "      <td>8.965517</td>\n",
       "      <td>11.724138</td>\n",
       "      <td>11.724138</td>\n",
       "      <td>4.0</td>\n",
       "      <td>33.75</td>\n",
       "      <td>...</td>\n",
       "      <td>0.0</td>\n",
       "      <td>32.50</td>\n",
       "      <td>67.5</td>\n",
       "      <td>110.25</td>\n",
       "      <td>144.0</td>\n",
       "      <td>2.0</td>\n",
       "      <td>41.75</td>\n",
       "      <td>79.5</td>\n",
       "      <td>108.75</td>\n",
       "      <td>145.0</td>\n",
       "    </tr>\n",
       "    <tr>\n",
       "      <th>2</th>\n",
       "      <td>Globm-like(alpha)</td>\n",
       "      <td>1FLP</td>\n",
       "      <td>26.056338</td>\n",
       "      <td>47.183099</td>\n",
       "      <td>26.760563</td>\n",
       "      <td>13.475177</td>\n",
       "      <td>8.510638</td>\n",
       "      <td>11.347518</td>\n",
       "      <td>2.0</td>\n",
       "      <td>41.00</td>\n",
       "      <td>...</td>\n",
       "      <td>0.0</td>\n",
       "      <td>27.50</td>\n",
       "      <td>64.0</td>\n",
       "      <td>105.00</td>\n",
       "      <td>139.0</td>\n",
       "      <td>1.0</td>\n",
       "      <td>38.25</td>\n",
       "      <td>72.5</td>\n",
       "      <td>110.50</td>\n",
       "      <td>141.0</td>\n",
       "    </tr>\n",
       "    <tr>\n",
       "      <th>3</th>\n",
       "      <td>Globm-like(alpha)</td>\n",
       "      <td>2HBG</td>\n",
       "      <td>23.129252</td>\n",
       "      <td>48.979592</td>\n",
       "      <td>27.891156</td>\n",
       "      <td>9.589041</td>\n",
       "      <td>8.219178</td>\n",
       "      <td>13.698630</td>\n",
       "      <td>5.0</td>\n",
       "      <td>29.00</td>\n",
       "      <td>...</td>\n",
       "      <td>0.0</td>\n",
       "      <td>40.25</td>\n",
       "      <td>72.0</td>\n",
       "      <td>112.75</td>\n",
       "      <td>146.0</td>\n",
       "      <td>1.0</td>\n",
       "      <td>34.00</td>\n",
       "      <td>67.0</td>\n",
       "      <td>105.00</td>\n",
       "      <td>144.0</td>\n",
       "    </tr>\n",
       "    <tr>\n",
       "      <th>4</th>\n",
       "      <td>Globm-like(alpha)</td>\n",
       "      <td>2MGE</td>\n",
       "      <td>32.467532</td>\n",
       "      <td>37.012987</td>\n",
       "      <td>30.519481</td>\n",
       "      <td>13.725490</td>\n",
       "      <td>11.764706</td>\n",
       "      <td>9.150327</td>\n",
       "      <td>4.0</td>\n",
       "      <td>42.50</td>\n",
       "      <td>...</td>\n",
       "      <td>3.0</td>\n",
       "      <td>51.00</td>\n",
       "      <td>88.0</td>\n",
       "      <td>119.00</td>\n",
       "      <td>153.0</td>\n",
       "      <td>0.0</td>\n",
       "      <td>28.50</td>\n",
       "      <td>66.0</td>\n",
       "      <td>106.50</td>\n",
       "      <td>149.0</td>\n",
       "    </tr>\n",
       "  </tbody>\n",
       "</table>\n",
       "<p>5 rows × 23 columns</p>\n",
       "</div>"
      ],
      "text/plain": [
       "                Fold Protein name   Feature0   Feature1   Feature2   Feature3  \\\n",
       "0  Globm-like(alpha)         2LHB  27.516779  41.610738  30.872483  10.810811   \n",
       "1  Globm-like(alpha)        3SDHA  34.246575  34.246575  31.506849   8.965517   \n",
       "2  Globm-like(alpha)         1FLP  26.056338  47.183099  26.760563  13.475177   \n",
       "3  Globm-like(alpha)         2HBG  23.129252  48.979592  27.891156   9.589041   \n",
       "4  Globm-like(alpha)         2MGE  32.467532  37.012987  30.519481  13.725490   \n",
       "\n",
       "    Feature4   Feature5  Feature6  Feature7    ...      Feature11  Feature12  \\\n",
       "0  10.135135  11.486486       3.0     53.00    ...            0.0      27.25   \n",
       "1  11.724138  11.724138       4.0     33.75    ...            0.0      32.50   \n",
       "2   8.510638  11.347518       2.0     41.00    ...            0.0      27.50   \n",
       "3   8.219178  13.698630       5.0     29.00    ...            0.0      40.25   \n",
       "4  11.764706   9.150327       4.0     42.50    ...            3.0      51.00   \n",
       "\n",
       "   Feature13  Feature14  Feature15  Feature16  Feature17  Feature18  \\\n",
       "0       59.5     106.50      148.0        1.0      40.25       82.0   \n",
       "1       67.5     110.25      144.0        2.0      41.75       79.5   \n",
       "2       64.0     105.00      139.0        1.0      38.25       72.5   \n",
       "3       72.0     112.75      146.0        1.0      34.00       67.0   \n",
       "4       88.0     119.00      153.0        0.0      28.50       66.0   \n",
       "\n",
       "   Feature19  Feature20  \n",
       "0     120.25      144.0  \n",
       "1     108.75      145.0  \n",
       "2     110.50      141.0  \n",
       "3     105.00      144.0  \n",
       "4     106.50      149.0  \n",
       "\n",
       "[5 rows x 23 columns]"
      ]
     },
     "execution_count": 3,
     "metadata": {},
     "output_type": "execute_result"
    }
   ],
   "source": [
    "dd_dataset.head()"
   ]
  },
  {
   "cell_type": "markdown",
   "metadata": {},
   "source": [
    "Convert class lables to unique integers"
   ]
  },
  {
   "cell_type": "code",
   "execution_count": 4,
   "metadata": {},
   "outputs": [],
   "source": [
    "dd_dataset.insert(1, 'class labels', pd.factorize(dd_dataset.Fold)[0])"
   ]
  },
  {
   "cell_type": "code",
   "execution_count": 5,
   "metadata": {},
   "outputs": [
    {
     "data": {
      "text/html": [
       "<div>\n",
       "<style scoped>\n",
       "    .dataframe tbody tr th:only-of-type {\n",
       "        vertical-align: middle;\n",
       "    }\n",
       "\n",
       "    .dataframe tbody tr th {\n",
       "        vertical-align: top;\n",
       "    }\n",
       "\n",
       "    .dataframe thead th {\n",
       "        text-align: right;\n",
       "    }\n",
       "</style>\n",
       "<table border=\"1\" class=\"dataframe\">\n",
       "  <thead>\n",
       "    <tr style=\"text-align: right;\">\n",
       "      <th></th>\n",
       "      <th>Fold</th>\n",
       "      <th>class labels</th>\n",
       "      <th>Protein name</th>\n",
       "      <th>Feature0</th>\n",
       "      <th>Feature1</th>\n",
       "      <th>Feature2</th>\n",
       "      <th>Feature3</th>\n",
       "      <th>Feature4</th>\n",
       "      <th>Feature5</th>\n",
       "      <th>Feature6</th>\n",
       "      <th>...</th>\n",
       "      <th>Feature11</th>\n",
       "      <th>Feature12</th>\n",
       "      <th>Feature13</th>\n",
       "      <th>Feature14</th>\n",
       "      <th>Feature15</th>\n",
       "      <th>Feature16</th>\n",
       "      <th>Feature17</th>\n",
       "      <th>Feature18</th>\n",
       "      <th>Feature19</th>\n",
       "      <th>Feature20</th>\n",
       "    </tr>\n",
       "  </thead>\n",
       "  <tbody>\n",
       "    <tr>\n",
       "      <th>0</th>\n",
       "      <td>Globm-like(alpha)</td>\n",
       "      <td>0</td>\n",
       "      <td>2LHB</td>\n",
       "      <td>27.516779</td>\n",
       "      <td>41.610738</td>\n",
       "      <td>30.872483</td>\n",
       "      <td>10.810811</td>\n",
       "      <td>10.135135</td>\n",
       "      <td>11.486486</td>\n",
       "      <td>3.0</td>\n",
       "      <td>...</td>\n",
       "      <td>0.0</td>\n",
       "      <td>27.25</td>\n",
       "      <td>59.5</td>\n",
       "      <td>106.50</td>\n",
       "      <td>148.0</td>\n",
       "      <td>1.0</td>\n",
       "      <td>40.25</td>\n",
       "      <td>82.0</td>\n",
       "      <td>120.25</td>\n",
       "      <td>144.0</td>\n",
       "    </tr>\n",
       "    <tr>\n",
       "      <th>1</th>\n",
       "      <td>Globm-like(alpha)</td>\n",
       "      <td>0</td>\n",
       "      <td>3SDHA</td>\n",
       "      <td>34.246575</td>\n",
       "      <td>34.246575</td>\n",
       "      <td>31.506849</td>\n",
       "      <td>8.965517</td>\n",
       "      <td>11.724138</td>\n",
       "      <td>11.724138</td>\n",
       "      <td>4.0</td>\n",
       "      <td>...</td>\n",
       "      <td>0.0</td>\n",
       "      <td>32.50</td>\n",
       "      <td>67.5</td>\n",
       "      <td>110.25</td>\n",
       "      <td>144.0</td>\n",
       "      <td>2.0</td>\n",
       "      <td>41.75</td>\n",
       "      <td>79.5</td>\n",
       "      <td>108.75</td>\n",
       "      <td>145.0</td>\n",
       "    </tr>\n",
       "    <tr>\n",
       "      <th>2</th>\n",
       "      <td>Globm-like(alpha)</td>\n",
       "      <td>0</td>\n",
       "      <td>1FLP</td>\n",
       "      <td>26.056338</td>\n",
       "      <td>47.183099</td>\n",
       "      <td>26.760563</td>\n",
       "      <td>13.475177</td>\n",
       "      <td>8.510638</td>\n",
       "      <td>11.347518</td>\n",
       "      <td>2.0</td>\n",
       "      <td>...</td>\n",
       "      <td>0.0</td>\n",
       "      <td>27.50</td>\n",
       "      <td>64.0</td>\n",
       "      <td>105.00</td>\n",
       "      <td>139.0</td>\n",
       "      <td>1.0</td>\n",
       "      <td>38.25</td>\n",
       "      <td>72.5</td>\n",
       "      <td>110.50</td>\n",
       "      <td>141.0</td>\n",
       "    </tr>\n",
       "    <tr>\n",
       "      <th>3</th>\n",
       "      <td>Globm-like(alpha)</td>\n",
       "      <td>0</td>\n",
       "      <td>2HBG</td>\n",
       "      <td>23.129252</td>\n",
       "      <td>48.979592</td>\n",
       "      <td>27.891156</td>\n",
       "      <td>9.589041</td>\n",
       "      <td>8.219178</td>\n",
       "      <td>13.698630</td>\n",
       "      <td>5.0</td>\n",
       "      <td>...</td>\n",
       "      <td>0.0</td>\n",
       "      <td>40.25</td>\n",
       "      <td>72.0</td>\n",
       "      <td>112.75</td>\n",
       "      <td>146.0</td>\n",
       "      <td>1.0</td>\n",
       "      <td>34.00</td>\n",
       "      <td>67.0</td>\n",
       "      <td>105.00</td>\n",
       "      <td>144.0</td>\n",
       "    </tr>\n",
       "    <tr>\n",
       "      <th>4</th>\n",
       "      <td>Globm-like(alpha)</td>\n",
       "      <td>0</td>\n",
       "      <td>2MGE</td>\n",
       "      <td>32.467532</td>\n",
       "      <td>37.012987</td>\n",
       "      <td>30.519481</td>\n",
       "      <td>13.725490</td>\n",
       "      <td>11.764706</td>\n",
       "      <td>9.150327</td>\n",
       "      <td>4.0</td>\n",
       "      <td>...</td>\n",
       "      <td>3.0</td>\n",
       "      <td>51.00</td>\n",
       "      <td>88.0</td>\n",
       "      <td>119.00</td>\n",
       "      <td>153.0</td>\n",
       "      <td>0.0</td>\n",
       "      <td>28.50</td>\n",
       "      <td>66.0</td>\n",
       "      <td>106.50</td>\n",
       "      <td>149.0</td>\n",
       "    </tr>\n",
       "  </tbody>\n",
       "</table>\n",
       "<p>5 rows × 24 columns</p>\n",
       "</div>"
      ],
      "text/plain": [
       "                Fold  class labels Protein name   Feature0   Feature1  \\\n",
       "0  Globm-like(alpha)             0         2LHB  27.516779  41.610738   \n",
       "1  Globm-like(alpha)             0        3SDHA  34.246575  34.246575   \n",
       "2  Globm-like(alpha)             0         1FLP  26.056338  47.183099   \n",
       "3  Globm-like(alpha)             0         2HBG  23.129252  48.979592   \n",
       "4  Globm-like(alpha)             0         2MGE  32.467532  37.012987   \n",
       "\n",
       "    Feature2   Feature3   Feature4   Feature5  Feature6    ...      Feature11  \\\n",
       "0  30.872483  10.810811  10.135135  11.486486       3.0    ...            0.0   \n",
       "1  31.506849   8.965517  11.724138  11.724138       4.0    ...            0.0   \n",
       "2  26.760563  13.475177   8.510638  11.347518       2.0    ...            0.0   \n",
       "3  27.891156   9.589041   8.219178  13.698630       5.0    ...            0.0   \n",
       "4  30.519481  13.725490  11.764706   9.150327       4.0    ...            3.0   \n",
       "\n",
       "   Feature12  Feature13  Feature14  Feature15  Feature16  Feature17  \\\n",
       "0      27.25       59.5     106.50      148.0        1.0      40.25   \n",
       "1      32.50       67.5     110.25      144.0        2.0      41.75   \n",
       "2      27.50       64.0     105.00      139.0        1.0      38.25   \n",
       "3      40.25       72.0     112.75      146.0        1.0      34.00   \n",
       "4      51.00       88.0     119.00      153.0        0.0      28.50   \n",
       "\n",
       "   Feature18  Feature19  Feature20  \n",
       "0       82.0     120.25      144.0  \n",
       "1       79.5     108.75      145.0  \n",
       "2       72.5     110.50      141.0  \n",
       "3       67.0     105.00      144.0  \n",
       "4       66.0     106.50      149.0  \n",
       "\n",
       "[5 rows x 24 columns]"
      ]
     },
     "execution_count": 5,
     "metadata": {},
     "output_type": "execute_result"
    }
   ],
   "source": [
    "dd_dataset.head()"
   ]
  },
  {
   "cell_type": "markdown",
   "metadata": {},
   "source": [
    "Create a training set from pandas data frame"
   ]
  },
  {
   "cell_type": "code",
   "execution_count": 11,
   "metadata": {},
   "outputs": [
    {
     "name": "stdout",
     "output_type": "stream",
     "text": [
      "int64\n",
      "Number of samples: 311, Number of features: 21\n"
     ]
    }
   ],
   "source": [
    "train_data = dd_dataset[['Feature%d' % i for i in range(21)]].values\n",
    "labels = dd_dataset['class labels'].values\n",
    "\n",
    "print(\"Number of samples: %d, Number of features: %d\" % (train_data.shape[0], train_data.shape[1]))"
   ]
  },
  {
   "cell_type": "markdown",
   "metadata": {},
   "source": [
    "## Data analysis"
   ]
  },
  {
   "cell_type": "code",
   "execution_count": 46,
   "metadata": {},
   "outputs": [
    {
     "data": {
      "text/plain": [
       "Text(0,0.5,'Number of proteins')"
      ]
     },
     "execution_count": 46,
     "metadata": {},
     "output_type": "execute_result"
    },
    {
     "data": {
      "image/png": "[encoded data removed]",
      "text/plain": [
       "<Figure size 432x288 with 1 Axes>"
      ]
     },
     "metadata": {},
     "output_type": "display_data"
    }
   ],
   "source": [
    "# Frequency of folds\n",
    "import matplotlib.pyplot as plt\n",
    "\n",
    "fig, ax = plt.subplots()\n",
    "freq_plot = dd_dataset['Fold'].value_counts().plot(ax=ax, kind='bar')\n",
    "freq_plot.set_ylabel('Number of proteins')"
   ]
  },
  {
   "cell_type": "markdown",
   "metadata": {},
   "source": [
    "## SVM classifier"
   ]
  },
  {
   "cell_type": "code",
   "execution_count": 34,
   "metadata": {},
   "outputs": [],
   "source": [
    "from sklearn.svm import SVC\n",
    "from sklearn.model_selection import GridSearchCV\n",
    "\n",
    "# Hyperparameters\n",
    "kernel = 'rbf'\n",
    "\n",
    "# An instance of SVM classifier\n",
    "svm_cl = SVC(kernel=kernel)"
   ]
  },
  {
   "cell_type": "markdown",
   "metadata": {},
   "source": [
    "Define range of parameters for Grid Search"
   ]
  },
  {
   "cell_type": "code",
   "execution_count": 38,
   "metadata": {},
   "outputs": [],
   "source": [
    "# Penalty parameter\n",
    "c_range = {'C': [float(2**i) for i in range(-5, 6)]}\n",
    "# Gamma parameter for RBF kernel\n",
    "gamma_range = {'gamma': [float(2**i) for i in range(-10, 3)]} if kernel == 'rbf' else {}\n",
    "\n",
    "param_range = {**c_range, **gamma_range}\n",
    "\n",
    "# Arguments for grid search\n",
    "cv_fold = 5\n",
    "n_workers = 2 # Number of CPU threads\n",
    "\n",
    "result = GridSearchCV(svm_cl, param_range, cv=cv_fold, n_jobs=n_workers, refit=False,\n",
    "                      verbose=1)"
   ]
  },
  {
   "cell_type": "markdown",
   "metadata": {},
   "source": [
    "Start grid search!"
   ]
  },
  {
   "cell_type": "code",
   "execution_count": 39,
   "metadata": {},
   "outputs": [
    {
     "name": "stdout",
     "output_type": "stream",
     "text": [
      "Fitting 5 folds for each of 143 candidates, totalling 715 fits\n"
     ]
    },
    {
     "name": "stderr",
     "output_type": "stream",
     "text": [
      "[Parallel(n_jobs=2)]: Done 414 tasks      | elapsed:    4.7s\n",
      "[Parallel(n_jobs=2)]: Done 715 out of 715 | elapsed:    7.8s finished\n"
     ]
    },
    {
     "data": {
      "text/plain": [
       "GridSearchCV(cv=5, error_score='raise',\n",
       "       estimator=SVC(C=1.0, cache_size=200, class_weight=None, coef0=0.0,\n",
       "  decision_function_shape='ovr', degree=3, gamma='auto', kernel='rbf',\n",
       "  max_iter=-1, probability=False, random_state=None, shrinking=True,\n",
       "  tol=0.001, verbose=False),\n",
       "       fit_params=None, iid=True, n_jobs=2,\n",
       "       param_grid={'C': [0.03125, 0.0625, 0.125, 0.25, 0.5, 1.0, 2.0, 4.0, 8.0, 16.0, 32.0], 'gamma': [0.0009765625, 0.001953125, 0.00390625, 0.0078125, 0.015625, 0.03125, 0.0625, 0.125, 0.25, 0.5, 1.0, 2.0, 4.0]},\n",
       "       pre_dispatch='2*n_jobs', refit=False, return_train_score='warn',\n",
       "       scoring=None, verbose=1)"
      ]
     },
     "execution_count": 39,
     "metadata": {},
     "output_type": "execute_result"
    }
   ],
   "source": [
    "result.fit(train_data, labels)"
   ]
  },
  {
   "cell_type": "markdown",
   "metadata": {},
   "source": [
    "Best results"
   ]
  },
  {
   "cell_type": "code",
   "execution_count": 40,
   "metadata": {},
   "outputs": [
    {
     "name": "stdout",
     "output_type": "stream",
     "text": [
      "Best accuracy: 25.40\n"
     ]
    }
   ],
   "source": [
    "print(\"Best accuracy: %.2f\" % (result.best_score_ * 100))"
   ]
  },
  {
   "cell_type": "code",
   "execution_count": null,
   "metadata": {},
   "outputs": [],
   "source": []
  }
 ],
 "metadata": {
  "kernelspec": {
   "display_name": "Python 3",
   "language": "python",
   "name": "python3"
  },
  "language_info": {
   "codemirror_mode": {
    "name": "ipython",
    "version": 3
   },
   "file_extension": ".py",
   "mimetype": "text/x-python",
   "name": "python",
   "nbconvert_exporter": "python",
   "pygments_lexer": "ipython3",
   "version": "3.6.5"
  }
 },
 "nbformat": 4,
 "nbformat_minor": 2
}
